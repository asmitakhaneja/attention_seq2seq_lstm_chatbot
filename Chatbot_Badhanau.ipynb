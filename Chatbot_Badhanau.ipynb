{
  "nbformat": 4,
  "nbformat_minor": 0,
  "metadata": {
    "colab": {
      "name": "Chatbot_Badhanau.ipynb",
      "version": "0.3.2",
      "provenance": [],
      "collapsed_sections": []
    },
    "kernelspec": {
      "name": "python3",
      "display_name": "Python 3"
    },
    "accelerator": "GPU"
  },
  "cells": [
    {
      "cell_type": "code",
      "metadata": {
        "id": "_R6TnbDAxwEM",
        "colab_type": "code",
        "outputId": "2a903c96-d4d9-4a47-a755-dd2298b14fd6",
        "colab": {
          "base_uri": "https://localhost:8080/",
          "height": 34
        }
      },
      "source": [
        "!pip install tqdm\n",
        "  \n",
        "import time, pandas as pd\n",
        "import re, tensorflow as tf, numpy as np\n",
        "from tensorflow.python.ops.rnn_cell_impl import _zero_state_tensors\n",
        "from tqdm import tqdm\n",
        "from tensorflow.python.layers.core import Dense\n",
        "import os"
      ],
      "execution_count": 0,
      "outputs": [
        {
          "output_type": "stream",
          "text": [
            "Requirement already satisfied: tqdm in /usr/local/lib/python3.6/dist-packages (4.28.1)\n"
          ],
          "name": "stdout"
        }
      ]
    },
    {
      "cell_type": "code",
      "metadata": {
        "id": "pUCElnLJyLU_",
        "colab_type": "code",
        "colab": {}
      },
      "source": [
        "from google.colab import drive\n",
        "\n",
        "drive.mount('/content/drive')"
      ],
      "execution_count": 0,
      "outputs": []
    },
    {
      "cell_type": "code",
      "metadata": {
        "id": "oWjeJ2yExwEd",
        "colab_type": "code",
        "colab": {}
      },
      "source": [
        "with open(\"/content/drive/My Drive/datasets/datasets/cornell movie-dialogs corpus/movie_lines.txt\",encoding=\"utf-8\",errors=\"ignore\") as file:\n",
        "    l_raw=file.read().split(\"\\n\")\n",
        "    \n",
        "with open(\"/content/drive/My Drive/datasets/datasets/cornell movie-dialogs corpus/movie_conversations.txt\",encoding=\"utf-8\",errors=\"ignore\")as file:\n",
        "    conversation_raw=file.read().split(\"\\n\")"
      ],
      "execution_count": 0,
      "outputs": []
    },
    {
      "cell_type": "code",
      "metadata": {
        "id": "1IBcM2LaxwEi",
        "colab_type": "code",
        "colab": {}
      },
      "source": [
        "#dictionary with line id and text\n",
        "emp_dict={}\n",
        "for line in l_raw:\n",
        "    inline=line.split(\" +++$+++ \")\n",
        "    if len(inline) == 5:\n",
        "        emp_dict[inline[0]]=inline[4]"
      ],
      "execution_count": 0,
      "outputs": []
    },
    {
      "cell_type": "code",
      "metadata": {
        "id": "fVYuUqujxwEn",
        "colab_type": "code",
        "colab": {}
      },
      "source": [
        "list_conversation_ids=[]\n",
        "\n",
        "for line in conversation_raw[:-1]:\n",
        "    inline=line.split(' +++$+++ ')[-1][1:-1].replace(\"'\",\"\").replace(\" \",\"\")\n",
        "    \n",
        "    list_conversation_ids.append(inline.split(\",\"))"
      ],
      "execution_count": 0,
      "outputs": []
    },
    {
      "cell_type": "code",
      "metadata": {
        "id": "Tzh-dbOpxwEt",
        "colab_type": "code",
        "colab": {}
      },
      "source": [
        "inputs=[] #questions \n",
        "targets=[] #answers\n",
        "\n",
        "\n",
        "for eachid in list_conversation_ids:\n",
        "    #print(eachid)\n",
        "    for i in range(len(eachid)-1):\n",
        "        \n",
        "        inputs.append(emp_dict[eachid[i]])\n",
        "        targets.append(emp_dict[eachid[i+1]])\n",
        "                \n",
        "            "
      ],
      "execution_count": 0,
      "outputs": []
    },
    {
      "cell_type": "code",
      "metadata": {
        "id": "--RPTc2QxwEx",
        "colab_type": "code",
        "colab": {}
      },
      "source": [
        "def data_cleaning(text):\n",
        "    text=text.lower()\n",
        "    text=re.sub(r\"[-()#\\/@{}?!,+.]\",\"\",text)#remove unwanted symbols etc from text\n",
        "    return text"
      ],
      "execution_count": 0,
      "outputs": []
    },
    {
      "cell_type": "code",
      "metadata": {
        "id": "IreUPkMlxwE0",
        "colab_type": "code",
        "colab": {}
      },
      "source": [
        "modi_inputs=[] #clean_questions\n",
        "for text in inputs:\n",
        "    modi_inputs.append(data_cleaning(text))\n",
        "    \n",
        "modi_targets=[] # clean_answers\n",
        "\n",
        "for text in targets:\n",
        "    modi_targets.append(data_cleaning(text))\n",
        "    \n",
        "\n",
        "inputs=modi_inputs\n",
        "targets=modi_targets\n",
        "    \n",
        "    "
      ],
      "execution_count": 0,
      "outputs": []
    },
    {
      "cell_type": "code",
      "metadata": {
        "id": "9yEBYWoyxwE7",
        "colab_type": "code",
        "colab": {}
      },
      "source": [
        "size_input=[len(x.split()) for x in inputs]\n",
        "size_targets=[len(x.split()) for x in targets]\n",
        "size=size_input + size_targets\n",
        "min_size=2\n",
        "max_size=8"
      ],
      "execution_count": 0,
      "outputs": []
    },
    {
      "cell_type": "code",
      "metadata": {
        "scrolled": true,
        "id": "PR79iAlbxwE_",
        "colab_type": "code",
        "colab": {}
      },
      "source": [
        "#removing answers and questions that are too long as they reduced efficiency in trials\n",
        "#first for question\n",
        "\n",
        "inputs_short_real=[]\n",
        "targets_short_real=[]\n",
        "\n",
        "i=0\n",
        "for eachinput in inputs:\n",
        "    if len(eachinput.split()) >=min_size and len(eachinput.split()) <=max_size:\n",
        "        if len(targets[i].split()) >=min_size and len(targets[i].split()) <=max_size:\n",
        "            \n",
        "            inputs_short_real.append(eachinput)\n",
        "            targets_short_real.append(targets[i])\n",
        "        \n",
        "    i+=1\n",
        "    "
      ],
      "execution_count": 0,
      "outputs": []
    },
    {
      "cell_type": "code",
      "metadata": {
        "id": "BcZN7keMxwFF",
        "colab_type": "code",
        "colab": {}
      },
      "source": [
        "#getting occurances of words and removing rare in the next step\n",
        "freq_words={}\n",
        "\n",
        "for eachin in inputs_short_real:\n",
        "    for word in eachin.split():\n",
        "        if word not in freq_words:\n",
        "            freq_words[word]=1\n",
        "        else:\n",
        "            freq_words[word]+=1\n",
        "            \n",
        "\n",
        "for eachin in targets_short_real:\n",
        "    for word in eachin.split():\n",
        "        if word not in freq_words:\n",
        "            freq_words[word]=1\n",
        "        else:\n",
        "            freq_words[word]+=1\n",
        "                        \n",
        "            \n",
        "min_freq=5 #this is an arbitrary value tweak it and compare resutls\n",
        "count=0\n",
        "for k,v in freq_words.items():\n",
        "    if v>=min_freq:\n",
        "        count+=1    "
      ],
      "execution_count": 0,
      "outputs": []
    },
    {
      "cell_type": "code",
      "metadata": {
        "id": "xdGHDL-KxwFJ",
        "colab_type": "code",
        "colab": {}
      },
      "source": [
        "#we can use nltk tokenizer and lametizer but for computational purpose and time we are not using that\n",
        "\n",
        "\n",
        "word2vec_inputs={}\n",
        "\n",
        "num=0\n",
        "\n",
        "for word,count in freq_words.items():\n",
        "    if count>=min_freq:\n",
        "        word2vec_inputs[word]=num\n",
        "        num+=1\n",
        "        \n",
        "        \n",
        "word2vec_targets={}\n",
        "\n",
        "num=0\n",
        "\n",
        "for word,count in freq_words.items():\n",
        "    if count>=min_freq:\n",
        "        word2vec_targets[word]=num\n",
        "        num+=1        "
      ],
      "execution_count": 0,
      "outputs": []
    },
    {
      "cell_type": "code",
      "metadata": {
        "id": "pVXGZeGsxwFO",
        "colab_type": "code",
        "colab": {}
      },
      "source": [
        "unk_etc_tokens=['<pad>','<eos>','<unk>','<go>']\n",
        "\n",
        "for eac in unk_etc_tokens:\n",
        "    word2vec_inputs[eac]=len(word2vec_inputs)+1\n",
        "    \n",
        "for eac in unk_etc_tokens:\n",
        "    word2vec_targets[eac]=len(word2vec_targets)+1    \n",
        "\n",
        "    \n",
        "encoder_vocab_size=len(word2vec_inputs)\n",
        "decoder_vocab_size=len(word2vec_targets)"
      ],
      "execution_count": 0,
      "outputs": []
    },
    {
      "cell_type": "code",
      "metadata": {
        "id": "NztmArPKlilC",
        "colab_type": "code",
        "colab": {}
      },
      "source": [
        "word2vec_inputs[\"<pad>\"]=0\n",
        "word2vec_inputs[\"<unk>\"]=1\n",
        "word2vec_targets[\"<go>\"]=1\n",
        "word2vec_targets[\"<pad>\"]=0"
      ],
      "execution_count": 0,
      "outputs": []
    },
    {
      "cell_type": "code",
      "metadata": {
        "id": "K-37throxwFS",
        "colab_type": "code",
        "colab": {}
      },
      "source": [
        "#now that we have created dictionaries to convert words to vectors we should also create ones that convert\n",
        "#....vectors to words ( its required when we are testing or deploying the chatbot)\n",
        "sequence_len=10\n",
        "dec_sentence_length=12\n",
        "enc_sentence_length=10\n",
        "vec2word_inputs={vec:word for word,vec in word2vec_inputs.items()}\n",
        "vec2word_targets={vec:word for word,vec in word2vec_targets.items()}"
      ],
      "execution_count": 0,
      "outputs": []
    },
    {
      "cell_type": "code",
      "metadata": {
        "id": "JC6Gz_crjL3G",
        "colab_type": "code",
        "outputId": "cca854e1-30ad-4797-d4ae-a9cfd08f3066",
        "colab": {
          "base_uri": "https://localhost:8080/",
          "height": 34
        }
      },
      "source": [
        "import numpy as np\n",
        "np.shape(inputs_short_real)"
      ],
      "execution_count": 0,
      "outputs": [
        {
          "output_type": "execute_result",
          "data": {
            "text/plain": [
              "(60324,)"
            ]
          },
          "metadata": {
            "tags": []
          },
          "execution_count": 19
        }
      ]
    },
    {
      "cell_type": "code",
      "metadata": {
        "id": "yqBn9AzJo9Ty",
        "colab_type": "code",
        "colab": {}
      },
      "source": [
        "inputs_short_real=inputs_short_real[:10000]\n",
        "targets_short_real=targets_short_real[:10000]"
      ],
      "execution_count": 0,
      "outputs": []
    },
    {
      "cell_type": "code",
      "metadata": {
        "id": "hBcacPuJoq_8",
        "colab_type": "code",
        "colab": {}
      },
      "source": [
        "encoder_input=np.zeros([len(inputs_short_real),enc_sentence_length],dtype=\"int32\")\n",
        "decoder_input=np.zeros([len(targets_short_real),dec_sentence_length],dtype=\"int32\")"
      ],
      "execution_count": 0,
      "outputs": []
    },
    {
      "cell_type": "code",
      "metadata": {
        "id": "L9fJbFhSorDV",
        "colab_type": "code",
        "colab": {}
      },
      "source": [
        "for i,(input_data,target_data) in enumerate(zip(inputs_short_real,targets_short_real)):\n",
        "  line=0\n",
        "  #print(input_data)\n",
        "  for char in input_data.split():\n",
        "    \n",
        "    char=char.lower()\n",
        "    try:\n",
        "      encoder_input[i,line]=word2vec_inputs[char]\n",
        "    except:\n",
        "      encoder_input[i,line]=word2vec_inputs[\"<unk>\"]\n",
        "    line+=1\n",
        "    \n",
        "  line=0\n",
        "  #print(input_data)\n",
        "  for char in target_data.split():\n",
        "    \n",
        "    char=char.lower()\n",
        "    try:\n",
        "      decoder_input[i,line]=word2vec_targets[char]\n",
        "    except:\n",
        "      decoder_input[i,line]=word2vec_targets[\"<unk>\"]\n",
        "    line+=1  "
      ],
      "execution_count": 0,
      "outputs": []
    },
    {
      "cell_type": "code",
      "metadata": {
        "id": "tH3qi-DPxwFg",
        "colab_type": "code",
        "colab": {}
      },
      "source": [
        "class DemoConfig:\n",
        "    attention_size = 512\n",
        "    hidden_size = 512\n",
        "    encoder_embedding_size = 5000\n",
        "    decoder_embedding_size = 5000\n",
        "   \n",
        "    cell = tf.contrib.cudnn_rnn.CudnnCompatibleLSTMCell #can choose a basic cpu supported cell as well will only make computation slower, performance will be same\n",
        "    \n",
        "    optimizer = tf.train.RMSPropOptimizer\n",
        "    n_epoch = 1001\n",
        "    learning_rate = 0.001\n",
        "    start_token =1# word2vec_targets[\"<go>\"]\n",
        "    end_token =0# word2vec_targets[\"<pad>\"]\n",
        "\n",
        "    \n",
        "    ckpt_dir = './ckpt_dir/'"
      ],
      "execution_count": 0,
      "outputs": []
    },
    {
      "cell_type": "code",
      "metadata": {
        "id": "nuDQXaZ7pbRd",
        "colab_type": "code",
        "colab": {}
      },
      "source": [
        "def wordtovector(incoming,input_token_index=word2vec_inputs,decoder_target=False):\n",
        "  \n",
        "  if decoder_target:\n",
        "    outer=[word2vec_targets[\"<go>\"]] + incoming\n",
        "    #print(outer)\n",
        "    #print(\"enco\",len(outer))\n",
        "    return outer,len(outer)\n",
        "  \n",
        "  else:\n",
        "    #print(np.shape(incoming))\n",
        "    #print(\"enco\",len(incoming))\n",
        "    return incoming,len(incoming)\n",
        "\n"
      ],
      "execution_count": 0,
      "outputs": []
    },
    {
      "cell_type": "code",
      "metadata": {
        "id": "yNTZg47Bp3Tg",
        "colab_type": "code",
        "colab": {}
      },
      "source": [
        "inputs_short_real=np.reshape(encoder_input,[25,400,10]).tolist()\n",
        "targets_short_real=np.reshape(decoder_input,[25,400,12]).tolist()"
      ],
      "execution_count": 0,
      "outputs": []
    },
    {
      "cell_type": "code",
      "metadata": {
        "id": "e5GRlPbyxwFl",
        "colab_type": "code",
        "colab": {}
      },
      "source": [
        "class Seq2SeqModel(object):\n",
        "    def __init__(self, config, mode='training'):\n",
        "        assert mode in ['training','inference']\n",
        "        self.mode = mode\n",
        "        self.hidden_size = config.hidden_size\n",
        "        self.encoder_embedding_size = config.encoder_embedding_size\n",
        "        self.decoder_embedding_size = config.decoder_embedding_size\n",
        "        self.attention_size = config.attention_size\n",
        "        self.cell = config.cell\n",
        "        self.optimizer = config.optimizer\n",
        "        self.n_epoch = config.n_epoch\n",
        "        self.learning_rate = config.learning_rate\n",
        "        \n",
        "        self.start_token = config.start_token\n",
        "        self.end_token = config.end_token\n",
        "        self.ckpt_dir = config.ckpt_dir\n",
        "        \n",
        "    def add_placeholders(self):\n",
        "        self.enc_inputs = tf.placeholder(tf.int32,shape=[None, enc_sentence_length],name='input_sentences')\n",
        "\n",
        "        self.enc_sequence_length = tf.placeholder(tf.int32,shape=[None,],name='input_sequence_length')\n",
        "        \n",
        "        if self.mode == 'training':\n",
        "            self.dec_inputs = tf.placeholder(tf.int32,shape=[None, dec_sentence_length+1],name='target_sentences')#reduced +1\n",
        "\n",
        "            self.dec_sequence_length = tf.placeholder(tf.int32,shape=[None,],name='target_sequence_length')\n",
        "            \n",
        "            self.targets=tf.placeholder(tf.int32,shape=[None,dec_sentence_length])\n",
        "            \n",
        "    def add_encoder(self):\n",
        "        with tf.variable_scope('Encoder') as scope:\n",
        "            with tf.device('/CPU:0'):\n",
        "                self.enc_Wemb = tf.get_variable('embedding',initializer=tf.random_uniform([encoder_vocab_size+1, self.encoder_embedding_size]),dtype=tf.float32)\n",
        "\n",
        "            \n",
        "            enc_emb_inputs = tf.nn.embedding_lookup(self.enc_Wemb, self.enc_inputs, name='emb_inputs')\n",
        "            enc_cell = self.cell(self.hidden_size)\n",
        "            self.enc_outputs, self.enc_last_state = tf.nn.dynamic_rnn(cell=enc_cell,inputs=enc_emb_inputs,sequence_length=self.enc_sequence_length,time_major=False,dtype=tf.float32)\n",
        "            \n",
        "    def add_decoder(self):\n",
        "        with tf.variable_scope('Decoder') as scope:\n",
        "            with tf.device('/CPU:0'):\n",
        "                self.dec_Wemb = tf.get_variable('embedding',initializer=tf.random_uniform([decoder_vocab_size+2, self.decoder_embedding_size]),dtype=tf.float32)\n",
        "            \n",
        "            \n",
        "            batch_size = tf.shape(self.enc_inputs)[0]\n",
        "\n",
        "            dec_cell = self.cell(self.hidden_size)\n",
        "            \n",
        "            attn_mech = tf.contrib.seq2seq.BahdanauAttention(num_units=self.attention_size,memory=self.enc_outputs,memory_sequence_length=self.enc_sequence_length,name='LuongAttention')\n",
        "\n",
        "            \n",
        "            dec_cell = tf.contrib.seq2seq.AttentionWrapper(cell=dec_cell,attention_mechanism=attn_mech,attention_layer_size=self.attention_size,name='Attention_Wrapper')\n",
        "            \n",
        "            initial_state=dec_cell.zero_state(dtype=tf.float32, batch_size=batch_size)\n",
        "            output_layer = Dense(decoder_vocab_size+2, name='output_projection')\n",
        "            \n",
        "            if self.mode == 'training':\n",
        "\n",
        "              \n",
        "                max_dec_len = tf.reduce_max(self.dec_sequence_length-1, name='max_dec_len')#+1 excluded from dec_sequence_length\n",
        "\n",
        "                dec_emb_inputs = tf.nn.embedding_lookup(self.dec_Wemb, self.dec_inputs, name='emb_inputs')\n",
        "        \n",
        "                training_helper = tf.contrib.seq2seq.TrainingHelper(inputs=dec_emb_inputs,sequence_length=self.dec_sequence_length+1,time_major=False,name='training_helper')\n",
        "\n",
        "                training_decoder = tf.contrib.seq2seq.BasicDecoder(cell=dec_cell,helper=training_helper,initial_state=initial_state,output_layer=output_layer) \n",
        "\n",
        "                train_dec_outputs, train_dec_last_state, _ = tf.contrib.seq2seq.dynamic_decode(training_decoder,output_time_major=False,impute_finished=True,maximum_iterations=max_dec_len)\n",
        "                \n",
        "\n",
        "                logits = tf.identity(train_dec_outputs.rnn_output, name='logits')\n",
        "                \n",
        "                \n",
        "                targets=self.targets\n",
        "                \n",
        "                #targets = tf.slice(self.dec_inputs, [0, 0], [-1, max_dec_len], 'targets')\n",
        "                #print(targets)\n",
        "                \n",
        "                \n",
        "                masks = tf.sequence_mask(self.dec_sequence_length+1, max_dec_len, dtype=tf.float32, name='masks')\n",
        "                \n",
        "                \n",
        "                self.batch_loss = tf.contrib.seq2seq.sequence_loss(logits=logits,targets=targets,weights=masks,name='batch_loss')\n",
        "                \n",
        "                \n",
        "                self.valid_predictions = tf.identity(train_dec_outputs.sample_id, name='valid_preds')\n",
        "            \n",
        "            elif self.mode == 'inference':\n",
        "            \n",
        "                start_tokens = tf.tile(tf.constant([self.start_token], dtype=tf.int32), [batch_size], name='start_tokens')\n",
        "            \n",
        "                inference_helper = tf.contrib.seq2seq.GreedyEmbeddingHelper(embedding=self.dec_Wemb,start_tokens=start_tokens,end_token=self.end_token)\n",
        "                \n",
        "                inference_decoder = tf.contrib.seq2seq.BasicDecoder(cell=dec_cell,helper=inference_helper,initial_state=initial_state,output_layer=output_layer)\n",
        "                \n",
        "                infer_dec_outputs, infer_dec_last_state, _ = tf.contrib.seq2seq.dynamic_decode(inference_decoder,output_time_major=False,impute_finished=True,maximum_iterations=dec_sentence_length)\n",
        "                \n",
        "                self.predictions = tf.identity(infer_dec_outputs.sample_id, name='predictions')\n",
        "               \n",
        "        \n",
        "    def add_training_op(self):\n",
        "        self.training_op = self.optimizer(self.learning_rate, name='training_op').minimize(self.batch_loss)\n",
        "        \n",
        "    def save(self, sess, var_list=None, save_path=None):\n",
        "        print('Saving model at {save_path}')\n",
        "        if hasattr(self, 'training_variables'):\n",
        "            var_list = self.training_variables\n",
        "        saver = tf.train.Saver(var_list)\n",
        "        saver.save(sess, save_path, write_meta_graph=False)\n",
        "        \n",
        "    def restore(self, sess, var_list=None, ckpt_path=None):\n",
        "        if hasattr(self, 'training_variables'):\n",
        "            var_list = self.training_variables\n",
        "        self.restorer = tf.train.Saver(var_list)\n",
        "        self.restorer.restore(sess, ckpt_path)\n",
        "        print('Restore Finished!')\n",
        "        \n",
        "    def summary(self):\n",
        "        summary_writer = tf.summary.FileWriter(\n",
        "            logdir=self.ckpt_dir,\n",
        "            graph=tf.get_default_graph())\n",
        "        \n",
        "    def build(self):\n",
        "        self.add_placeholders()\n",
        "        self.add_encoder()\n",
        "        self.add_decoder()\n",
        "\n",
        "    def train(self, sess, data, from_scratch=False,\n",
        "              load_ckpt=None, save_path=None):\n",
        "        \n",
        "        \n",
        "        if from_scratch is False and os.path.isfile(load_ckpt):\n",
        "            self.restore(sess, ckpt_path=load_ckpt)\n",
        "    \n",
        "        \n",
        "        self.add_training_op()\n",
        "        \n",
        "        sess.run(tf.global_variables_initializer())\n",
        "        \n",
        "        inputs_data_real, targets_data_real = data\n",
        "        loss_history = []\n",
        "        \n",
        "        for epoch in tqdm(range(self.n_epoch)):\n",
        "\n",
        "            all_preds = []\n",
        "            epoch_loss = 0\n",
        "            for input_batch, target_batch in zip(inputs_data_real, targets_data_real):\n",
        "                input_batch_tokens = []\n",
        "                target_batch_tokens = []\n",
        "                enc_sentence_lengths = []\n",
        "                dec_sentence_lengths = []\n",
        "                actual_target_tokens=[]\n",
        "                \n",
        "                for input_sent in input_batch:\n",
        "                  tokens, sent_len = wordtovector(input_sent)\n",
        "                  input_batch_tokens.append(tokens)\n",
        "                  enc_sentence_lengths.append(sent_len)\n",
        "\n",
        "                for target_sent in target_batch:\n",
        "                  tokens, sent_len = wordtovector(target_sent,input_token_index=word2vec_targets,decoder_target=True)\n",
        "                                 \n",
        "                  target_batch_tokens.append(tokens)\n",
        "                  dec_sentence_lengths.append(sent_len)\n",
        "                  \n",
        "                for target_sent in target_batch:\n",
        "                  tokens, sent_len = wordtovector(target_sent)\n",
        "                  #print(sent_len)\n",
        "                                 \n",
        "                  actual_target_tokens.append(tokens)\n",
        "                   \n",
        "                  \n",
        "                #print()  \n",
        "                #print(\"inpu\",input_batch_tokens)  \n",
        "                #print(\"t\",target_batch_tokens)\n",
        "                # Evaluate 3 ops in the graph\n",
        "                # => valid_predictions, loss, training_op(optimzier)\n",
        "                batch_preds, batch_loss, _ = sess.run(\n",
        "                    [self.valid_predictions, self.batch_loss, self.training_op],\n",
        "                    feed_dict={\n",
        "                        self.enc_inputs: input_batch_tokens,\n",
        "                        self.enc_sequence_length: enc_sentence_lengths,\n",
        "                        self.dec_inputs: target_batch_tokens,\n",
        "                        self.dec_sequence_length: dec_sentence_lengths,\n",
        "                        self.targets:actual_target_tokens,\n",
        "                    })\n",
        "                # loss_history.append(batch_loss)\n",
        "                epoch_loss += batch_loss\n",
        "                all_preds.append(batch_preds)\n",
        "                \n",
        "            loss_history.append(epoch_loss)\n",
        "\n",
        "            \n",
        "            if epoch % 2 == 0:\n",
        "                print('Epoch', epoch)\n",
        "                #for input_batch, target_batch, batch_preds in zip(inputs_data_real, targets_data_real, all_preds):\n",
        "                 #   for input_sent, target_sent, pred in zip(input_batch, target_batch, batch_preds):\n",
        "                      \n",
        "                        #pass\n",
        "                 #       print('\\tInput: {input_sent}')\n",
        "                      #print('\\tPrediction:'pred)\n",
        "                 #       print('\\tTarget:, {%s}'%target_sent)\n",
        "                print('\\tepoch loss: {epoch_loss:%s}\\n'%epoch_loss)\n",
        "                \n",
        "        if save_path:\n",
        "            self.save(sess, save_path=save_path)\n",
        "\n",
        "        return loss_history\n",
        "    \n",
        "    def inference(self, sess, data, load_ckpt):\n",
        "        \n",
        "        self.restore(sess, ckpt_path=load_ckpt)\n",
        "        \n",
        "        input_batch, target_batch = data\n",
        "\n",
        "        batch_preds = []\n",
        "        batch_tokens = []\n",
        "        batch_sent_lens = []\n",
        "        \n",
        "        for input_sent in [input_batch]:\n",
        "            tokens, sent_len = wordtovector(input_sent)\n",
        "            batch_tokens.append(tokens)\n",
        "            batch_sent_lens.append(sent_len)\n",
        "            \n",
        "        batch_preds = sess.run(\n",
        "            self.predictions,\n",
        "            feed_dict={\n",
        "                self.enc_inputs: batch_tokens,\n",
        "                self.enc_sequence_length: batch_sent_lens,\n",
        "            })\n",
        "\n",
        "        for input_sent, target_sent, pred in zip(input_batch, target_batch, batch_preds):\n",
        "          language=\"en\"\n",
        "          pred= \" \".join([vec2word_targets[x] for x in pred])\n",
        "          print(pred)\n",
        "          #myobj=gTTS(text=pred,lang=language,slow=False)\n",
        "\n",
        "          #myobj.save(\"new.mp3\")\n",
        "          #temp=easygui.msgbox(title=\"Tiger the chatbot\",msg=pred)\n",
        "          #ipd.Audio(\"new.mp3\",autoplay=True)"
      ],
      "execution_count": 0,
      "outputs": []
    },
    {
      "cell_type": "code",
      "metadata": {
        "id": "5296sPXW1wmP",
        "colab_type": "code",
        "outputId": "fd511ca7-18dd-4be1-ef03-be8a646622e3",
        "colab": {
          "base_uri": "https://localhost:8080/",
          "height": 51
        }
      },
      "source": [
        "!cp -r 'drive/My Drive/ckpt_dir/' ckpt_dir/\n",
        "!ls ckpt_dir/"
      ],
      "execution_count": 0,
      "outputs": [
        {
          "output_type": "stream",
          "text": [
            "checkpoint  epoch_1001_attention.data-00000-of-00001\n",
            "ckpt_dir    epoch_1001_attention.index\n"
          ],
          "name": "stdout"
        }
      ]
    },
    {
      "cell_type": "code",
      "metadata": {
        "id": "wZ4wgUCIxwFs",
        "colab_type": "code",
        "outputId": "f981b01e-dac6-4587-c0ea-f40222bf573f",
        "colab": {
          "base_uri": "https://localhost:8080/",
          "height": 25602
        }
      },
      "source": [
        "#tf.reset_default_graph()     \n",
        "\n",
        "\"\"\"\n",
        "with tf.Session() as sess:\n",
        "    config = DemoConfig()\n",
        "    model = Seq2SeqModel(config, mode='training')\n",
        "    model.build()\n",
        "    data = (inputs_short_real, targets_short_real)\n",
        "    loss_history = model.train(sess, data, load_ckpt=model.ckpt_dir+f'epoch_{model.n_epoch}_attention', save_path=model.ckpt_dir+f'epoch_{model.n_epoch}_attention')\n",
        "    \n",
        "\"\"\"\n",
        "    "
      ],
      "execution_count": 0,
      "outputs": [
        {
          "output_type": "stream",
          "text": [
            "  0%|          | 1/1001 [00:17<4:57:37, 17.86s/it]"
          ],
          "name": "stderr"
        },
        {
          "output_type": "stream",
          "text": [
            "Epoch 0\n",
            "\tepoch loss: {epoch_loss:197.46082162857056}\n",
            "\n"
          ],
          "name": "stdout"
        },
        {
          "output_type": "stream",
          "text": [
            "  0%|          | 3/1001 [00:49<4:41:36, 16.93s/it]"
          ],
          "name": "stderr"
        },
        {
          "output_type": "stream",
          "text": [
            "Epoch 2\n",
            "\tepoch loss: {epoch_loss:87.03668117523193}\n",
            "\n"
          ],
          "name": "stdout"
        },
        {
          "output_type": "stream",
          "text": [
            "  0%|          | 5/1001 [01:22<4:33:52, 16.50s/it]"
          ],
          "name": "stderr"
        },
        {
          "output_type": "stream",
          "text": [
            "Epoch 4\n",
            "\tepoch loss: {epoch_loss:76.67029666900635}\n",
            "\n"
          ],
          "name": "stdout"
        },
        {
          "output_type": "stream",
          "text": [
            "  1%|          | 7/1001 [01:54<4:29:35, 16.27s/it]"
          ],
          "name": "stderr"
        },
        {
          "output_type": "stream",
          "text": [
            "Epoch 6\n",
            "\tepoch loss: {epoch_loss:66.091721534729}\n",
            "\n"
          ],
          "name": "stdout"
        },
        {
          "output_type": "stream",
          "text": [
            "  1%|          | 9/1001 [02:26<4:26:30, 16.12s/it]"
          ],
          "name": "stderr"
        },
        {
          "output_type": "stream",
          "text": [
            "Epoch 8\n",
            "\tepoch loss: {epoch_loss:62.20411658287048}\n",
            "\n"
          ],
          "name": "stdout"
        },
        {
          "output_type": "stream",
          "text": [
            "  1%|          | 11/1001 [02:58<4:24:51, 16.05s/it]"
          ],
          "name": "stderr"
        },
        {
          "output_type": "stream",
          "text": [
            "Epoch 10\n",
            "\tepoch loss: {epoch_loss:60.38201665878296}\n",
            "\n"
          ],
          "name": "stdout"
        },
        {
          "output_type": "stream",
          "text": [
            "  1%|▏         | 13/1001 [03:30<4:23:48, 16.02s/it]"
          ],
          "name": "stderr"
        },
        {
          "output_type": "stream",
          "text": [
            "Epoch 12\n",
            "\tepoch loss: {epoch_loss:59.032498598098755}\n",
            "\n"
          ],
          "name": "stdout"
        },
        {
          "output_type": "stream",
          "text": [
            "  1%|▏         | 15/1001 [04:02<4:23:32, 16.04s/it]"
          ],
          "name": "stderr"
        },
        {
          "output_type": "stream",
          "text": [
            "Epoch 14\n",
            "\tepoch loss: {epoch_loss:58.110400915145874}\n",
            "\n"
          ],
          "name": "stdout"
        },
        {
          "output_type": "stream",
          "text": [
            "  2%|▏         | 17/1001 [04:34<4:22:34, 16.01s/it]"
          ],
          "name": "stderr"
        },
        {
          "output_type": "stream",
          "text": [
            "Epoch 16\n",
            "\tepoch loss: {epoch_loss:56.800230503082275}\n",
            "\n"
          ],
          "name": "stdout"
        },
        {
          "output_type": "stream",
          "text": [
            "  2%|▏         | 19/1001 [05:06<4:22:32, 16.04s/it]"
          ],
          "name": "stderr"
        },
        {
          "output_type": "stream",
          "text": [
            "Epoch 18\n",
            "\tepoch loss: {epoch_loss:55.731229305267334}\n",
            "\n"
          ],
          "name": "stdout"
        },
        {
          "output_type": "stream",
          "text": [
            "  2%|▏         | 21/1001 [05:38<4:22:01, 16.04s/it]"
          ],
          "name": "stderr"
        },
        {
          "output_type": "stream",
          "text": [
            "Epoch 20\n",
            "\tepoch loss: {epoch_loss:54.74327206611633}\n",
            "\n"
          ],
          "name": "stdout"
        },
        {
          "output_type": "stream",
          "text": [
            "  2%|▏         | 23/1001 [06:10<4:22:35, 16.11s/it]"
          ],
          "name": "stderr"
        },
        {
          "output_type": "stream",
          "text": [
            "Epoch 22\n",
            "\tepoch loss: {epoch_loss:54.04501783847809}\n",
            "\n"
          ],
          "name": "stdout"
        },
        {
          "output_type": "stream",
          "text": [
            "  2%|▏         | 25/1001 [06:43<4:22:18, 16.13s/it]"
          ],
          "name": "stderr"
        },
        {
          "output_type": "stream",
          "text": [
            "Epoch 24\n",
            "\tepoch loss: {epoch_loss:53.394983410835266}\n",
            "\n"
          ],
          "name": "stdout"
        },
        {
          "output_type": "stream",
          "text": [
            "  3%|▎         | 27/1001 [07:15<4:21:02, 16.08s/it]"
          ],
          "name": "stderr"
        },
        {
          "output_type": "stream",
          "text": [
            "Epoch 26\n",
            "\tepoch loss: {epoch_loss:52.49008393287659}\n",
            "\n"
          ],
          "name": "stdout"
        },
        {
          "output_type": "stream",
          "text": [
            "  3%|▎         | 29/1001 [07:47<4:19:36, 16.03s/it]"
          ],
          "name": "stderr"
        },
        {
          "output_type": "stream",
          "text": [
            "Epoch 28\n",
            "\tepoch loss: {epoch_loss:51.92130088806152}\n",
            "\n"
          ],
          "name": "stdout"
        },
        {
          "output_type": "stream",
          "text": [
            "  3%|▎         | 31/1001 [08:19<4:19:30, 16.05s/it]"
          ],
          "name": "stderr"
        },
        {
          "output_type": "stream",
          "text": [
            "Epoch 30\n",
            "\tepoch loss: {epoch_loss:51.23926484584808}\n",
            "\n"
          ],
          "name": "stdout"
        },
        {
          "output_type": "stream",
          "text": [
            "  3%|▎         | 33/1001 [08:51<4:18:57, 16.05s/it]"
          ],
          "name": "stderr"
        },
        {
          "output_type": "stream",
          "text": [
            "Epoch 32\n",
            "\tepoch loss: {epoch_loss:50.687605023384094}\n",
            "\n"
          ],
          "name": "stdout"
        },
        {
          "output_type": "stream",
          "text": [
            "  3%|▎         | 35/1001 [09:23<4:18:08, 16.03s/it]"
          ],
          "name": "stderr"
        },
        {
          "output_type": "stream",
          "text": [
            "Epoch 34\n",
            "\tepoch loss: {epoch_loss:50.13546001911163}\n",
            "\n"
          ],
          "name": "stdout"
        },
        {
          "output_type": "stream",
          "text": [
            "  4%|▎         | 37/1001 [09:55<4:17:44, 16.04s/it]"
          ],
          "name": "stderr"
        },
        {
          "output_type": "stream",
          "text": [
            "Epoch 36\n",
            "\tepoch loss: {epoch_loss:49.45836615562439}\n",
            "\n"
          ],
          "name": "stdout"
        },
        {
          "output_type": "stream",
          "text": [
            "  4%|▍         | 39/1001 [10:27<4:17:14, 16.04s/it]"
          ],
          "name": "stderr"
        },
        {
          "output_type": "stream",
          "text": [
            "Epoch 38\n",
            "\tepoch loss: {epoch_loss:48.858248591423035}\n",
            "\n"
          ],
          "name": "stdout"
        },
        {
          "output_type": "stream",
          "text": [
            "  4%|▍         | 41/1001 [10:59<4:16:29, 16.03s/it]"
          ],
          "name": "stderr"
        },
        {
          "output_type": "stream",
          "text": [
            "Epoch 40\n",
            "\tepoch loss: {epoch_loss:48.49812150001526}\n",
            "\n"
          ],
          "name": "stdout"
        },
        {
          "output_type": "stream",
          "text": [
            "  4%|▍         | 43/1001 [11:31<4:14:51, 15.96s/it]"
          ],
          "name": "stderr"
        },
        {
          "output_type": "stream",
          "text": [
            "Epoch 42\n",
            "\tepoch loss: {epoch_loss:47.809539675712585}\n",
            "\n"
          ],
          "name": "stdout"
        },
        {
          "output_type": "stream",
          "text": [
            "  4%|▍         | 45/1001 [12:03<4:13:26, 15.91s/it]"
          ],
          "name": "stderr"
        },
        {
          "output_type": "stream",
          "text": [
            "Epoch 44\n",
            "\tepoch loss: {epoch_loss:47.07212769985199}\n",
            "\n"
          ],
          "name": "stdout"
        },
        {
          "output_type": "stream",
          "text": [
            "  5%|▍         | 47/1001 [12:34<4:12:35, 15.89s/it]"
          ],
          "name": "stderr"
        },
        {
          "output_type": "stream",
          "text": [
            "Epoch 46\n",
            "\tepoch loss: {epoch_loss:46.682642698287964}\n",
            "\n"
          ],
          "name": "stdout"
        },
        {
          "output_type": "stream",
          "text": [
            "  5%|▍         | 49/1001 [13:06<4:11:57, 15.88s/it]"
          ],
          "name": "stderr"
        },
        {
          "output_type": "stream",
          "text": [
            "Epoch 48\n",
            "\tepoch loss: {epoch_loss:45.93024444580078}\n",
            "\n"
          ],
          "name": "stdout"
        },
        {
          "output_type": "stream",
          "text": [
            "  5%|▌         | 51/1001 [13:38<4:10:38, 15.83s/it]"
          ],
          "name": "stderr"
        },
        {
          "output_type": "stream",
          "text": [
            "Epoch 50\n",
            "\tepoch loss: {epoch_loss:45.41669428348541}\n",
            "\n"
          ],
          "name": "stdout"
        },
        {
          "output_type": "stream",
          "text": [
            "  5%|▌         | 53/1001 [14:09<4:10:05, 15.83s/it]"
          ],
          "name": "stderr"
        },
        {
          "output_type": "stream",
          "text": [
            "Epoch 52\n",
            "\tepoch loss: {epoch_loss:44.952640652656555}\n",
            "\n"
          ],
          "name": "stdout"
        },
        {
          "output_type": "stream",
          "text": [
            "  5%|▌         | 55/1001 [14:41<4:10:26, 15.88s/it]"
          ],
          "name": "stderr"
        },
        {
          "output_type": "stream",
          "text": [
            "Epoch 54\n",
            "\tepoch loss: {epoch_loss:44.3799444437027}\n",
            "\n"
          ],
          "name": "stdout"
        },
        {
          "output_type": "stream",
          "text": [
            "  6%|▌         | 57/1001 [15:13<4:10:26, 15.92s/it]"
          ],
          "name": "stderr"
        },
        {
          "output_type": "stream",
          "text": [
            "Epoch 56\n",
            "\tepoch loss: {epoch_loss:43.94668531417847}\n",
            "\n"
          ],
          "name": "stdout"
        },
        {
          "output_type": "stream",
          "text": [
            "  6%|▌         | 59/1001 [15:45<4:10:27, 15.95s/it]"
          ],
          "name": "stderr"
        },
        {
          "output_type": "stream",
          "text": [
            "Epoch 58\n",
            "\tepoch loss: {epoch_loss:43.4525591135025}\n",
            "\n"
          ],
          "name": "stdout"
        },
        {
          "output_type": "stream",
          "text": [
            "  6%|▌         | 61/1001 [16:17<4:10:02, 15.96s/it]"
          ],
          "name": "stderr"
        },
        {
          "output_type": "stream",
          "text": [
            "Epoch 60\n",
            "\tepoch loss: {epoch_loss:42.89430904388428}\n",
            "\n"
          ],
          "name": "stdout"
        },
        {
          "output_type": "stream",
          "text": [
            "  6%|▋         | 63/1001 [16:49<4:09:16, 15.95s/it]"
          ],
          "name": "stderr"
        },
        {
          "output_type": "stream",
          "text": [
            "Epoch 62\n",
            "\tepoch loss: {epoch_loss:42.504006028175354}\n",
            "\n"
          ],
          "name": "stdout"
        },
        {
          "output_type": "stream",
          "text": [
            "  6%|▋         | 65/1001 [17:21<4:08:48, 15.95s/it]"
          ],
          "name": "stderr"
        },
        {
          "output_type": "stream",
          "text": [
            "Epoch 64\n",
            "\tepoch loss: {epoch_loss:41.97305655479431}\n",
            "\n"
          ],
          "name": "stdout"
        },
        {
          "output_type": "stream",
          "text": [
            "  7%|▋         | 67/1001 [17:53<4:07:53, 15.92s/it]"
          ],
          "name": "stderr"
        },
        {
          "output_type": "stream",
          "text": [
            "Epoch 66\n",
            "\tepoch loss: {epoch_loss:41.499308586120605}\n",
            "\n"
          ],
          "name": "stdout"
        },
        {
          "output_type": "stream",
          "text": [
            "  7%|▋         | 69/1001 [18:24<4:07:13, 15.92s/it]"
          ],
          "name": "stderr"
        },
        {
          "output_type": "stream",
          "text": [
            "Epoch 68\n",
            "\tepoch loss: {epoch_loss:40.94165921211243}\n",
            "\n"
          ],
          "name": "stdout"
        },
        {
          "output_type": "stream",
          "text": [
            "  7%|▋         | 71/1001 [18:56<4:05:58, 15.87s/it]"
          ],
          "name": "stderr"
        },
        {
          "output_type": "stream",
          "text": [
            "Epoch 70\n",
            "\tepoch loss: {epoch_loss:40.4810186624527}\n",
            "\n"
          ],
          "name": "stdout"
        },
        {
          "output_type": "stream",
          "text": [
            "  7%|▋         | 73/1001 [19:28<4:05:28, 15.87s/it]"
          ],
          "name": "stderr"
        },
        {
          "output_type": "stream",
          "text": [
            "Epoch 72\n",
            "\tepoch loss: {epoch_loss:40.010889172554016}\n",
            "\n"
          ],
          "name": "stdout"
        },
        {
          "output_type": "stream",
          "text": [
            "  7%|▋         | 75/1001 [20:00<4:05:33, 15.91s/it]"
          ],
          "name": "stderr"
        },
        {
          "output_type": "stream",
          "text": [
            "Epoch 74\n",
            "\tepoch loss: {epoch_loss:39.65381979942322}\n",
            "\n"
          ],
          "name": "stdout"
        },
        {
          "output_type": "stream",
          "text": [
            "  8%|▊         | 77/1001 [20:31<4:05:00, 15.91s/it]"
          ],
          "name": "stderr"
        },
        {
          "output_type": "stream",
          "text": [
            "Epoch 76\n",
            "\tepoch loss: {epoch_loss:39.18231391906738}\n",
            "\n"
          ],
          "name": "stdout"
        },
        {
          "output_type": "stream",
          "text": [
            "  8%|▊         | 79/1001 [21:03<4:04:14, 15.89s/it]"
          ],
          "name": "stderr"
        },
        {
          "output_type": "stream",
          "text": [
            "Epoch 78\n",
            "\tepoch loss: {epoch_loss:38.768078327178955}\n",
            "\n"
          ],
          "name": "stdout"
        },
        {
          "output_type": "stream",
          "text": [
            "  8%|▊         | 81/1001 [21:35<4:03:35, 15.89s/it]"
          ],
          "name": "stderr"
        },
        {
          "output_type": "stream",
          "text": [
            "Epoch 80\n",
            "\tepoch loss: {epoch_loss:38.283944964408875}\n",
            "\n"
          ],
          "name": "stdout"
        },
        {
          "output_type": "stream",
          "text": [
            "  8%|▊         | 83/1001 [22:07<4:02:53, 15.88s/it]"
          ],
          "name": "stderr"
        },
        {
          "output_type": "stream",
          "text": [
            "Epoch 82\n",
            "\tepoch loss: {epoch_loss:37.853360652923584}\n",
            "\n"
          ],
          "name": "stdout"
        },
        {
          "output_type": "stream",
          "text": [
            "  8%|▊         | 85/1001 [22:39<4:02:43, 15.90s/it]"
          ],
          "name": "stderr"
        },
        {
          "output_type": "stream",
          "text": [
            "Epoch 84\n",
            "\tepoch loss: {epoch_loss:37.324331402778625}\n",
            "\n"
          ],
          "name": "stdout"
        },
        {
          "output_type": "stream",
          "text": [
            "  9%|▊         | 87/1001 [23:10<4:01:47, 15.87s/it]"
          ],
          "name": "stderr"
        },
        {
          "output_type": "stream",
          "text": [
            "Epoch 86\n",
            "\tepoch loss: {epoch_loss:37.009432911872864}\n",
            "\n"
          ],
          "name": "stdout"
        },
        {
          "output_type": "stream",
          "text": [
            "  9%|▉         | 89/1001 [23:42<4:01:26, 15.88s/it]"
          ],
          "name": "stderr"
        },
        {
          "output_type": "stream",
          "text": [
            "Epoch 88\n",
            "\tepoch loss: {epoch_loss:36.5464084148407}\n",
            "\n"
          ],
          "name": "stdout"
        },
        {
          "output_type": "stream",
          "text": [
            "  9%|▉         | 91/1001 [24:14<4:00:53, 15.88s/it]"
          ],
          "name": "stderr"
        },
        {
          "output_type": "stream",
          "text": [
            "Epoch 90\n",
            "\tepoch loss: {epoch_loss:35.93744659423828}\n",
            "\n"
          ],
          "name": "stdout"
        },
        {
          "output_type": "stream",
          "text": [
            "  9%|▉         | 93/1001 [24:46<4:00:19, 15.88s/it]"
          ],
          "name": "stderr"
        },
        {
          "output_type": "stream",
          "text": [
            "Epoch 92\n",
            "\tepoch loss: {epoch_loss:35.527353167533875}\n",
            "\n"
          ],
          "name": "stdout"
        },
        {
          "output_type": "stream",
          "text": [
            "  9%|▉         | 95/1001 [25:17<3:59:52, 15.89s/it]"
          ],
          "name": "stderr"
        },
        {
          "output_type": "stream",
          "text": [
            "Epoch 94\n",
            "\tepoch loss: {epoch_loss:35.051677107810974}\n",
            "\n"
          ],
          "name": "stdout"
        },
        {
          "output_type": "stream",
          "text": [
            " 10%|▉         | 97/1001 [25:49<3:59:43, 15.91s/it]"
          ],
          "name": "stderr"
        },
        {
          "output_type": "stream",
          "text": [
            "Epoch 96\n",
            "\tepoch loss: {epoch_loss:34.70262086391449}\n",
            "\n"
          ],
          "name": "stdout"
        },
        {
          "output_type": "stream",
          "text": [
            " 10%|▉         | 99/1001 [26:21<3:58:46, 15.88s/it]"
          ],
          "name": "stderr"
        },
        {
          "output_type": "stream",
          "text": [
            "Epoch 98\n",
            "\tepoch loss: {epoch_loss:34.14043700695038}\n",
            "\n"
          ],
          "name": "stdout"
        },
        {
          "output_type": "stream",
          "text": [
            " 10%|█         | 101/1001 [26:53<3:58:29, 15.90s/it]"
          ],
          "name": "stderr"
        },
        {
          "output_type": "stream",
          "text": [
            "Epoch 100\n",
            "\tepoch loss: {epoch_loss:33.68667924404144}\n",
            "\n"
          ],
          "name": "stdout"
        },
        {
          "output_type": "stream",
          "text": [
            " 10%|█         | 103/1001 [27:24<3:57:31, 15.87s/it]"
          ],
          "name": "stderr"
        },
        {
          "output_type": "stream",
          "text": [
            "Epoch 102\n",
            "\tepoch loss: {epoch_loss:33.11036944389343}\n",
            "\n"
          ],
          "name": "stdout"
        },
        {
          "output_type": "stream",
          "text": [
            " 10%|█         | 105/1001 [27:56<3:57:32, 15.91s/it]"
          ],
          "name": "stderr"
        },
        {
          "output_type": "stream",
          "text": [
            "Epoch 104\n",
            "\tepoch loss: {epoch_loss:32.83552360534668}\n",
            "\n"
          ],
          "name": "stdout"
        },
        {
          "output_type": "stream",
          "text": [
            " 11%|█         | 107/1001 [28:28<3:56:31, 15.87s/it]"
          ],
          "name": "stderr"
        },
        {
          "output_type": "stream",
          "text": [
            "Epoch 106\n",
            "\tepoch loss: {epoch_loss:32.31595540046692}\n",
            "\n"
          ],
          "name": "stdout"
        },
        {
          "output_type": "stream",
          "text": [
            " 11%|█         | 109/1001 [29:00<3:55:35, 15.85s/it]"
          ],
          "name": "stderr"
        },
        {
          "output_type": "stream",
          "text": [
            "Epoch 108\n",
            "\tepoch loss: {epoch_loss:31.849568009376526}\n",
            "\n"
          ],
          "name": "stdout"
        },
        {
          "output_type": "stream",
          "text": [
            " 11%|█         | 111/1001 [29:31<3:55:17, 15.86s/it]"
          ],
          "name": "stderr"
        },
        {
          "output_type": "stream",
          "text": [
            "Epoch 110\n",
            "\tepoch loss: {epoch_loss:31.37709891796112}\n",
            "\n"
          ],
          "name": "stdout"
        },
        {
          "output_type": "stream",
          "text": [
            " 11%|█▏        | 113/1001 [30:03<3:54:46, 15.86s/it]"
          ],
          "name": "stderr"
        },
        {
          "output_type": "stream",
          "text": [
            "Epoch 112\n",
            "\tepoch loss: {epoch_loss:31.00055432319641}\n",
            "\n"
          ],
          "name": "stdout"
        },
        {
          "output_type": "stream",
          "text": [
            " 11%|█▏        | 115/1001 [30:35<3:53:57, 15.84s/it]"
          ],
          "name": "stderr"
        },
        {
          "output_type": "stream",
          "text": [
            "Epoch 114\n",
            "\tepoch loss: {epoch_loss:30.517295718193054}\n",
            "\n"
          ],
          "name": "stdout"
        },
        {
          "output_type": "stream",
          "text": [
            " 12%|█▏        | 117/1001 [31:06<3:53:24, 15.84s/it]"
          ],
          "name": "stderr"
        },
        {
          "output_type": "stream",
          "text": [
            "Epoch 116\n",
            "\tepoch loss: {epoch_loss:30.172770977020264}\n",
            "\n"
          ],
          "name": "stdout"
        },
        {
          "output_type": "stream",
          "text": [
            " 12%|█▏        | 119/1001 [31:38<3:52:45, 15.83s/it]"
          ],
          "name": "stderr"
        },
        {
          "output_type": "stream",
          "text": [
            "Epoch 118\n",
            "\tepoch loss: {epoch_loss:30.010679006576538}\n",
            "\n"
          ],
          "name": "stdout"
        },
        {
          "output_type": "stream",
          "text": [
            " 12%|█▏        | 121/1001 [32:10<3:52:18, 15.84s/it]"
          ],
          "name": "stderr"
        },
        {
          "output_type": "stream",
          "text": [
            "Epoch 120\n",
            "\tepoch loss: {epoch_loss:29.339210748672485}\n",
            "\n"
          ],
          "name": "stdout"
        },
        {
          "output_type": "stream",
          "text": [
            " 12%|█▏        | 123/1001 [32:42<3:51:53, 15.85s/it]"
          ],
          "name": "stderr"
        },
        {
          "output_type": "stream",
          "text": [
            "Epoch 122\n",
            "\tepoch loss: {epoch_loss:28.6689110994339}\n",
            "\n"
          ],
          "name": "stdout"
        },
        {
          "output_type": "stream",
          "text": [
            " 12%|█▏        | 125/1001 [33:13<3:51:51, 15.88s/it]"
          ],
          "name": "stderr"
        },
        {
          "output_type": "stream",
          "text": [
            "Epoch 124\n",
            "\tepoch loss: {epoch_loss:28.561623573303223}\n",
            "\n"
          ],
          "name": "stdout"
        },
        {
          "output_type": "stream",
          "text": [
            " 13%|█▎        | 127/1001 [33:45<3:50:54, 15.85s/it]"
          ],
          "name": "stderr"
        },
        {
          "output_type": "stream",
          "text": [
            "Epoch 126\n",
            "\tepoch loss: {epoch_loss:28.129095315933228}\n",
            "\n"
          ],
          "name": "stdout"
        },
        {
          "output_type": "stream",
          "text": [
            " 13%|█▎        | 129/1001 [34:17<3:50:11, 15.84s/it]"
          ],
          "name": "stderr"
        },
        {
          "output_type": "stream",
          "text": [
            "Epoch 128\n",
            "\tepoch loss: {epoch_loss:27.767158269882202}\n",
            "\n"
          ],
          "name": "stdout"
        },
        {
          "output_type": "stream",
          "text": [
            " 13%|█▎        | 131/1001 [34:48<3:49:31, 15.83s/it]"
          ],
          "name": "stderr"
        },
        {
          "output_type": "stream",
          "text": [
            "Epoch 130\n",
            "\tepoch loss: {epoch_loss:27.304033994674683}\n",
            "\n"
          ],
          "name": "stdout"
        },
        {
          "output_type": "stream",
          "text": [
            " 13%|█▎        | 133/1001 [35:20<3:49:02, 15.83s/it]"
          ],
          "name": "stderr"
        },
        {
          "output_type": "stream",
          "text": [
            "Epoch 132\n",
            "\tepoch loss: {epoch_loss:26.894001841545105}\n",
            "\n"
          ],
          "name": "stdout"
        },
        {
          "output_type": "stream",
          "text": [
            " 13%|█▎        | 135/1001 [35:52<3:48:41, 15.84s/it]"
          ],
          "name": "stderr"
        },
        {
          "output_type": "stream",
          "text": [
            "Epoch 134\n",
            "\tepoch loss: {epoch_loss:26.348460137844086}\n",
            "\n"
          ],
          "name": "stdout"
        },
        {
          "output_type": "stream",
          "text": [
            " 14%|█▎        | 137/1001 [36:23<3:47:55, 15.83s/it]"
          ],
          "name": "stderr"
        },
        {
          "output_type": "stream",
          "text": [
            "Epoch 136\n",
            "\tepoch loss: {epoch_loss:26.185074508190155}\n",
            "\n"
          ],
          "name": "stdout"
        },
        {
          "output_type": "stream",
          "text": [
            " 14%|█▍        | 139/1001 [36:55<3:47:30, 15.84s/it]"
          ],
          "name": "stderr"
        },
        {
          "output_type": "stream",
          "text": [
            "Epoch 138\n",
            "\tepoch loss: {epoch_loss:25.797058880329132}\n",
            "\n"
          ],
          "name": "stdout"
        },
        {
          "output_type": "stream",
          "text": [
            " 14%|█▍        | 141/1001 [37:27<3:46:45, 15.82s/it]"
          ],
          "name": "stderr"
        },
        {
          "output_type": "stream",
          "text": [
            "Epoch 140\n",
            "\tepoch loss: {epoch_loss:25.398345351219177}\n",
            "\n"
          ],
          "name": "stdout"
        },
        {
          "output_type": "stream",
          "text": [
            " 14%|█▍        | 143/1001 [37:58<3:46:29, 15.84s/it]"
          ],
          "name": "stderr"
        },
        {
          "output_type": "stream",
          "text": [
            "Epoch 142\n",
            "\tepoch loss: {epoch_loss:25.18334209918976}\n",
            "\n"
          ],
          "name": "stdout"
        },
        {
          "output_type": "stream",
          "text": [
            " 14%|█▍        | 145/1001 [38:30<3:45:41, 15.82s/it]"
          ],
          "name": "stderr"
        },
        {
          "output_type": "stream",
          "text": [
            "Epoch 144\n",
            "\tepoch loss: {epoch_loss:24.872301161289215}\n",
            "\n"
          ],
          "name": "stdout"
        },
        {
          "output_type": "stream",
          "text": [
            " 15%|█▍        | 147/1001 [39:02<3:45:19, 15.83s/it]"
          ],
          "name": "stderr"
        },
        {
          "output_type": "stream",
          "text": [
            "Epoch 146\n",
            "\tepoch loss: {epoch_loss:24.26448690891266}\n",
            "\n"
          ],
          "name": "stdout"
        },
        {
          "output_type": "stream",
          "text": [
            " 15%|█▍        | 149/1001 [39:33<3:44:44, 15.83s/it]"
          ],
          "name": "stderr"
        },
        {
          "output_type": "stream",
          "text": [
            "Epoch 148\n",
            "\tepoch loss: {epoch_loss:24.061701118946075}\n",
            "\n"
          ],
          "name": "stdout"
        },
        {
          "output_type": "stream",
          "text": [
            " 15%|█▌        | 151/1001 [40:05<3:44:06, 15.82s/it]"
          ],
          "name": "stderr"
        },
        {
          "output_type": "stream",
          "text": [
            "Epoch 150\n",
            "\tepoch loss: {epoch_loss:23.751948714256287}\n",
            "\n"
          ],
          "name": "stdout"
        },
        {
          "output_type": "stream",
          "text": [
            " 15%|█▌        | 153/1001 [40:37<3:43:34, 15.82s/it]"
          ],
          "name": "stderr"
        },
        {
          "output_type": "stream",
          "text": [
            "Epoch 152\n",
            "\tepoch loss: {epoch_loss:23.1516792178154}\n",
            "\n"
          ],
          "name": "stdout"
        },
        {
          "output_type": "stream",
          "text": [
            " 15%|█▌        | 155/1001 [41:08<3:43:26, 15.85s/it]"
          ],
          "name": "stderr"
        },
        {
          "output_type": "stream",
          "text": [
            "Epoch 154\n",
            "\tepoch loss: {epoch_loss:22.866662681102753}\n",
            "\n"
          ],
          "name": "stdout"
        },
        {
          "output_type": "stream",
          "text": [
            " 16%|█▌        | 157/1001 [41:40<3:43:07, 15.86s/it]"
          ],
          "name": "stderr"
        },
        {
          "output_type": "stream",
          "text": [
            "Epoch 156\n",
            "\tepoch loss: {epoch_loss:22.5113662481308}\n",
            "\n"
          ],
          "name": "stdout"
        },
        {
          "output_type": "stream",
          "text": [
            " 16%|█▌        | 159/1001 [42:12<3:42:45, 15.87s/it]"
          ],
          "name": "stderr"
        },
        {
          "output_type": "stream",
          "text": [
            "Epoch 158\n",
            "\tepoch loss: {epoch_loss:22.384695529937744}\n",
            "\n"
          ],
          "name": "stdout"
        },
        {
          "output_type": "stream",
          "text": [
            " 16%|█▌        | 161/1001 [42:43<3:41:51, 15.85s/it]"
          ],
          "name": "stderr"
        },
        {
          "output_type": "stream",
          "text": [
            "Epoch 160\n",
            "\tepoch loss: {epoch_loss:22.028664886951447}\n",
            "\n"
          ],
          "name": "stdout"
        },
        {
          "output_type": "stream",
          "text": [
            " 16%|█▋        | 163/1001 [43:15<3:41:11, 15.84s/it]"
          ],
          "name": "stderr"
        },
        {
          "output_type": "stream",
          "text": [
            "Epoch 162\n",
            "\tepoch loss: {epoch_loss:21.925671577453613}\n",
            "\n"
          ],
          "name": "stdout"
        },
        {
          "output_type": "stream",
          "text": [
            " 16%|█▋        | 165/1001 [43:47<3:40:26, 15.82s/it]"
          ],
          "name": "stderr"
        },
        {
          "output_type": "stream",
          "text": [
            "Epoch 164\n",
            "\tepoch loss: {epoch_loss:21.41051036119461}\n",
            "\n"
          ],
          "name": "stdout"
        },
        {
          "output_type": "stream",
          "text": [
            " 17%|█▋        | 167/1001 [44:18<3:39:31, 15.79s/it]"
          ],
          "name": "stderr"
        },
        {
          "output_type": "stream",
          "text": [
            "Epoch 166\n",
            "\tepoch loss: {epoch_loss:20.91028529405594}\n",
            "\n"
          ],
          "name": "stdout"
        },
        {
          "output_type": "stream",
          "text": [
            " 17%|█▋        | 169/1001 [44:50<3:39:12, 15.81s/it]"
          ],
          "name": "stderr"
        },
        {
          "output_type": "stream",
          "text": [
            "Epoch 168\n",
            "\tepoch loss: {epoch_loss:20.839915990829468}\n",
            "\n"
          ],
          "name": "stdout"
        },
        {
          "output_type": "stream",
          "text": [
            " 17%|█▋        | 171/1001 [45:21<3:38:31, 15.80s/it]"
          ],
          "name": "stderr"
        },
        {
          "output_type": "stream",
          "text": [
            "Epoch 170\n",
            "\tepoch loss: {epoch_loss:20.627403795719147}\n",
            "\n"
          ],
          "name": "stdout"
        },
        {
          "output_type": "stream",
          "text": [
            " 17%|█▋        | 173/1001 [45:53<3:38:19, 15.82s/it]"
          ],
          "name": "stderr"
        },
        {
          "output_type": "stream",
          "text": [
            "Epoch 172\n",
            "\tepoch loss: {epoch_loss:20.230941891670227}\n",
            "\n"
          ],
          "name": "stdout"
        },
        {
          "output_type": "stream",
          "text": [
            " 17%|█▋        | 175/1001 [46:25<3:37:27, 15.80s/it]"
          ],
          "name": "stderr"
        },
        {
          "output_type": "stream",
          "text": [
            "Epoch 174\n",
            "\tepoch loss: {epoch_loss:20.273887515068054}\n",
            "\n"
          ],
          "name": "stdout"
        },
        {
          "output_type": "stream",
          "text": [
            " 18%|█▊        | 177/1001 [46:56<3:37:02, 15.80s/it]"
          ],
          "name": "stderr"
        },
        {
          "output_type": "stream",
          "text": [
            "Epoch 176\n",
            "\tepoch loss: {epoch_loss:19.95356982946396}\n",
            "\n"
          ],
          "name": "stdout"
        },
        {
          "output_type": "stream",
          "text": [
            " 18%|█▊        | 179/1001 [47:28<3:36:21, 15.79s/it]"
          ],
          "name": "stderr"
        },
        {
          "output_type": "stream",
          "text": [
            "Epoch 178\n",
            "\tepoch loss: {epoch_loss:19.618035912513733}\n",
            "\n"
          ],
          "name": "stdout"
        },
        {
          "output_type": "stream",
          "text": [
            " 18%|█▊        | 181/1001 [48:00<3:35:57, 15.80s/it]"
          ],
          "name": "stderr"
        },
        {
          "output_type": "stream",
          "text": [
            "Epoch 180\n",
            "\tepoch loss: {epoch_loss:19.435875296592712}\n",
            "\n"
          ],
          "name": "stdout"
        },
        {
          "output_type": "stream",
          "text": [
            " 18%|█▊        | 183/1001 [48:31<3:35:16, 15.79s/it]"
          ],
          "name": "stderr"
        },
        {
          "output_type": "stream",
          "text": [
            "Epoch 182\n",
            "\tepoch loss: {epoch_loss:19.009426057338715}\n",
            "\n"
          ],
          "name": "stdout"
        },
        {
          "output_type": "stream",
          "text": [
            " 18%|█▊        | 185/1001 [49:03<3:35:06, 15.82s/it]"
          ],
          "name": "stderr"
        },
        {
          "output_type": "stream",
          "text": [
            "Epoch 184\n",
            "\tepoch loss: {epoch_loss:18.78697943687439}\n",
            "\n"
          ],
          "name": "stdout"
        },
        {
          "output_type": "stream",
          "text": [
            " 19%|█▊        | 187/1001 [49:34<3:34:40, 15.82s/it]"
          ],
          "name": "stderr"
        },
        {
          "output_type": "stream",
          "text": [
            "Epoch 186\n",
            "\tepoch loss: {epoch_loss:18.517877638339996}\n",
            "\n"
          ],
          "name": "stdout"
        },
        {
          "output_type": "stream",
          "text": [
            " 19%|█▉        | 189/1001 [50:06<3:34:16, 15.83s/it]"
          ],
          "name": "stderr"
        },
        {
          "output_type": "stream",
          "text": [
            "Epoch 188\n",
            "\tepoch loss: {epoch_loss:18.270479261875153}\n",
            "\n"
          ],
          "name": "stdout"
        },
        {
          "output_type": "stream",
          "text": [
            " 19%|█▉        | 191/1001 [50:38<3:33:44, 15.83s/it]"
          ],
          "name": "stderr"
        },
        {
          "output_type": "stream",
          "text": [
            "Epoch 190\n",
            "\tepoch loss: {epoch_loss:17.91249680519104}\n",
            "\n"
          ],
          "name": "stdout"
        },
        {
          "output_type": "stream",
          "text": [
            " 19%|█▉        | 193/1001 [51:09<3:33:20, 15.84s/it]"
          ],
          "name": "stderr"
        },
        {
          "output_type": "stream",
          "text": [
            "Epoch 192\n",
            "\tepoch loss: {epoch_loss:17.78763997554779}\n",
            "\n"
          ],
          "name": "stdout"
        },
        {
          "output_type": "stream",
          "text": [
            " 19%|█▉        | 195/1001 [51:41<3:33:09, 15.87s/it]"
          ],
          "name": "stderr"
        },
        {
          "output_type": "stream",
          "text": [
            "Epoch 194\n",
            "\tepoch loss: {epoch_loss:17.886581003665924}\n",
            "\n"
          ],
          "name": "stdout"
        },
        {
          "output_type": "stream",
          "text": [
            " 20%|█▉        | 197/1001 [52:13<3:32:34, 15.86s/it]"
          ],
          "name": "stderr"
        },
        {
          "output_type": "stream",
          "text": [
            "Epoch 196\n",
            "\tepoch loss: {epoch_loss:17.665589451789856}\n",
            "\n"
          ],
          "name": "stdout"
        },
        {
          "output_type": "stream",
          "text": [
            " 20%|█▉        | 199/1001 [52:45<3:31:32, 15.83s/it]"
          ],
          "name": "stderr"
        },
        {
          "output_type": "stream",
          "text": [
            "Epoch 198\n",
            "\tepoch loss: {epoch_loss:17.26379692554474}\n",
            "\n"
          ],
          "name": "stdout"
        },
        {
          "output_type": "stream",
          "text": [
            " 20%|██        | 201/1001 [53:16<3:30:50, 15.81s/it]"
          ],
          "name": "stderr"
        },
        {
          "output_type": "stream",
          "text": [
            "Epoch 200\n",
            "\tepoch loss: {epoch_loss:16.875196754932404}\n",
            "\n"
          ],
          "name": "stdout"
        },
        {
          "output_type": "stream",
          "text": [
            " 20%|██        | 203/1001 [53:48<3:30:54, 15.86s/it]"
          ],
          "name": "stderr"
        },
        {
          "output_type": "stream",
          "text": [
            "Epoch 202\n",
            "\tepoch loss: {epoch_loss:16.96507829427719}\n",
            "\n"
          ],
          "name": "stdout"
        },
        {
          "output_type": "stream",
          "text": [
            " 20%|██        | 205/1001 [54:20<3:30:24, 15.86s/it]"
          ],
          "name": "stderr"
        },
        {
          "output_type": "stream",
          "text": [
            "Epoch 204\n",
            "\tepoch loss: {epoch_loss:16.766746401786804}\n",
            "\n"
          ],
          "name": "stdout"
        },
        {
          "output_type": "stream",
          "text": [
            " 21%|██        | 207/1001 [54:51<3:29:36, 15.84s/it]"
          ],
          "name": "stderr"
        },
        {
          "output_type": "stream",
          "text": [
            "Epoch 206\n",
            "\tepoch loss: {epoch_loss:16.305683195590973}\n",
            "\n"
          ],
          "name": "stdout"
        },
        {
          "output_type": "stream",
          "text": [
            " 21%|██        | 209/1001 [55:23<3:28:51, 15.82s/it]"
          ],
          "name": "stderr"
        },
        {
          "output_type": "stream",
          "text": [
            "Epoch 208\n",
            "\tepoch loss: {epoch_loss:16.393295168876648}\n",
            "\n"
          ],
          "name": "stdout"
        },
        {
          "output_type": "stream",
          "text": [
            " 21%|██        | 211/1001 [55:55<3:28:31, 15.84s/it]"
          ],
          "name": "stderr"
        },
        {
          "output_type": "stream",
          "text": [
            "Epoch 210\n",
            "\tepoch loss: {epoch_loss:16.310494601726532}\n",
            "\n"
          ],
          "name": "stdout"
        },
        {
          "output_type": "stream",
          "text": [
            " 21%|██▏       | 213/1001 [56:26<3:27:27, 15.80s/it]"
          ],
          "name": "stderr"
        },
        {
          "output_type": "stream",
          "text": [
            "Epoch 212\n",
            "\tepoch loss: {epoch_loss:16.256803572177887}\n",
            "\n"
          ],
          "name": "stdout"
        },
        {
          "output_type": "stream",
          "text": [
            " 21%|██▏       | 215/1001 [56:58<3:26:51, 15.79s/it]"
          ],
          "name": "stderr"
        },
        {
          "output_type": "stream",
          "text": [
            "Epoch 214\n",
            "\tepoch loss: {epoch_loss:15.405328571796417}\n",
            "\n"
          ],
          "name": "stdout"
        },
        {
          "output_type": "stream",
          "text": [
            " 22%|██▏       | 217/1001 [57:29<3:26:13, 15.78s/it]"
          ],
          "name": "stderr"
        },
        {
          "output_type": "stream",
          "text": [
            "Epoch 216\n",
            "\tepoch loss: {epoch_loss:15.918836653232574}\n",
            "\n"
          ],
          "name": "stdout"
        },
        {
          "output_type": "stream",
          "text": [
            " 22%|██▏       | 219/1001 [58:01<3:25:55, 15.80s/it]"
          ],
          "name": "stderr"
        },
        {
          "output_type": "stream",
          "text": [
            "Epoch 218\n",
            "\tepoch loss: {epoch_loss:15.790485978126526}\n",
            "\n"
          ],
          "name": "stdout"
        },
        {
          "output_type": "stream",
          "text": [
            " 22%|██▏       | 221/1001 [58:33<3:25:36, 15.82s/it]"
          ],
          "name": "stderr"
        },
        {
          "output_type": "stream",
          "text": [
            "Epoch 220\n",
            "\tepoch loss: {epoch_loss:15.476929485797882}\n",
            "\n"
          ],
          "name": "stdout"
        },
        {
          "output_type": "stream",
          "text": [
            " 22%|██▏       | 223/1001 [59:04<3:25:08, 15.82s/it]"
          ],
          "name": "stderr"
        },
        {
          "output_type": "stream",
          "text": [
            "Epoch 222\n",
            "\tepoch loss: {epoch_loss:15.661178171634674}\n",
            "\n"
          ],
          "name": "stdout"
        },
        {
          "output_type": "stream",
          "text": [
            " 22%|██▏       | 225/1001 [59:36<3:24:10, 15.79s/it]"
          ],
          "name": "stderr"
        },
        {
          "output_type": "stream",
          "text": [
            "Epoch 224\n",
            "\tepoch loss: {epoch_loss:15.623512864112854}\n",
            "\n"
          ],
          "name": "stdout"
        },
        {
          "output_type": "stream",
          "text": [
            " 23%|██▎       | 227/1001 [1:00:07<3:24:08, 15.82s/it]"
          ],
          "name": "stderr"
        },
        {
          "output_type": "stream",
          "text": [
            "Epoch 226\n",
            "\tepoch loss: {epoch_loss:15.09143877029419}\n",
            "\n"
          ],
          "name": "stdout"
        },
        {
          "output_type": "stream",
          "text": [
            " 23%|██▎       | 229/1001 [1:00:39<3:23:27, 15.81s/it]"
          ],
          "name": "stderr"
        },
        {
          "output_type": "stream",
          "text": [
            "Epoch 228\n",
            "\tepoch loss: {epoch_loss:15.541695237159729}\n",
            "\n"
          ],
          "name": "stdout"
        },
        {
          "output_type": "stream",
          "text": [
            " 23%|██▎       | 231/1001 [1:01:11<3:23:07, 15.83s/it]"
          ],
          "name": "stderr"
        },
        {
          "output_type": "stream",
          "text": [
            "Epoch 230\n",
            "\tepoch loss: {epoch_loss:14.908766746520996}\n",
            "\n"
          ],
          "name": "stdout"
        },
        {
          "output_type": "stream",
          "text": [
            " 23%|██▎       | 233/1001 [1:01:42<3:22:26, 15.82s/it]"
          ],
          "name": "stderr"
        },
        {
          "output_type": "stream",
          "text": [
            "Epoch 232\n",
            "\tepoch loss: {epoch_loss:14.627564907073975}\n",
            "\n"
          ],
          "name": "stdout"
        },
        {
          "output_type": "stream",
          "text": [
            " 23%|██▎       | 235/1001 [1:02:14<3:22:10, 15.84s/it]"
          ],
          "name": "stderr"
        },
        {
          "output_type": "stream",
          "text": [
            "Epoch 234\n",
            "\tepoch loss: {epoch_loss:14.801743745803833}\n",
            "\n"
          ],
          "name": "stdout"
        },
        {
          "output_type": "stream",
          "text": [
            " 24%|██▎       | 237/1001 [1:02:46<3:21:27, 15.82s/it]"
          ],
          "name": "stderr"
        },
        {
          "output_type": "stream",
          "text": [
            "Epoch 236\n",
            "\tepoch loss: {epoch_loss:14.36159098148346}\n",
            "\n"
          ],
          "name": "stdout"
        },
        {
          "output_type": "stream",
          "text": [
            " 24%|██▍       | 239/1001 [1:03:17<3:20:59, 15.83s/it]"
          ],
          "name": "stderr"
        },
        {
          "output_type": "stream",
          "text": [
            "Epoch 238\n",
            "\tepoch loss: {epoch_loss:14.674499809741974}\n",
            "\n"
          ],
          "name": "stdout"
        },
        {
          "output_type": "stream",
          "text": [
            " 24%|██▍       | 241/1001 [1:03:49<3:20:35, 15.84s/it]"
          ],
          "name": "stderr"
        },
        {
          "output_type": "stream",
          "text": [
            "Epoch 240\n",
            "\tepoch loss: {epoch_loss:14.186513662338257}\n",
            "\n"
          ],
          "name": "stdout"
        },
        {
          "output_type": "stream",
          "text": [
            " 24%|██▍       | 243/1001 [1:04:20<3:19:40, 15.81s/it]"
          ],
          "name": "stderr"
        },
        {
          "output_type": "stream",
          "text": [
            "Epoch 242\n",
            "\tepoch loss: {epoch_loss:14.475028455257416}\n",
            "\n"
          ],
          "name": "stdout"
        },
        {
          "output_type": "stream",
          "text": [
            " 24%|██▍       | 245/1001 [1:04:52<3:19:26, 15.83s/it]"
          ],
          "name": "stderr"
        },
        {
          "output_type": "stream",
          "text": [
            "Epoch 244\n",
            "\tepoch loss: {epoch_loss:14.085267901420593}\n",
            "\n"
          ],
          "name": "stdout"
        },
        {
          "output_type": "stream",
          "text": [
            " 25%|██▍       | 247/1001 [1:05:24<3:18:45, 15.82s/it]"
          ],
          "name": "stderr"
        },
        {
          "output_type": "stream",
          "text": [
            "Epoch 246\n",
            "\tepoch loss: {epoch_loss:14.318990230560303}\n",
            "\n"
          ],
          "name": "stdout"
        },
        {
          "output_type": "stream",
          "text": [
            " 25%|██▍       | 249/1001 [1:05:55<3:18:15, 15.82s/it]"
          ],
          "name": "stderr"
        },
        {
          "output_type": "stream",
          "text": [
            "Epoch 248\n",
            "\tepoch loss: {epoch_loss:14.525109827518463}\n",
            "\n"
          ],
          "name": "stdout"
        },
        {
          "output_type": "stream",
          "text": [
            " 25%|██▌       | 251/1001 [1:06:27<3:17:43, 15.82s/it]"
          ],
          "name": "stderr"
        },
        {
          "output_type": "stream",
          "text": [
            "Epoch 250\n",
            "\tepoch loss: {epoch_loss:14.151290029287338}\n",
            "\n"
          ],
          "name": "stdout"
        },
        {
          "output_type": "stream",
          "text": [
            " 25%|██▌       | 253/1001 [1:06:59<3:17:00, 15.80s/it]"
          ],
          "name": "stderr"
        },
        {
          "output_type": "stream",
          "text": [
            "Epoch 252\n",
            "\tepoch loss: {epoch_loss:14.315884292125702}\n",
            "\n"
          ],
          "name": "stdout"
        },
        {
          "output_type": "stream",
          "text": [
            " 25%|██▌       | 255/1001 [1:07:30<3:16:29, 15.80s/it]"
          ],
          "name": "stderr"
        },
        {
          "output_type": "stream",
          "text": [
            "Epoch 254\n",
            "\tepoch loss: {epoch_loss:13.323711186647415}\n",
            "\n"
          ],
          "name": "stdout"
        },
        {
          "output_type": "stream",
          "text": [
            " 26%|██▌       | 257/1001 [1:08:02<3:16:06, 15.82s/it]"
          ],
          "name": "stderr"
        },
        {
          "output_type": "stream",
          "text": [
            "Epoch 256\n",
            "\tepoch loss: {epoch_loss:13.171692311763763}\n",
            "\n"
          ],
          "name": "stdout"
        },
        {
          "output_type": "stream",
          "text": [
            " 26%|██▌       | 259/1001 [1:08:34<3:15:34, 15.82s/it]"
          ],
          "name": "stderr"
        },
        {
          "output_type": "stream",
          "text": [
            "Epoch 258\n",
            "\tepoch loss: {epoch_loss:13.63695541024208}\n",
            "\n"
          ],
          "name": "stdout"
        },
        {
          "output_type": "stream",
          "text": [
            " 26%|██▌       | 261/1001 [1:09:05<3:15:06, 15.82s/it]"
          ],
          "name": "stderr"
        },
        {
          "output_type": "stream",
          "text": [
            "Epoch 260\n",
            "\tepoch loss: {epoch_loss:13.462387949228287}\n",
            "\n"
          ],
          "name": "stdout"
        },
        {
          "output_type": "stream",
          "text": [
            " 26%|██▋       | 263/1001 [1:09:37<3:14:18, 15.80s/it]"
          ],
          "name": "stderr"
        },
        {
          "output_type": "stream",
          "text": [
            "Epoch 262\n",
            "\tepoch loss: {epoch_loss:13.437680870294571}\n",
            "\n"
          ],
          "name": "stdout"
        },
        {
          "output_type": "stream",
          "text": [
            " 26%|██▋       | 265/1001 [1:10:08<3:13:41, 15.79s/it]"
          ],
          "name": "stderr"
        },
        {
          "output_type": "stream",
          "text": [
            "Epoch 264\n",
            "\tepoch loss: {epoch_loss:13.333989590406418}\n",
            "\n"
          ],
          "name": "stdout"
        },
        {
          "output_type": "stream",
          "text": [
            " 27%|██▋       | 267/1001 [1:10:40<3:13:25, 15.81s/it]"
          ],
          "name": "stderr"
        },
        {
          "output_type": "stream",
          "text": [
            "Epoch 266\n",
            "\tepoch loss: {epoch_loss:12.640243202447891}\n",
            "\n"
          ],
          "name": "stdout"
        },
        {
          "output_type": "stream",
          "text": [
            " 27%|██▋       | 269/1001 [1:11:12<3:13:05, 15.83s/it]"
          ],
          "name": "stderr"
        },
        {
          "output_type": "stream",
          "text": [
            "Epoch 268\n",
            "\tepoch loss: {epoch_loss:13.05074617266655}\n",
            "\n"
          ],
          "name": "stdout"
        },
        {
          "output_type": "stream",
          "text": [
            " 27%|██▋       | 271/1001 [1:11:43<3:12:10, 15.80s/it]"
          ],
          "name": "stderr"
        },
        {
          "output_type": "stream",
          "text": [
            "Epoch 270\n",
            "\tepoch loss: {epoch_loss:13.160062402486801}\n",
            "\n"
          ],
          "name": "stdout"
        },
        {
          "output_type": "stream",
          "text": [
            " 27%|██▋       | 273/1001 [1:12:15<3:11:36, 15.79s/it]"
          ],
          "name": "stderr"
        },
        {
          "output_type": "stream",
          "text": [
            "Epoch 272\n",
            "\tepoch loss: {epoch_loss:12.658942729234695}\n",
            "\n"
          ],
          "name": "stdout"
        },
        {
          "output_type": "stream",
          "text": [
            " 27%|██▋       | 275/1001 [1:12:46<3:11:22, 15.82s/it]"
          ],
          "name": "stderr"
        },
        {
          "output_type": "stream",
          "text": [
            "Epoch 274\n",
            "\tepoch loss: {epoch_loss:12.646492391824722}\n",
            "\n"
          ],
          "name": "stdout"
        },
        {
          "output_type": "stream",
          "text": [
            " 28%|██▊       | 277/1001 [1:13:18<3:10:26, 15.78s/it]"
          ],
          "name": "stderr"
        },
        {
          "output_type": "stream",
          "text": [
            "Epoch 276\n",
            "\tepoch loss: {epoch_loss:12.668119311332703}\n",
            "\n"
          ],
          "name": "stdout"
        },
        {
          "output_type": "stream",
          "text": [
            " 28%|██▊       | 279/1001 [1:13:49<3:09:43, 15.77s/it]"
          ],
          "name": "stderr"
        },
        {
          "output_type": "stream",
          "text": [
            "Epoch 278\n",
            "\tepoch loss: {epoch_loss:12.065759718418121}\n",
            "\n"
          ],
          "name": "stdout"
        },
        {
          "output_type": "stream",
          "text": [
            " 28%|██▊       | 281/1001 [1:14:21<3:09:28, 15.79s/it]"
          ],
          "name": "stderr"
        },
        {
          "output_type": "stream",
          "text": [
            "Epoch 280\n",
            "\tepoch loss: {epoch_loss:12.195000648498535}\n",
            "\n"
          ],
          "name": "stdout"
        },
        {
          "output_type": "stream",
          "text": [
            " 28%|██▊       | 283/1001 [1:14:53<3:09:10, 15.81s/it]"
          ],
          "name": "stderr"
        },
        {
          "output_type": "stream",
          "text": [
            "Epoch 282\n",
            "\tepoch loss: {epoch_loss:12.170294404029846}\n",
            "\n"
          ],
          "name": "stdout"
        },
        {
          "output_type": "stream",
          "text": [
            " 28%|██▊       | 285/1001 [1:15:24<3:08:29, 15.79s/it]"
          ],
          "name": "stderr"
        },
        {
          "output_type": "stream",
          "text": [
            "Epoch 284\n",
            "\tepoch loss: {epoch_loss:11.573290228843689}\n",
            "\n"
          ],
          "name": "stdout"
        },
        {
          "output_type": "stream",
          "text": [
            " 29%|██▊       | 287/1001 [1:15:56<3:07:55, 15.79s/it]"
          ],
          "name": "stderr"
        },
        {
          "output_type": "stream",
          "text": [
            "Epoch 286\n",
            "\tepoch loss: {epoch_loss:12.097393691539764}\n",
            "\n"
          ],
          "name": "stdout"
        },
        {
          "output_type": "stream",
          "text": [
            " 29%|██▉       | 289/1001 [1:16:27<3:07:31, 15.80s/it]"
          ],
          "name": "stderr"
        },
        {
          "output_type": "stream",
          "text": [
            "Epoch 288\n",
            "\tepoch loss: {epoch_loss:11.83330911397934}\n",
            "\n"
          ],
          "name": "stdout"
        },
        {
          "output_type": "stream",
          "text": [
            " 29%|██▉       | 291/1001 [1:16:59<3:07:13, 15.82s/it]"
          ],
          "name": "stderr"
        },
        {
          "output_type": "stream",
          "text": [
            "Epoch 290\n",
            "\tepoch loss: {epoch_loss:12.719765782356262}\n",
            "\n"
          ],
          "name": "stdout"
        },
        {
          "output_type": "stream",
          "text": [
            " 29%|██▉       | 293/1001 [1:17:31<3:06:42, 15.82s/it]"
          ],
          "name": "stderr"
        },
        {
          "output_type": "stream",
          "text": [
            "Epoch 292\n",
            "\tepoch loss: {epoch_loss:12.464917570352554}\n",
            "\n"
          ],
          "name": "stdout"
        },
        {
          "output_type": "stream",
          "text": [
            " 29%|██▉       | 295/1001 [1:18:02<3:06:03, 15.81s/it]"
          ],
          "name": "stderr"
        },
        {
          "output_type": "stream",
          "text": [
            "Epoch 294\n",
            "\tepoch loss: {epoch_loss:11.609865248203278}\n",
            "\n"
          ],
          "name": "stdout"
        },
        {
          "output_type": "stream",
          "text": [
            " 30%|██▉       | 297/1001 [1:18:34<3:05:15, 15.79s/it]"
          ],
          "name": "stderr"
        },
        {
          "output_type": "stream",
          "text": [
            "Epoch 296\n",
            "\tepoch loss: {epoch_loss:11.796200901269913}\n",
            "\n"
          ],
          "name": "stdout"
        },
        {
          "output_type": "stream",
          "text": [
            " 30%|██▉       | 299/1001 [1:19:06<3:04:55, 15.81s/it]"
          ],
          "name": "stderr"
        },
        {
          "output_type": "stream",
          "text": [
            "Epoch 298\n",
            "\tepoch loss: {epoch_loss:11.605841100215912}\n",
            "\n"
          ],
          "name": "stdout"
        },
        {
          "output_type": "stream",
          "text": [
            " 30%|███       | 301/1001 [1:19:37<3:04:25, 15.81s/it]"
          ],
          "name": "stderr"
        },
        {
          "output_type": "stream",
          "text": [
            "Epoch 300\n",
            "\tepoch loss: {epoch_loss:11.722881555557251}\n",
            "\n"
          ],
          "name": "stdout"
        },
        {
          "output_type": "stream",
          "text": [
            " 30%|███       | 303/1001 [1:20:09<3:03:55, 15.81s/it]"
          ],
          "name": "stderr"
        },
        {
          "output_type": "stream",
          "text": [
            "Epoch 302\n",
            "\tepoch loss: {epoch_loss:11.069245338439941}\n",
            "\n"
          ],
          "name": "stdout"
        },
        {
          "output_type": "stream",
          "text": [
            " 30%|███       | 305/1001 [1:20:41<3:03:39, 15.83s/it]"
          ],
          "name": "stderr"
        },
        {
          "output_type": "stream",
          "text": [
            "Epoch 304\n",
            "\tepoch loss: {epoch_loss:11.487332075834274}\n",
            "\n"
          ],
          "name": "stdout"
        },
        {
          "output_type": "stream",
          "text": [
            " 31%|███       | 307/1001 [1:21:12<3:02:30, 15.78s/it]"
          ],
          "name": "stderr"
        },
        {
          "output_type": "stream",
          "text": [
            "Epoch 306\n",
            "\tepoch loss: {epoch_loss:11.390851885080338}\n",
            "\n"
          ],
          "name": "stdout"
        },
        {
          "output_type": "stream",
          "text": [
            " 31%|███       | 309/1001 [1:21:43<3:01:45, 15.76s/it]"
          ],
          "name": "stderr"
        },
        {
          "output_type": "stream",
          "text": [
            "Epoch 308\n",
            "\tepoch loss: {epoch_loss:11.216007888317108}\n",
            "\n"
          ],
          "name": "stdout"
        },
        {
          "output_type": "stream",
          "text": [
            " 31%|███       | 311/1001 [1:22:15<3:01:25, 15.78s/it]"
          ],
          "name": "stderr"
        },
        {
          "output_type": "stream",
          "text": [
            "Epoch 310\n",
            "\tepoch loss: {epoch_loss:11.64942267537117}\n",
            "\n"
          ],
          "name": "stdout"
        },
        {
          "output_type": "stream",
          "text": [
            " 31%|███▏      | 313/1001 [1:22:47<3:00:58, 15.78s/it]"
          ],
          "name": "stderr"
        },
        {
          "output_type": "stream",
          "text": [
            "Epoch 312\n",
            "\tepoch loss: {epoch_loss:11.202841311693192}\n",
            "\n"
          ],
          "name": "stdout"
        },
        {
          "output_type": "stream",
          "text": [
            " 31%|███▏      | 315/1001 [1:23:18<3:00:48, 15.81s/it]"
          ],
          "name": "stderr"
        },
        {
          "output_type": "stream",
          "text": [
            "Epoch 314\n",
            "\tepoch loss: {epoch_loss:11.612023919820786}\n",
            "\n"
          ],
          "name": "stdout"
        },
        {
          "output_type": "stream",
          "text": [
            " 32%|███▏      | 317/1001 [1:23:50<3:00:09, 15.80s/it]"
          ],
          "name": "stderr"
        },
        {
          "output_type": "stream",
          "text": [
            "Epoch 316\n",
            "\tepoch loss: {epoch_loss:10.947333455085754}\n",
            "\n"
          ],
          "name": "stdout"
        },
        {
          "output_type": "stream",
          "text": [
            " 32%|███▏      | 319/1001 [1:24:21<2:59:14, 15.77s/it]"
          ],
          "name": "stderr"
        },
        {
          "output_type": "stream",
          "text": [
            "Epoch 318\n",
            "\tepoch loss: {epoch_loss:10.952600806951523}\n",
            "\n"
          ],
          "name": "stdout"
        },
        {
          "output_type": "stream",
          "text": [
            " 32%|███▏      | 321/1001 [1:24:53<2:58:37, 15.76s/it]"
          ],
          "name": "stderr"
        },
        {
          "output_type": "stream",
          "text": [
            "Epoch 320\n",
            "\tepoch loss: {epoch_loss:10.815099239349365}\n",
            "\n"
          ],
          "name": "stdout"
        },
        {
          "output_type": "stream",
          "text": [
            " 32%|███▏      | 323/1001 [1:25:24<2:58:13, 15.77s/it]"
          ],
          "name": "stderr"
        },
        {
          "output_type": "stream",
          "text": [
            "Epoch 322\n",
            "\tepoch loss: {epoch_loss:10.932048380374908}\n",
            "\n"
          ],
          "name": "stdout"
        },
        {
          "output_type": "stream",
          "text": [
            " 32%|███▏      | 325/1001 [1:25:56<2:57:48, 15.78s/it]"
          ],
          "name": "stderr"
        },
        {
          "output_type": "stream",
          "text": [
            "Epoch 324\n",
            "\tepoch loss: {epoch_loss:11.588585317134857}\n",
            "\n"
          ],
          "name": "stdout"
        },
        {
          "output_type": "stream",
          "text": [
            " 33%|███▎      | 327/1001 [1:26:28<2:57:16, 15.78s/it]"
          ],
          "name": "stderr"
        },
        {
          "output_type": "stream",
          "text": [
            "Epoch 326\n",
            "\tepoch loss: {epoch_loss:11.15740180015564}\n",
            "\n"
          ],
          "name": "stdout"
        },
        {
          "output_type": "stream",
          "text": [
            " 33%|███▎      | 329/1001 [1:26:59<2:56:55, 15.80s/it]"
          ],
          "name": "stderr"
        },
        {
          "output_type": "stream",
          "text": [
            "Epoch 328\n",
            "\tepoch loss: {epoch_loss:10.921323508024216}\n",
            "\n"
          ],
          "name": "stdout"
        },
        {
          "output_type": "stream",
          "text": [
            " 33%|███▎      | 331/1001 [1:27:31<2:56:19, 15.79s/it]"
          ],
          "name": "stderr"
        },
        {
          "output_type": "stream",
          "text": [
            "Epoch 330\n",
            "\tepoch loss: {epoch_loss:10.751585841178894}\n",
            "\n"
          ],
          "name": "stdout"
        },
        {
          "output_type": "stream",
          "text": [
            " 33%|███▎      | 333/1001 [1:28:02<2:56:01, 15.81s/it]"
          ],
          "name": "stderr"
        },
        {
          "output_type": "stream",
          "text": [
            "Epoch 332\n",
            "\tepoch loss: {epoch_loss:10.69057348370552}\n",
            "\n"
          ],
          "name": "stdout"
        },
        {
          "output_type": "stream",
          "text": [
            " 33%|███▎      | 335/1001 [1:28:34<2:54:55, 15.76s/it]"
          ],
          "name": "stderr"
        },
        {
          "output_type": "stream",
          "text": [
            "Epoch 334\n",
            "\tepoch loss: {epoch_loss:10.65885454416275}\n",
            "\n"
          ],
          "name": "stdout"
        },
        {
          "output_type": "stream",
          "text": [
            " 34%|███▎      | 337/1001 [1:29:06<2:54:39, 15.78s/it]"
          ],
          "name": "stderr"
        },
        {
          "output_type": "stream",
          "text": [
            "Epoch 336\n",
            "\tepoch loss: {epoch_loss:10.687099546194077}\n",
            "\n"
          ],
          "name": "stdout"
        },
        {
          "output_type": "stream",
          "text": [
            " 34%|███▍      | 339/1001 [1:29:37<2:54:13, 15.79s/it]"
          ],
          "name": "stderr"
        },
        {
          "output_type": "stream",
          "text": [
            "Epoch 338\n",
            "\tepoch loss: {epoch_loss:11.395017564296722}\n",
            "\n"
          ],
          "name": "stdout"
        },
        {
          "output_type": "stream",
          "text": [
            " 34%|███▍      | 341/1001 [1:30:09<2:53:42, 15.79s/it]"
          ],
          "name": "stderr"
        },
        {
          "output_type": "stream",
          "text": [
            "Epoch 340\n",
            "\tepoch loss: {epoch_loss:10.815976351499557}\n",
            "\n"
          ],
          "name": "stdout"
        },
        {
          "output_type": "stream",
          "text": [
            " 34%|███▍      | 343/1001 [1:30:40<2:52:57, 15.77s/it]"
          ],
          "name": "stderr"
        },
        {
          "output_type": "stream",
          "text": [
            "Epoch 342\n",
            "\tepoch loss: {epoch_loss:10.820805788040161}\n",
            "\n"
          ],
          "name": "stdout"
        },
        {
          "output_type": "stream",
          "text": [
            " 34%|███▍      | 345/1001 [1:31:12<2:52:35, 15.79s/it]"
          ],
          "name": "stderr"
        },
        {
          "output_type": "stream",
          "text": [
            "Epoch 344\n",
            "\tepoch loss: {epoch_loss:10.822489827871323}\n",
            "\n"
          ],
          "name": "stdout"
        },
        {
          "output_type": "stream",
          "text": [
            " 35%|███▍      | 347/1001 [1:31:43<2:51:54, 15.77s/it]"
          ],
          "name": "stderr"
        },
        {
          "output_type": "stream",
          "text": [
            "Epoch 346\n",
            "\tepoch loss: {epoch_loss:9.829046875238419}\n",
            "\n"
          ],
          "name": "stdout"
        },
        {
          "output_type": "stream",
          "text": [
            " 35%|███▍      | 349/1001 [1:32:15<2:51:23, 15.77s/it]"
          ],
          "name": "stderr"
        },
        {
          "output_type": "stream",
          "text": [
            "Epoch 348\n",
            "\tepoch loss: {epoch_loss:10.128615647554398}\n",
            "\n"
          ],
          "name": "stdout"
        },
        {
          "output_type": "stream",
          "text": [
            " 35%|███▌      | 351/1001 [1:32:46<2:51:00, 15.79s/it]"
          ],
          "name": "stderr"
        },
        {
          "output_type": "stream",
          "text": [
            "Epoch 350\n",
            "\tepoch loss: {epoch_loss:10.327644973993301}\n",
            "\n"
          ],
          "name": "stdout"
        },
        {
          "output_type": "stream",
          "text": [
            " 35%|███▌      | 353/1001 [1:33:18<2:50:29, 15.79s/it]"
          ],
          "name": "stderr"
        },
        {
          "output_type": "stream",
          "text": [
            "Epoch 352\n",
            "\tepoch loss: {epoch_loss:10.27958607673645}\n",
            "\n"
          ],
          "name": "stdout"
        },
        {
          "output_type": "stream",
          "text": [
            " 35%|███▌      | 355/1001 [1:33:50<2:49:50, 15.78s/it]"
          ],
          "name": "stderr"
        },
        {
          "output_type": "stream",
          "text": [
            "Epoch 354\n",
            "\tepoch loss: {epoch_loss:10.461944043636322}\n",
            "\n"
          ],
          "name": "stdout"
        },
        {
          "output_type": "stream",
          "text": [
            " 36%|███▌      | 357/1001 [1:34:21<2:49:11, 15.76s/it]"
          ],
          "name": "stderr"
        },
        {
          "output_type": "stream",
          "text": [
            "Epoch 356\n",
            "\tepoch loss: {epoch_loss:9.941919267177582}\n",
            "\n"
          ],
          "name": "stdout"
        },
        {
          "output_type": "stream",
          "text": [
            " 36%|███▌      | 359/1001 [1:34:53<2:48:49, 15.78s/it]"
          ],
          "name": "stderr"
        },
        {
          "output_type": "stream",
          "text": [
            "Epoch 358\n",
            "\tepoch loss: {epoch_loss:9.751113146543503}\n",
            "\n"
          ],
          "name": "stdout"
        },
        {
          "output_type": "stream",
          "text": [
            " 36%|███▌      | 361/1001 [1:35:24<2:48:06, 15.76s/it]"
          ],
          "name": "stderr"
        },
        {
          "output_type": "stream",
          "text": [
            "Epoch 360\n",
            "\tepoch loss: {epoch_loss:9.870497703552246}\n",
            "\n"
          ],
          "name": "stdout"
        },
        {
          "output_type": "stream",
          "text": [
            " 36%|███▋      | 363/1001 [1:35:56<2:47:34, 15.76s/it]"
          ],
          "name": "stderr"
        },
        {
          "output_type": "stream",
          "text": [
            "Epoch 362\n",
            "\tepoch loss: {epoch_loss:10.115323156118393}\n",
            "\n"
          ],
          "name": "stdout"
        },
        {
          "output_type": "stream",
          "text": [
            " 36%|███▋      | 365/1001 [1:36:27<2:47:12, 15.77s/it]"
          ],
          "name": "stderr"
        },
        {
          "output_type": "stream",
          "text": [
            "Epoch 364\n",
            "\tepoch loss: {epoch_loss:10.097095966339111}\n",
            "\n"
          ],
          "name": "stdout"
        },
        {
          "output_type": "stream",
          "text": [
            " 37%|███▋      | 367/1001 [1:36:59<2:46:33, 15.76s/it]"
          ],
          "name": "stderr"
        },
        {
          "output_type": "stream",
          "text": [
            "Epoch 366\n",
            "\tepoch loss: {epoch_loss:9.582275182008743}\n",
            "\n"
          ],
          "name": "stdout"
        },
        {
          "output_type": "stream",
          "text": [
            " 37%|███▋      | 369/1001 [1:37:30<2:46:02, 15.76s/it]"
          ],
          "name": "stderr"
        },
        {
          "output_type": "stream",
          "text": [
            "Epoch 368\n",
            "\tepoch loss: {epoch_loss:9.991718351840973}\n",
            "\n"
          ],
          "name": "stdout"
        },
        {
          "output_type": "stream",
          "text": [
            " 37%|███▋      | 371/1001 [1:38:02<2:45:47, 15.79s/it]"
          ],
          "name": "stderr"
        },
        {
          "output_type": "stream",
          "text": [
            "Epoch 370\n",
            "\tepoch loss: {epoch_loss:9.81791341304779}\n",
            "\n"
          ],
          "name": "stdout"
        },
        {
          "output_type": "stream",
          "text": [
            " 37%|███▋      | 373/1001 [1:38:33<2:45:00, 15.76s/it]"
          ],
          "name": "stderr"
        },
        {
          "output_type": "stream",
          "text": [
            "Epoch 372\n",
            "\tepoch loss: {epoch_loss:9.642502903938293}\n",
            "\n"
          ],
          "name": "stdout"
        },
        {
          "output_type": "stream",
          "text": [
            " 37%|███▋      | 375/1001 [1:39:05<2:44:37, 15.78s/it]"
          ],
          "name": "stderr"
        },
        {
          "output_type": "stream",
          "text": [
            "Epoch 374\n",
            "\tepoch loss: {epoch_loss:10.309069693088531}\n",
            "\n"
          ],
          "name": "stdout"
        },
        {
          "output_type": "stream",
          "text": [
            " 38%|███▊      | 377/1001 [1:39:36<2:43:50, 15.75s/it]"
          ],
          "name": "stderr"
        },
        {
          "output_type": "stream",
          "text": [
            "Epoch 376\n",
            "\tepoch loss: {epoch_loss:9.572614014148712}\n",
            "\n"
          ],
          "name": "stdout"
        },
        {
          "output_type": "stream",
          "text": [
            " 38%|███▊      | 379/1001 [1:40:08<2:43:26, 15.77s/it]"
          ],
          "name": "stderr"
        },
        {
          "output_type": "stream",
          "text": [
            "Epoch 378\n",
            "\tepoch loss: {epoch_loss:9.766003519296646}\n",
            "\n"
          ],
          "name": "stdout"
        },
        {
          "output_type": "stream",
          "text": [
            " 38%|███▊      | 381/1001 [1:40:39<2:42:45, 15.75s/it]"
          ],
          "name": "stderr"
        },
        {
          "output_type": "stream",
          "text": [
            "Epoch 380\n",
            "\tepoch loss: {epoch_loss:9.615788698196411}\n",
            "\n"
          ],
          "name": "stdout"
        },
        {
          "output_type": "stream",
          "text": [
            " 38%|███▊      | 383/1001 [1:41:11<2:42:23, 15.77s/it]"
          ],
          "name": "stderr"
        },
        {
          "output_type": "stream",
          "text": [
            "Epoch 382\n",
            "\tepoch loss: {epoch_loss:9.521639496088028}\n",
            "\n"
          ],
          "name": "stdout"
        },
        {
          "output_type": "stream",
          "text": [
            " 38%|███▊      | 385/1001 [1:41:43<2:41:50, 15.76s/it]"
          ],
          "name": "stderr"
        },
        {
          "output_type": "stream",
          "text": [
            "Epoch 384\n",
            "\tepoch loss: {epoch_loss:9.355183094739914}\n",
            "\n"
          ],
          "name": "stdout"
        },
        {
          "output_type": "stream",
          "text": [
            " 39%|███▊      | 387/1001 [1:42:14<2:41:13, 15.76s/it]"
          ],
          "name": "stderr"
        },
        {
          "output_type": "stream",
          "text": [
            "Epoch 386\n",
            "\tepoch loss: {epoch_loss:9.330812245607376}\n",
            "\n"
          ],
          "name": "stdout"
        },
        {
          "output_type": "stream",
          "text": [
            " 39%|███▉      | 389/1001 [1:42:46<2:40:41, 15.75s/it]"
          ],
          "name": "stderr"
        },
        {
          "output_type": "stream",
          "text": [
            "Epoch 388\n",
            "\tepoch loss: {epoch_loss:9.093183517456055}\n",
            "\n"
          ],
          "name": "stdout"
        },
        {
          "output_type": "stream",
          "text": [
            " 39%|███▉      | 391/1001 [1:43:17<2:40:24, 15.78s/it]"
          ],
          "name": "stderr"
        },
        {
          "output_type": "stream",
          "text": [
            "Epoch 390\n",
            "\tepoch loss: {epoch_loss:9.43383777141571}\n",
            "\n"
          ],
          "name": "stdout"
        },
        {
          "output_type": "stream",
          "text": [
            " 39%|███▉      | 393/1001 [1:43:49<2:40:05, 15.80s/it]"
          ],
          "name": "stderr"
        },
        {
          "output_type": "stream",
          "text": [
            "Epoch 392\n",
            "\tepoch loss: {epoch_loss:9.783590823411942}\n",
            "\n"
          ],
          "name": "stdout"
        },
        {
          "output_type": "stream",
          "text": [
            " 39%|███▉      | 395/1001 [1:44:20<2:39:22, 15.78s/it]"
          ],
          "name": "stderr"
        },
        {
          "output_type": "stream",
          "text": [
            "Epoch 394\n",
            "\tepoch loss: {epoch_loss:9.62905701994896}\n",
            "\n"
          ],
          "name": "stdout"
        },
        {
          "output_type": "stream",
          "text": [
            " 40%|███▉      | 397/1001 [1:44:52<2:38:47, 15.77s/it]"
          ],
          "name": "stderr"
        },
        {
          "output_type": "stream",
          "text": [
            "Epoch 396\n",
            "\tepoch loss: {epoch_loss:9.410105973482132}\n",
            "\n"
          ],
          "name": "stdout"
        },
        {
          "output_type": "stream",
          "text": [
            " 40%|███▉      | 399/1001 [1:45:23<2:38:10, 15.77s/it]"
          ],
          "name": "stderr"
        },
        {
          "output_type": "stream",
          "text": [
            "Epoch 398\n",
            "\tepoch loss: {epoch_loss:9.357388019561768}\n",
            "\n"
          ],
          "name": "stdout"
        },
        {
          "output_type": "stream",
          "text": [
            " 40%|████      | 401/1001 [1:45:55<2:37:33, 15.76s/it]"
          ],
          "name": "stderr"
        },
        {
          "output_type": "stream",
          "text": [
            "Epoch 400\n",
            "\tepoch loss: {epoch_loss:9.179506242275238}\n",
            "\n"
          ],
          "name": "stdout"
        },
        {
          "output_type": "stream",
          "text": [
            " 40%|████      | 403/1001 [1:46:26<2:36:59, 15.75s/it]"
          ],
          "name": "stderr"
        },
        {
          "output_type": "stream",
          "text": [
            "Epoch 402\n",
            "\tepoch loss: {epoch_loss:9.467432081699371}\n",
            "\n"
          ],
          "name": "stdout"
        },
        {
          "output_type": "stream",
          "text": [
            " 40%|████      | 405/1001 [1:46:58<2:36:26, 15.75s/it]"
          ],
          "name": "stderr"
        },
        {
          "output_type": "stream",
          "text": [
            "Epoch 404\n",
            "\tepoch loss: {epoch_loss:9.35259810090065}\n",
            "\n"
          ],
          "name": "stdout"
        },
        {
          "output_type": "stream",
          "text": [
            " 41%|████      | 407/1001 [1:47:29<2:35:50, 15.74s/it]"
          ],
          "name": "stderr"
        },
        {
          "output_type": "stream",
          "text": [
            "Epoch 406\n",
            "\tepoch loss: {epoch_loss:9.400481551885605}\n",
            "\n"
          ],
          "name": "stdout"
        },
        {
          "output_type": "stream",
          "text": [
            " 41%|████      | 409/1001 [1:48:01<2:35:26, 15.75s/it]"
          ],
          "name": "stderr"
        },
        {
          "output_type": "stream",
          "text": [
            "Epoch 408\n",
            "\tepoch loss: {epoch_loss:9.14002177119255}\n",
            "\n"
          ],
          "name": "stdout"
        },
        {
          "output_type": "stream",
          "text": [
            " 41%|████      | 411/1001 [1:48:32<2:34:45, 15.74s/it]"
          ],
          "name": "stderr"
        },
        {
          "output_type": "stream",
          "text": [
            "Epoch 410\n",
            "\tepoch loss: {epoch_loss:9.261317074298859}\n",
            "\n"
          ],
          "name": "stdout"
        },
        {
          "output_type": "stream",
          "text": [
            " 41%|████▏     | 413/1001 [1:49:04<2:34:18, 15.75s/it]"
          ],
          "name": "stderr"
        },
        {
          "output_type": "stream",
          "text": [
            "Epoch 412\n",
            "\tepoch loss: {epoch_loss:8.754192233085632}\n",
            "\n"
          ],
          "name": "stdout"
        },
        {
          "output_type": "stream",
          "text": [
            " 41%|████▏     | 415/1001 [1:49:35<2:33:42, 15.74s/it]"
          ],
          "name": "stderr"
        },
        {
          "output_type": "stream",
          "text": [
            "Epoch 414\n",
            "\tepoch loss: {epoch_loss:9.128716617822647}\n",
            "\n"
          ],
          "name": "stdout"
        },
        {
          "output_type": "stream",
          "text": [
            " 42%|████▏     | 417/1001 [1:50:07<2:33:33, 15.78s/it]"
          ],
          "name": "stderr"
        },
        {
          "output_type": "stream",
          "text": [
            "Epoch 416\n",
            "\tepoch loss: {epoch_loss:9.247681230306625}\n",
            "\n"
          ],
          "name": "stdout"
        },
        {
          "output_type": "stream",
          "text": [
            " 42%|████▏     | 419/1001 [1:50:38<2:33:01, 15.78s/it]"
          ],
          "name": "stderr"
        },
        {
          "output_type": "stream",
          "text": [
            "Epoch 418\n",
            "\tepoch loss: {epoch_loss:8.721443623304367}\n",
            "\n"
          ],
          "name": "stdout"
        },
        {
          "output_type": "stream",
          "text": [
            " 42%|████▏     | 421/1001 [1:51:10<2:32:26, 15.77s/it]"
          ],
          "name": "stderr"
        },
        {
          "output_type": "stream",
          "text": [
            "Epoch 420\n",
            "\tepoch loss: {epoch_loss:9.159754604101181}\n",
            "\n"
          ],
          "name": "stdout"
        },
        {
          "output_type": "stream",
          "text": [
            " 42%|████▏     | 423/1001 [1:51:42<2:31:59, 15.78s/it]"
          ],
          "name": "stderr"
        },
        {
          "output_type": "stream",
          "text": [
            "Epoch 422\n",
            "\tepoch loss: {epoch_loss:8.595979005098343}\n",
            "\n"
          ],
          "name": "stdout"
        },
        {
          "output_type": "stream",
          "text": [
            " 42%|████▏     | 425/1001 [1:52:13<2:31:16, 15.76s/it]"
          ],
          "name": "stderr"
        },
        {
          "output_type": "stream",
          "text": [
            "Epoch 424\n",
            "\tepoch loss: {epoch_loss:8.830415219068527}\n",
            "\n"
          ],
          "name": "stdout"
        },
        {
          "output_type": "stream",
          "text": [
            " 43%|████▎     | 427/1001 [1:52:45<2:30:49, 15.77s/it]"
          ],
          "name": "stderr"
        },
        {
          "output_type": "stream",
          "text": [
            "Epoch 426\n",
            "\tepoch loss: {epoch_loss:8.57186222076416}\n",
            "\n"
          ],
          "name": "stdout"
        },
        {
          "output_type": "stream",
          "text": [
            " 43%|████▎     | 429/1001 [1:53:16<2:30:14, 15.76s/it]"
          ],
          "name": "stderr"
        },
        {
          "output_type": "stream",
          "text": [
            "Epoch 428\n",
            "\tepoch loss: {epoch_loss:8.775689542293549}\n",
            "\n"
          ],
          "name": "stdout"
        },
        {
          "output_type": "stream",
          "text": [
            " 43%|████▎     | 431/1001 [1:53:48<2:29:35, 15.75s/it]"
          ],
          "name": "stderr"
        },
        {
          "output_type": "stream",
          "text": [
            "Epoch 430\n",
            "\tepoch loss: {epoch_loss:8.559131026268005}\n",
            "\n"
          ],
          "name": "stdout"
        },
        {
          "output_type": "stream",
          "text": [
            " 43%|████▎     | 433/1001 [1:54:19<2:29:11, 15.76s/it]"
          ],
          "name": "stderr"
        },
        {
          "output_type": "stream",
          "text": [
            "Epoch 432\n",
            "\tepoch loss: {epoch_loss:8.778833031654358}\n",
            "\n"
          ],
          "name": "stdout"
        },
        {
          "output_type": "stream",
          "text": [
            " 43%|████▎     | 435/1001 [1:54:51<2:28:43, 15.77s/it]"
          ],
          "name": "stderr"
        },
        {
          "output_type": "stream",
          "text": [
            "Epoch 434\n",
            "\tepoch loss: {epoch_loss:8.844614267349243}\n",
            "\n"
          ],
          "name": "stdout"
        },
        {
          "output_type": "stream",
          "text": [
            " 44%|████▎     | 437/1001 [1:55:22<2:28:07, 15.76s/it]"
          ],
          "name": "stderr"
        },
        {
          "output_type": "stream",
          "text": [
            "Epoch 436\n",
            "\tepoch loss: {epoch_loss:8.937136977910995}\n",
            "\n"
          ],
          "name": "stdout"
        },
        {
          "output_type": "stream",
          "text": [
            " 44%|████▍     | 439/1001 [1:55:54<2:27:32, 15.75s/it]"
          ],
          "name": "stderr"
        },
        {
          "output_type": "stream",
          "text": [
            "Epoch 438\n",
            "\tepoch loss: {epoch_loss:8.992409020662308}\n",
            "\n"
          ],
          "name": "stdout"
        },
        {
          "output_type": "stream",
          "text": [
            " 44%|████▍     | 441/1001 [1:56:25<2:27:07, 15.76s/it]"
          ],
          "name": "stderr"
        },
        {
          "output_type": "stream",
          "text": [
            "Epoch 440\n",
            "\tepoch loss: {epoch_loss:8.518836379051208}\n",
            "\n"
          ],
          "name": "stdout"
        },
        {
          "output_type": "stream",
          "text": [
            " 44%|████▍     | 443/1001 [1:56:57<2:26:40, 15.77s/it]"
          ],
          "name": "stderr"
        },
        {
          "output_type": "stream",
          "text": [
            "Epoch 442\n",
            "\tepoch loss: {epoch_loss:8.745223253965378}\n",
            "\n"
          ],
          "name": "stdout"
        },
        {
          "output_type": "stream",
          "text": [
            " 44%|████▍     | 445/1001 [1:57:28<2:26:00, 15.76s/it]"
          ],
          "name": "stderr"
        },
        {
          "output_type": "stream",
          "text": [
            "Epoch 444\n",
            "\tepoch loss: {epoch_loss:8.68883341550827}\n",
            "\n"
          ],
          "name": "stdout"
        },
        {
          "output_type": "stream",
          "text": [
            " 45%|████▍     | 447/1001 [1:58:00<2:25:23, 15.75s/it]"
          ],
          "name": "stderr"
        },
        {
          "output_type": "stream",
          "text": [
            "Epoch 446\n",
            "\tepoch loss: {epoch_loss:8.765767961740494}\n",
            "\n"
          ],
          "name": "stdout"
        },
        {
          "output_type": "stream",
          "text": [
            " 45%|████▍     | 449/1001 [1:58:31<2:24:54, 15.75s/it]"
          ],
          "name": "stderr"
        },
        {
          "output_type": "stream",
          "text": [
            "Epoch 448\n",
            "\tepoch loss: {epoch_loss:8.357432395219803}\n",
            "\n"
          ],
          "name": "stdout"
        },
        {
          "output_type": "stream",
          "text": [
            " 45%|████▌     | 451/1001 [1:59:03<2:24:17, 15.74s/it]"
          ],
          "name": "stderr"
        },
        {
          "output_type": "stream",
          "text": [
            "Epoch 450\n",
            "\tepoch loss: {epoch_loss:8.699804693460464}\n",
            "\n"
          ],
          "name": "stdout"
        },
        {
          "output_type": "stream",
          "text": [
            " 45%|████▌     | 453/1001 [1:59:34<2:23:55, 15.76s/it]"
          ],
          "name": "stderr"
        },
        {
          "output_type": "stream",
          "text": [
            "Epoch 452\n",
            "\tepoch loss: {epoch_loss:8.391764372587204}\n",
            "\n"
          ],
          "name": "stdout"
        },
        {
          "output_type": "stream",
          "text": [
            " 45%|████▌     | 455/1001 [2:00:06<2:23:26, 15.76s/it]"
          ],
          "name": "stderr"
        },
        {
          "output_type": "stream",
          "text": [
            "Epoch 454\n",
            "\tepoch loss: {epoch_loss:8.438831955194473}\n",
            "\n"
          ],
          "name": "stdout"
        },
        {
          "output_type": "stream",
          "text": [
            " 46%|████▌     | 457/1001 [2:00:37<2:22:44, 15.74s/it]"
          ],
          "name": "stderr"
        },
        {
          "output_type": "stream",
          "text": [
            "Epoch 456\n",
            "\tepoch loss: {epoch_loss:8.4900424182415}\n",
            "\n"
          ],
          "name": "stdout"
        },
        {
          "output_type": "stream",
          "text": [
            " 46%|████▌     | 459/1001 [2:01:09<2:22:21, 15.76s/it]"
          ],
          "name": "stderr"
        },
        {
          "output_type": "stream",
          "text": [
            "Epoch 458\n",
            "\tepoch loss: {epoch_loss:8.659289717674255}\n",
            "\n"
          ],
          "name": "stdout"
        },
        {
          "output_type": "stream",
          "text": [
            " 46%|████▌     | 461/1001 [2:01:40<2:21:37, 15.74s/it]"
          ],
          "name": "stderr"
        },
        {
          "output_type": "stream",
          "text": [
            "Epoch 460\n",
            "\tepoch loss: {epoch_loss:8.738884150981903}\n",
            "\n"
          ],
          "name": "stdout"
        },
        {
          "output_type": "stream",
          "text": [
            " 46%|████▋     | 463/1001 [2:02:12<2:21:14, 15.75s/it]"
          ],
          "name": "stderr"
        },
        {
          "output_type": "stream",
          "text": [
            "Epoch 462\n",
            "\tepoch loss: {epoch_loss:8.221994251012802}\n",
            "\n"
          ],
          "name": "stdout"
        },
        {
          "output_type": "stream",
          "text": [
            " 46%|████▋     | 465/1001 [2:02:43<2:20:42, 15.75s/it]"
          ],
          "name": "stderr"
        },
        {
          "output_type": "stream",
          "text": [
            "Epoch 464\n",
            "\tepoch loss: {epoch_loss:8.179434090852737}\n",
            "\n"
          ],
          "name": "stdout"
        },
        {
          "output_type": "stream",
          "text": [
            " 47%|████▋     | 467/1001 [2:03:15<2:20:17, 15.76s/it]"
          ],
          "name": "stderr"
        },
        {
          "output_type": "stream",
          "text": [
            "Epoch 466\n",
            "\tepoch loss: {epoch_loss:8.369667619466782}\n",
            "\n"
          ],
          "name": "stdout"
        },
        {
          "output_type": "stream",
          "text": [
            " 47%|████▋     | 469/1001 [2:03:46<2:19:41, 15.75s/it]"
          ],
          "name": "stderr"
        },
        {
          "output_type": "stream",
          "text": [
            "Epoch 468\n",
            "\tepoch loss: {epoch_loss:7.988482058048248}\n",
            "\n"
          ],
          "name": "stdout"
        },
        {
          "output_type": "stream",
          "text": [
            " 47%|████▋     | 471/1001 [2:04:18<2:19:20, 15.77s/it]"
          ],
          "name": "stderr"
        },
        {
          "output_type": "stream",
          "text": [
            "Epoch 470\n",
            "\tepoch loss: {epoch_loss:8.22701558470726}\n",
            "\n"
          ],
          "name": "stdout"
        },
        {
          "output_type": "stream",
          "text": [
            " 47%|████▋     | 473/1001 [2:04:49<2:18:39, 15.76s/it]"
          ],
          "name": "stderr"
        },
        {
          "output_type": "stream",
          "text": [
            "Epoch 472\n",
            "\tepoch loss: {epoch_loss:8.431092083454132}\n",
            "\n"
          ],
          "name": "stdout"
        },
        {
          "output_type": "stream",
          "text": [
            " 47%|████▋     | 475/1001 [2:05:21<2:18:01, 15.74s/it]"
          ],
          "name": "stderr"
        },
        {
          "output_type": "stream",
          "text": [
            "Epoch 474\n",
            "\tepoch loss: {epoch_loss:7.991633087396622}\n",
            "\n"
          ],
          "name": "stdout"
        },
        {
          "output_type": "stream",
          "text": [
            " 48%|████▊     | 477/1001 [2:05:52<2:17:26, 15.74s/it]"
          ],
          "name": "stderr"
        },
        {
          "output_type": "stream",
          "text": [
            "Epoch 476\n",
            "\tepoch loss: {epoch_loss:8.227437645196915}\n",
            "\n"
          ],
          "name": "stdout"
        },
        {
          "output_type": "stream",
          "text": [
            " 48%|████▊     | 479/1001 [2:06:24<2:16:37, 15.70s/it]"
          ],
          "name": "stderr"
        },
        {
          "output_type": "stream",
          "text": [
            "Epoch 478\n",
            "\tepoch loss: {epoch_loss:7.930699974298477}\n",
            "\n"
          ],
          "name": "stdout"
        },
        {
          "output_type": "stream",
          "text": [
            " 48%|████▊     | 481/1001 [2:06:55<2:16:14, 15.72s/it]"
          ],
          "name": "stderr"
        },
        {
          "output_type": "stream",
          "text": [
            "Epoch 480\n",
            "\tepoch loss: {epoch_loss:8.049344152212143}\n",
            "\n"
          ],
          "name": "stdout"
        },
        {
          "output_type": "stream",
          "text": [
            " 48%|████▊     | 483/1001 [2:07:27<2:15:44, 15.72s/it]"
          ],
          "name": "stderr"
        },
        {
          "output_type": "stream",
          "text": [
            "Epoch 482\n",
            "\tepoch loss: {epoch_loss:8.064360201358795}\n",
            "\n"
          ],
          "name": "stdout"
        },
        {
          "output_type": "stream",
          "text": [
            " 48%|████▊     | 485/1001 [2:07:58<2:15:19, 15.73s/it]"
          ],
          "name": "stderr"
        },
        {
          "output_type": "stream",
          "text": [
            "Epoch 484\n",
            "\tepoch loss: {epoch_loss:8.041274666786194}\n",
            "\n"
          ],
          "name": "stdout"
        },
        {
          "output_type": "stream",
          "text": [
            " 49%|████▊     | 487/1001 [2:08:29<2:14:47, 15.73s/it]"
          ],
          "name": "stderr"
        },
        {
          "output_type": "stream",
          "text": [
            "Epoch 486\n",
            "\tepoch loss: {epoch_loss:8.109475195407867}\n",
            "\n"
          ],
          "name": "stdout"
        },
        {
          "output_type": "stream",
          "text": [
            " 49%|████▉     | 489/1001 [2:09:01<2:14:20, 15.74s/it]"
          ],
          "name": "stderr"
        },
        {
          "output_type": "stream",
          "text": [
            "Epoch 488\n",
            "\tepoch loss: {epoch_loss:8.109019756317139}\n",
            "\n"
          ],
          "name": "stdout"
        },
        {
          "output_type": "stream",
          "text": [
            " 49%|████▉     | 491/1001 [2:09:32<2:13:46, 15.74s/it]"
          ],
          "name": "stderr"
        },
        {
          "output_type": "stream",
          "text": [
            "Epoch 490\n",
            "\tepoch loss: {epoch_loss:7.719030320644379}\n",
            "\n"
          ],
          "name": "stdout"
        },
        {
          "output_type": "stream",
          "text": [
            " 49%|████▉     | 493/1001 [2:10:04<2:13:24, 15.76s/it]"
          ],
          "name": "stderr"
        },
        {
          "output_type": "stream",
          "text": [
            "Epoch 492\n",
            "\tepoch loss: {epoch_loss:7.86786362528801}\n",
            "\n"
          ],
          "name": "stdout"
        },
        {
          "output_type": "stream",
          "text": [
            " 49%|████▉     | 495/1001 [2:10:35<2:12:43, 15.74s/it]"
          ],
          "name": "stderr"
        },
        {
          "output_type": "stream",
          "text": [
            "Epoch 494\n",
            "\tepoch loss: {epoch_loss:7.653323203325272}\n",
            "\n"
          ],
          "name": "stdout"
        },
        {
          "output_type": "stream",
          "text": [
            " 50%|████▉     | 497/1001 [2:11:07<2:12:19, 15.75s/it]"
          ],
          "name": "stderr"
        },
        {
          "output_type": "stream",
          "text": [
            "Epoch 496\n",
            "\tepoch loss: {epoch_loss:7.5849044024944305}\n",
            "\n"
          ],
          "name": "stdout"
        },
        {
          "output_type": "stream",
          "text": [
            " 50%|████▉     | 499/1001 [2:11:38<2:11:36, 15.73s/it]"
          ],
          "name": "stderr"
        },
        {
          "output_type": "stream",
          "text": [
            "Epoch 498\n",
            "\tepoch loss: {epoch_loss:8.070785969495773}\n",
            "\n"
          ],
          "name": "stdout"
        },
        {
          "output_type": "stream",
          "text": [
            " 50%|█████     | 501/1001 [2:12:10<2:11:16, 15.75s/it]"
          ],
          "name": "stderr"
        },
        {
          "output_type": "stream",
          "text": [
            "Epoch 500\n",
            "\tepoch loss: {epoch_loss:7.924796521663666}\n",
            "\n"
          ],
          "name": "stdout"
        },
        {
          "output_type": "stream",
          "text": [
            " 50%|█████     | 503/1001 [2:12:41<2:10:44, 15.75s/it]"
          ],
          "name": "stderr"
        },
        {
          "output_type": "stream",
          "text": [
            "Epoch 502\n",
            "\tepoch loss: {epoch_loss:8.031898140907288}\n",
            "\n"
          ],
          "name": "stdout"
        },
        {
          "output_type": "stream",
          "text": [
            " 50%|█████     | 505/1001 [2:13:13<2:10:12, 15.75s/it]"
          ],
          "name": "stderr"
        },
        {
          "output_type": "stream",
          "text": [
            "Epoch 504\n",
            "\tepoch loss: {epoch_loss:7.737461119890213}\n",
            "\n"
          ],
          "name": "stdout"
        },
        {
          "output_type": "stream",
          "text": [
            " 51%|█████     | 507/1001 [2:13:44<2:09:29, 15.73s/it]"
          ],
          "name": "stderr"
        },
        {
          "output_type": "stream",
          "text": [
            "Epoch 506\n",
            "\tepoch loss: {epoch_loss:7.891016602516174}\n",
            "\n"
          ],
          "name": "stdout"
        },
        {
          "output_type": "stream",
          "text": [
            " 51%|█████     | 509/1001 [2:14:16<2:09:02, 15.74s/it]"
          ],
          "name": "stderr"
        },
        {
          "output_type": "stream",
          "text": [
            "Epoch 508\n",
            "\tepoch loss: {epoch_loss:7.655165523290634}\n",
            "\n"
          ],
          "name": "stdout"
        },
        {
          "output_type": "stream",
          "text": [
            " 51%|█████     | 511/1001 [2:14:47<2:08:26, 15.73s/it]"
          ],
          "name": "stderr"
        },
        {
          "output_type": "stream",
          "text": [
            "Epoch 510\n",
            "\tepoch loss: {epoch_loss:7.700400948524475}\n",
            "\n"
          ],
          "name": "stdout"
        },
        {
          "output_type": "stream",
          "text": [
            " 51%|█████     | 513/1001 [2:15:19<2:08:03, 15.74s/it]"
          ],
          "name": "stderr"
        },
        {
          "output_type": "stream",
          "text": [
            "Epoch 512\n",
            "\tepoch loss: {epoch_loss:8.429765194654465}\n",
            "\n"
          ],
          "name": "stdout"
        },
        {
          "output_type": "stream",
          "text": [
            " 51%|█████▏    | 515/1001 [2:15:50<2:07:17, 15.72s/it]"
          ],
          "name": "stderr"
        },
        {
          "output_type": "stream",
          "text": [
            "Epoch 514\n",
            "\tepoch loss: {epoch_loss:7.465286672115326}\n",
            "\n"
          ],
          "name": "stdout"
        },
        {
          "output_type": "stream",
          "text": [
            " 52%|█████▏    | 517/1001 [2:16:22<2:06:53, 15.73s/it]"
          ],
          "name": "stderr"
        },
        {
          "output_type": "stream",
          "text": [
            "Epoch 516\n",
            "\tepoch loss: {epoch_loss:7.48467144370079}\n",
            "\n"
          ],
          "name": "stdout"
        },
        {
          "output_type": "stream",
          "text": [
            " 52%|█████▏    | 519/1001 [2:16:53<2:06:26, 15.74s/it]"
          ],
          "name": "stderr"
        },
        {
          "output_type": "stream",
          "text": [
            "Epoch 518\n",
            "\tepoch loss: {epoch_loss:7.4658277332782745}\n",
            "\n"
          ],
          "name": "stdout"
        },
        {
          "output_type": "stream",
          "text": [
            " 52%|█████▏    | 521/1001 [2:17:25<2:05:58, 15.75s/it]"
          ],
          "name": "stderr"
        },
        {
          "output_type": "stream",
          "text": [
            "Epoch 520\n",
            "\tepoch loss: {epoch_loss:7.706271469593048}\n",
            "\n"
          ],
          "name": "stdout"
        },
        {
          "output_type": "stream",
          "text": [
            " 52%|█████▏    | 523/1001 [2:17:56<2:05:24, 15.74s/it]"
          ],
          "name": "stderr"
        },
        {
          "output_type": "stream",
          "text": [
            "Epoch 522\n",
            "\tepoch loss: {epoch_loss:7.401881158351898}\n",
            "\n"
          ],
          "name": "stdout"
        },
        {
          "output_type": "stream",
          "text": [
            " 52%|█████▏    | 525/1001 [2:18:28<2:05:03, 15.76s/it]"
          ],
          "name": "stderr"
        },
        {
          "output_type": "stream",
          "text": [
            "Epoch 524\n",
            "\tepoch loss: {epoch_loss:7.372143805027008}\n",
            "\n"
          ],
          "name": "stdout"
        },
        {
          "output_type": "stream",
          "text": [
            " 53%|█████▎    | 527/1001 [2:18:59<2:04:29, 15.76s/it]"
          ],
          "name": "stderr"
        },
        {
          "output_type": "stream",
          "text": [
            "Epoch 526\n",
            "\tepoch loss: {epoch_loss:7.514191657304764}\n",
            "\n"
          ],
          "name": "stdout"
        },
        {
          "output_type": "stream",
          "text": [
            " 53%|█████▎    | 529/1001 [2:19:31<2:03:53, 15.75s/it]"
          ],
          "name": "stderr"
        },
        {
          "output_type": "stream",
          "text": [
            "Epoch 528\n",
            "\tepoch loss: {epoch_loss:7.629675984382629}\n",
            "\n"
          ],
          "name": "stdout"
        },
        {
          "output_type": "stream",
          "text": [
            " 53%|█████▎    | 531/1001 [2:20:02<2:03:33, 15.77s/it]"
          ],
          "name": "stderr"
        },
        {
          "output_type": "stream",
          "text": [
            "Epoch 530\n",
            "\tepoch loss: {epoch_loss:7.443980813026428}\n",
            "\n"
          ],
          "name": "stdout"
        },
        {
          "output_type": "stream",
          "text": [
            " 53%|█████▎    | 533/1001 [2:20:34<2:03:03, 15.78s/it]"
          ],
          "name": "stderr"
        },
        {
          "output_type": "stream",
          "text": [
            "Epoch 532\n",
            "\tepoch loss: {epoch_loss:7.30233758687973}\n",
            "\n"
          ],
          "name": "stdout"
        },
        {
          "output_type": "stream",
          "text": [
            " 53%|█████▎    | 535/1001 [2:21:05<2:02:22, 15.76s/it]"
          ],
          "name": "stderr"
        },
        {
          "output_type": "stream",
          "text": [
            "Epoch 534\n",
            "\tepoch loss: {epoch_loss:7.330541104078293}\n",
            "\n"
          ],
          "name": "stdout"
        },
        {
          "output_type": "stream",
          "text": [
            " 54%|█████▎    | 537/1001 [2:21:37<2:01:52, 15.76s/it]"
          ],
          "name": "stderr"
        },
        {
          "output_type": "stream",
          "text": [
            "Epoch 536\n",
            "\tepoch loss: {epoch_loss:7.320204824209213}\n",
            "\n"
          ],
          "name": "stdout"
        },
        {
          "output_type": "stream",
          "text": [
            " 54%|█████▍    | 539/1001 [2:22:08<2:01:23, 15.76s/it]"
          ],
          "name": "stderr"
        },
        {
          "output_type": "stream",
          "text": [
            "Epoch 538\n",
            "\tepoch loss: {epoch_loss:7.380391448736191}\n",
            "\n"
          ],
          "name": "stdout"
        },
        {
          "output_type": "stream",
          "text": [
            " 54%|█████▍    | 541/1001 [2:22:40<2:00:43, 15.75s/it]"
          ],
          "name": "stderr"
        },
        {
          "output_type": "stream",
          "text": [
            "Epoch 540\n",
            "\tepoch loss: {epoch_loss:7.279317170381546}\n",
            "\n"
          ],
          "name": "stdout"
        },
        {
          "output_type": "stream",
          "text": [
            " 54%|█████▍    | 543/1001 [2:23:11<2:00:16, 15.76s/it]"
          ],
          "name": "stderr"
        },
        {
          "output_type": "stream",
          "text": [
            "Epoch 542\n",
            "\tepoch loss: {epoch_loss:7.112005323171616}\n",
            "\n"
          ],
          "name": "stdout"
        },
        {
          "output_type": "stream",
          "text": [
            " 54%|█████▍    | 545/1001 [2:23:43<1:59:35, 15.74s/it]"
          ],
          "name": "stderr"
        },
        {
          "output_type": "stream",
          "text": [
            "Epoch 544\n",
            "\tepoch loss: {epoch_loss:7.338169887661934}\n",
            "\n"
          ],
          "name": "stdout"
        },
        {
          "output_type": "stream",
          "text": [
            " 55%|█████▍    | 547/1001 [2:24:14<1:59:13, 15.76s/it]"
          ],
          "name": "stderr"
        },
        {
          "output_type": "stream",
          "text": [
            "Epoch 546\n",
            "\tepoch loss: {epoch_loss:7.505389600992203}\n",
            "\n"
          ],
          "name": "stdout"
        },
        {
          "output_type": "stream",
          "text": [
            " 55%|█████▍    | 549/1001 [2:24:46<1:58:29, 15.73s/it]"
          ],
          "name": "stderr"
        },
        {
          "output_type": "stream",
          "text": [
            "Epoch 548\n",
            "\tepoch loss: {epoch_loss:7.157663643360138}\n",
            "\n"
          ],
          "name": "stdout"
        },
        {
          "output_type": "stream",
          "text": [
            " 55%|█████▌    | 551/1001 [2:25:17<1:57:49, 15.71s/it]"
          ],
          "name": "stderr"
        },
        {
          "output_type": "stream",
          "text": [
            "Epoch 550\n",
            "\tepoch loss: {epoch_loss:6.796177625656128}\n",
            "\n"
          ],
          "name": "stdout"
        },
        {
          "output_type": "stream",
          "text": [
            " 55%|█████▌    | 553/1001 [2:25:49<1:57:21, 15.72s/it]"
          ],
          "name": "stderr"
        },
        {
          "output_type": "stream",
          "text": [
            "Epoch 552\n",
            "\tepoch loss: {epoch_loss:7.179333657026291}\n",
            "\n"
          ],
          "name": "stdout"
        },
        {
          "output_type": "stream",
          "text": [
            " 55%|█████▌    | 555/1001 [2:26:20<1:56:44, 15.71s/it]"
          ],
          "name": "stderr"
        },
        {
          "output_type": "stream",
          "text": [
            "Epoch 554\n",
            "\tepoch loss: {epoch_loss:7.665415436029434}\n",
            "\n"
          ],
          "name": "stdout"
        },
        {
          "output_type": "stream",
          "text": [
            " 56%|█████▌    | 557/1001 [2:26:51<1:55:52, 15.66s/it]"
          ],
          "name": "stderr"
        },
        {
          "output_type": "stream",
          "text": [
            "Epoch 556\n",
            "\tepoch loss: {epoch_loss:7.009294122457504}\n",
            "\n"
          ],
          "name": "stdout"
        },
        {
          "output_type": "stream",
          "text": [
            " 56%|█████▌    | 559/1001 [2:27:23<1:55:33, 15.69s/it]"
          ],
          "name": "stderr"
        },
        {
          "output_type": "stream",
          "text": [
            "Epoch 558\n",
            "\tepoch loss: {epoch_loss:6.84146511554718}\n",
            "\n"
          ],
          "name": "stdout"
        },
        {
          "output_type": "stream",
          "text": [
            " 56%|█████▌    | 561/1001 [2:27:54<1:55:06, 15.70s/it]"
          ],
          "name": "stderr"
        },
        {
          "output_type": "stream",
          "text": [
            "Epoch 560\n",
            "\tepoch loss: {epoch_loss:7.075144335627556}\n",
            "\n"
          ],
          "name": "stdout"
        },
        {
          "output_type": "stream",
          "text": [
            " 56%|█████▌    | 563/1001 [2:28:25<1:54:31, 15.69s/it]"
          ],
          "name": "stderr"
        },
        {
          "output_type": "stream",
          "text": [
            "Epoch 562\n",
            "\tepoch loss: {epoch_loss:7.065136417746544}\n",
            "\n"
          ],
          "name": "stdout"
        },
        {
          "output_type": "stream",
          "text": [
            " 56%|█████▋    | 565/1001 [2:28:57<1:53:47, 15.66s/it]"
          ],
          "name": "stderr"
        },
        {
          "output_type": "stream",
          "text": [
            "Epoch 564\n",
            "\tepoch loss: {epoch_loss:6.836780890822411}\n",
            "\n"
          ],
          "name": "stdout"
        },
        {
          "output_type": "stream",
          "text": [
            " 57%|█████▋    | 567/1001 [2:29:28<1:53:55, 15.75s/it]"
          ],
          "name": "stderr"
        },
        {
          "output_type": "stream",
          "text": [
            "Epoch 566\n",
            "\tepoch loss: {epoch_loss:6.817381113767624}\n",
            "\n"
          ],
          "name": "stdout"
        },
        {
          "output_type": "stream",
          "text": [
            " 57%|█████▋    | 569/1001 [2:30:00<1:53:21, 15.74s/it]"
          ],
          "name": "stderr"
        },
        {
          "output_type": "stream",
          "text": [
            "Epoch 568\n",
            "\tepoch loss: {epoch_loss:6.878655433654785}\n",
            "\n"
          ],
          "name": "stdout"
        },
        {
          "output_type": "stream",
          "text": [
            " 57%|█████▋    | 571/1001 [2:30:31<1:52:34, 15.71s/it]"
          ],
          "name": "stderr"
        },
        {
          "output_type": "stream",
          "text": [
            "Epoch 570\n",
            "\tepoch loss: {epoch_loss:6.736313298344612}\n",
            "\n"
          ],
          "name": "stdout"
        },
        {
          "output_type": "stream",
          "text": [
            " 57%|█████▋    | 573/1001 [2:31:03<1:52:09, 15.72s/it]"
          ],
          "name": "stderr"
        },
        {
          "output_type": "stream",
          "text": [
            "Epoch 572\n",
            "\tepoch loss: {epoch_loss:6.7713771015405655}\n",
            "\n"
          ],
          "name": "stdout"
        },
        {
          "output_type": "stream",
          "text": [
            " 57%|█████▋    | 575/1001 [2:31:34<1:51:36, 15.72s/it]"
          ],
          "name": "stderr"
        },
        {
          "output_type": "stream",
          "text": [
            "Epoch 574\n",
            "\tepoch loss: {epoch_loss:6.642599731683731}\n",
            "\n"
          ],
          "name": "stdout"
        },
        {
          "output_type": "stream",
          "text": [
            " 58%|█████▊    | 577/1001 [2:32:06<1:51:36, 15.79s/it]"
          ],
          "name": "stderr"
        },
        {
          "output_type": "stream",
          "text": [
            "Epoch 576\n",
            "\tepoch loss: {epoch_loss:6.745034083724022}\n",
            "\n"
          ],
          "name": "stdout"
        },
        {
          "output_type": "stream",
          "text": [
            " 58%|█████▊    | 579/1001 [2:32:37<1:51:05, 15.80s/it]"
          ],
          "name": "stderr"
        },
        {
          "output_type": "stream",
          "text": [
            "Epoch 578\n",
            "\tepoch loss: {epoch_loss:6.654884338378906}\n",
            "\n"
          ],
          "name": "stdout"
        },
        {
          "output_type": "stream",
          "text": [
            " 58%|█████▊    | 581/1001 [2:33:09<1:50:40, 15.81s/it]"
          ],
          "name": "stderr"
        },
        {
          "output_type": "stream",
          "text": [
            "Epoch 580\n",
            "\tepoch loss: {epoch_loss:6.674437716603279}\n",
            "\n"
          ],
          "name": "stdout"
        },
        {
          "output_type": "stream",
          "text": [
            " 58%|█████▊    | 583/1001 [2:33:41<1:50:16, 15.83s/it]"
          ],
          "name": "stderr"
        },
        {
          "output_type": "stream",
          "text": [
            "Epoch 582\n",
            "\tepoch loss: {epoch_loss:6.4947118908166885}\n",
            "\n"
          ],
          "name": "stdout"
        },
        {
          "output_type": "stream",
          "text": [
            " 58%|█████▊    | 585/1001 [2:34:12<1:49:35, 15.81s/it]"
          ],
          "name": "stderr"
        },
        {
          "output_type": "stream",
          "text": [
            "Epoch 584\n",
            "\tepoch loss: {epoch_loss:7.063434660434723}\n",
            "\n"
          ],
          "name": "stdout"
        },
        {
          "output_type": "stream",
          "text": [
            " 59%|█████▊    | 587/1001 [2:34:44<1:48:56, 15.79s/it]"
          ],
          "name": "stderr"
        },
        {
          "output_type": "stream",
          "text": [
            "Epoch 586\n",
            "\tepoch loss: {epoch_loss:6.528758659958839}\n",
            "\n"
          ],
          "name": "stdout"
        },
        {
          "output_type": "stream",
          "text": [
            " 59%|█████▉    | 589/1001 [2:35:15<1:48:21, 15.78s/it]"
          ],
          "name": "stderr"
        },
        {
          "output_type": "stream",
          "text": [
            "Epoch 588\n",
            "\tepoch loss: {epoch_loss:6.497024431824684}\n",
            "\n"
          ],
          "name": "stdout"
        },
        {
          "output_type": "stream",
          "text": [
            " 59%|█████▉    | 591/1001 [2:35:47<1:48:02, 15.81s/it]"
          ],
          "name": "stderr"
        },
        {
          "output_type": "stream",
          "text": [
            "Epoch 590\n",
            "\tepoch loss: {epoch_loss:6.576534762978554}\n",
            "\n"
          ],
          "name": "stdout"
        },
        {
          "output_type": "stream",
          "text": [
            " 59%|█████▉    | 593/1001 [2:36:19<1:47:28, 15.81s/it]"
          ],
          "name": "stderr"
        },
        {
          "output_type": "stream",
          "text": [
            "Epoch 592\n",
            "\tepoch loss: {epoch_loss:6.3735455721616745}\n",
            "\n"
          ],
          "name": "stdout"
        },
        {
          "output_type": "stream",
          "text": [
            " 59%|█████▉    | 595/1001 [2:36:50<1:47:00, 15.81s/it]"
          ],
          "name": "stderr"
        },
        {
          "output_type": "stream",
          "text": [
            "Epoch 594\n",
            "\tepoch loss: {epoch_loss:6.484776571393013}\n",
            "\n"
          ],
          "name": "stdout"
        },
        {
          "output_type": "stream",
          "text": [
            " 60%|█████▉    | 597/1001 [2:37:22<1:46:21, 15.80s/it]"
          ],
          "name": "stderr"
        },
        {
          "output_type": "stream",
          "text": [
            "Epoch 596\n",
            "\tepoch loss: {epoch_loss:6.314722970128059}\n",
            "\n"
          ],
          "name": "stdout"
        },
        {
          "output_type": "stream",
          "text": [
            " 60%|█████▉    | 599/1001 [2:37:54<1:46:03, 15.83s/it]"
          ],
          "name": "stderr"
        },
        {
          "output_type": "stream",
          "text": [
            "Epoch 598\n",
            "\tepoch loss: {epoch_loss:6.379157602787018}\n",
            "\n"
          ],
          "name": "stdout"
        },
        {
          "output_type": "stream",
          "text": [
            " 60%|██████    | 601/1001 [2:38:25<1:45:29, 15.82s/it]"
          ],
          "name": "stderr"
        },
        {
          "output_type": "stream",
          "text": [
            "Epoch 600\n",
            "\tepoch loss: {epoch_loss:6.344103381037712}\n",
            "\n"
          ],
          "name": "stdout"
        },
        {
          "output_type": "stream",
          "text": [
            " 60%|██████    | 603/1001 [2:38:57<1:44:59, 15.83s/it]"
          ],
          "name": "stderr"
        },
        {
          "output_type": "stream",
          "text": [
            "Epoch 602\n",
            "\tepoch loss: {epoch_loss:6.255101263523102}\n",
            "\n"
          ],
          "name": "stdout"
        },
        {
          "output_type": "stream",
          "text": [
            " 60%|██████    | 605/1001 [2:39:28<1:44:27, 15.83s/it]"
          ],
          "name": "stderr"
        },
        {
          "output_type": "stream",
          "text": [
            "Epoch 604\n",
            "\tepoch loss: {epoch_loss:6.5588230937719345}\n",
            "\n"
          ],
          "name": "stdout"
        },
        {
          "output_type": "stream",
          "text": [
            " 61%|██████    | 607/1001 [2:40:00<1:44:07, 15.86s/it]"
          ],
          "name": "stderr"
        },
        {
          "output_type": "stream",
          "text": [
            "Epoch 606\n",
            "\tepoch loss: {epoch_loss:6.344180017709732}\n",
            "\n"
          ],
          "name": "stdout"
        },
        {
          "output_type": "stream",
          "text": [
            " 61%|██████    | 609/1001 [2:40:32<1:43:43, 15.88s/it]"
          ],
          "name": "stderr"
        },
        {
          "output_type": "stream",
          "text": [
            "Epoch 608\n",
            "\tepoch loss: {epoch_loss:6.139975413680077}\n",
            "\n"
          ],
          "name": "stdout"
        },
        {
          "output_type": "stream",
          "text": [
            " 61%|██████    | 611/1001 [2:41:04<1:43:05, 15.86s/it]"
          ],
          "name": "stderr"
        },
        {
          "output_type": "stream",
          "text": [
            "Epoch 610\n",
            "\tepoch loss: {epoch_loss:6.270231857895851}\n",
            "\n"
          ],
          "name": "stdout"
        },
        {
          "output_type": "stream",
          "text": [
            " 61%|██████    | 613/1001 [2:41:35<1:42:30, 15.85s/it]"
          ],
          "name": "stderr"
        },
        {
          "output_type": "stream",
          "text": [
            "Epoch 612\n",
            "\tepoch loss: {epoch_loss:6.20223231613636}\n",
            "\n"
          ],
          "name": "stdout"
        },
        {
          "output_type": "stream",
          "text": [
            " 61%|██████▏   | 615/1001 [2:42:07<1:41:56, 15.85s/it]"
          ],
          "name": "stderr"
        },
        {
          "output_type": "stream",
          "text": [
            "Epoch 614\n",
            "\tepoch loss: {epoch_loss:6.176835939288139}\n",
            "\n"
          ],
          "name": "stdout"
        },
        {
          "output_type": "stream",
          "text": [
            " 62%|██████▏   | 617/1001 [2:42:39<1:41:18, 15.83s/it]"
          ],
          "name": "stderr"
        },
        {
          "output_type": "stream",
          "text": [
            "Epoch 616\n",
            "\tepoch loss: {epoch_loss:6.296417236328125}\n",
            "\n"
          ],
          "name": "stdout"
        },
        {
          "output_type": "stream",
          "text": [
            " 62%|██████▏   | 619/1001 [2:43:10<1:40:52, 15.84s/it]"
          ],
          "name": "stderr"
        },
        {
          "output_type": "stream",
          "text": [
            "Epoch 618\n",
            "\tepoch loss: {epoch_loss:5.971851229667664}\n",
            "\n"
          ],
          "name": "stdout"
        },
        {
          "output_type": "stream",
          "text": [
            " 62%|██████▏   | 621/1001 [2:43:42<1:40:20, 15.84s/it]"
          ],
          "name": "stderr"
        },
        {
          "output_type": "stream",
          "text": [
            "Epoch 620\n",
            "\tepoch loss: {epoch_loss:6.15987440943718}\n",
            "\n"
          ],
          "name": "stdout"
        },
        {
          "output_type": "stream",
          "text": [
            " 62%|██████▏   | 623/1001 [2:44:14<1:39:49, 15.84s/it]"
          ],
          "name": "stderr"
        },
        {
          "output_type": "stream",
          "text": [
            "Epoch 622\n",
            "\tepoch loss: {epoch_loss:6.248924121260643}\n",
            "\n"
          ],
          "name": "stdout"
        },
        {
          "output_type": "stream",
          "text": [
            " 62%|██████▏   | 625/1001 [2:44:46<1:39:19, 15.85s/it]"
          ],
          "name": "stderr"
        },
        {
          "output_type": "stream",
          "text": [
            "Epoch 624\n",
            "\tepoch loss: {epoch_loss:5.969075858592987}\n",
            "\n"
          ],
          "name": "stdout"
        },
        {
          "output_type": "stream",
          "text": [
            " 63%|██████▎   | 627/1001 [2:45:17<1:38:44, 15.84s/it]"
          ],
          "name": "stderr"
        },
        {
          "output_type": "stream",
          "text": [
            "Epoch 626\n",
            "\tepoch loss: {epoch_loss:5.972615003585815}\n",
            "\n"
          ],
          "name": "stdout"
        },
        {
          "output_type": "stream",
          "text": [
            " 63%|██████▎   | 629/1001 [2:45:49<1:37:59, 15.80s/it]"
          ],
          "name": "stderr"
        },
        {
          "output_type": "stream",
          "text": [
            "Epoch 628\n",
            "\tepoch loss: {epoch_loss:5.869398877024651}\n",
            "\n"
          ],
          "name": "stdout"
        },
        {
          "output_type": "stream",
          "text": [
            " 63%|██████▎   | 631/1001 [2:46:20<1:37:20, 15.79s/it]"
          ],
          "name": "stderr"
        },
        {
          "output_type": "stream",
          "text": [
            "Epoch 630\n",
            "\tepoch loss: {epoch_loss:5.821298241615295}\n",
            "\n"
          ],
          "name": "stdout"
        },
        {
          "output_type": "stream",
          "text": [
            " 63%|██████▎   | 633/1001 [2:46:52<1:36:58, 15.81s/it]"
          ],
          "name": "stderr"
        },
        {
          "output_type": "stream",
          "text": [
            "Epoch 632\n",
            "\tepoch loss: {epoch_loss:5.80454558134079}\n",
            "\n"
          ],
          "name": "stdout"
        },
        {
          "output_type": "stream",
          "text": [
            " 63%|██████▎   | 635/1001 [2:47:24<1:36:32, 15.83s/it]"
          ],
          "name": "stderr"
        },
        {
          "output_type": "stream",
          "text": [
            "Epoch 634\n",
            "\tepoch loss: {epoch_loss:5.801573142409325}\n",
            "\n"
          ],
          "name": "stdout"
        },
        {
          "output_type": "stream",
          "text": [
            " 64%|██████▎   | 637/1001 [2:47:55<1:36:06, 15.84s/it]"
          ],
          "name": "stderr"
        },
        {
          "output_type": "stream",
          "text": [
            "Epoch 636\n",
            "\tepoch loss: {epoch_loss:5.9882980436086655}\n",
            "\n"
          ],
          "name": "stdout"
        },
        {
          "output_type": "stream",
          "text": [
            " 64%|██████▍   | 639/1001 [2:48:27<1:35:24, 15.81s/it]"
          ],
          "name": "stderr"
        },
        {
          "output_type": "stream",
          "text": [
            "Epoch 638\n",
            "\tepoch loss: {epoch_loss:6.015824869275093}\n",
            "\n"
          ],
          "name": "stdout"
        },
        {
          "output_type": "stream",
          "text": [
            " 64%|██████▍   | 641/1001 [2:48:58<1:34:38, 15.77s/it]"
          ],
          "name": "stderr"
        },
        {
          "output_type": "stream",
          "text": [
            "Epoch 640\n",
            "\tepoch loss: {epoch_loss:5.771635368466377}\n",
            "\n"
          ],
          "name": "stdout"
        },
        {
          "output_type": "stream",
          "text": [
            " 64%|██████▍   | 643/1001 [2:49:30<1:34:02, 15.76s/it]"
          ],
          "name": "stderr"
        },
        {
          "output_type": "stream",
          "text": [
            "Epoch 642\n",
            "\tepoch loss: {epoch_loss:5.772629112005234}\n",
            "\n"
          ],
          "name": "stdout"
        },
        {
          "output_type": "stream",
          "text": [
            " 64%|██████▍   | 645/1001 [2:50:01<1:33:29, 15.76s/it]"
          ],
          "name": "stderr"
        },
        {
          "output_type": "stream",
          "text": [
            "Epoch 644\n",
            "\tepoch loss: {epoch_loss:5.915944442152977}\n",
            "\n"
          ],
          "name": "stdout"
        },
        {
          "output_type": "stream",
          "text": [
            " 65%|██████▍   | 647/1001 [2:50:33<1:33:10, 15.79s/it]"
          ],
          "name": "stderr"
        },
        {
          "output_type": "stream",
          "text": [
            "Epoch 646\n",
            "\tepoch loss: {epoch_loss:5.713238313794136}\n",
            "\n"
          ],
          "name": "stdout"
        },
        {
          "output_type": "stream",
          "text": [
            " 65%|██████▍   | 649/1001 [2:51:05<1:32:39, 15.79s/it]"
          ],
          "name": "stderr"
        },
        {
          "output_type": "stream",
          "text": [
            "Epoch 648\n",
            "\tepoch loss: {epoch_loss:5.522501766681671}\n",
            "\n"
          ],
          "name": "stdout"
        },
        {
          "output_type": "stream",
          "text": [
            " 65%|██████▌   | 651/1001 [2:51:36<1:32:03, 15.78s/it]"
          ],
          "name": "stderr"
        },
        {
          "output_type": "stream",
          "text": [
            "Epoch 650\n",
            "\tepoch loss: {epoch_loss:5.540883094072342}\n",
            "\n"
          ],
          "name": "stdout"
        },
        {
          "output_type": "stream",
          "text": [
            " 65%|██████▌   | 653/1001 [2:52:08<1:31:48, 15.83s/it]"
          ],
          "name": "stderr"
        },
        {
          "output_type": "stream",
          "text": [
            "Epoch 652\n",
            "\tepoch loss: {epoch_loss:5.508482426404953}\n",
            "\n"
          ],
          "name": "stdout"
        },
        {
          "output_type": "stream",
          "text": [
            " 65%|██████▌   | 655/1001 [2:52:39<1:31:09, 15.81s/it]"
          ],
          "name": "stderr"
        },
        {
          "output_type": "stream",
          "text": [
            "Epoch 654\n",
            "\tepoch loss: {epoch_loss:5.626707077026367}\n",
            "\n"
          ],
          "name": "stdout"
        },
        {
          "output_type": "stream",
          "text": [
            " 66%|██████▌   | 657/1001 [2:53:11<1:30:48, 15.84s/it]"
          ],
          "name": "stderr"
        },
        {
          "output_type": "stream",
          "text": [
            "Epoch 656\n",
            "\tepoch loss: {epoch_loss:5.361604392528534}\n",
            "\n"
          ],
          "name": "stdout"
        },
        {
          "output_type": "stream",
          "text": [
            " 66%|██████▌   | 659/1001 [2:53:43<1:30:22, 15.86s/it]"
          ],
          "name": "stderr"
        },
        {
          "output_type": "stream",
          "text": [
            "Epoch 658\n",
            "\tepoch loss: {epoch_loss:5.532252490520477}\n",
            "\n"
          ],
          "name": "stdout"
        },
        {
          "output_type": "stream",
          "text": [
            " 66%|██████▌   | 661/1001 [2:54:14<1:29:39, 15.82s/it]"
          ],
          "name": "stderr"
        },
        {
          "output_type": "stream",
          "text": [
            "Epoch 660\n",
            "\tepoch loss: {epoch_loss:5.526921644806862}\n",
            "\n"
          ],
          "name": "stdout"
        },
        {
          "output_type": "stream",
          "text": [
            " 66%|██████▌   | 663/1001 [2:54:46<1:28:56, 15.79s/it]"
          ],
          "name": "stderr"
        },
        {
          "output_type": "stream",
          "text": [
            "Epoch 662\n",
            "\tepoch loss: {epoch_loss:5.427767649292946}\n",
            "\n"
          ],
          "name": "stdout"
        },
        {
          "output_type": "stream",
          "text": [
            " 66%|██████▋   | 665/1001 [2:55:18<1:28:30, 15.81s/it]"
          ],
          "name": "stderr"
        },
        {
          "output_type": "stream",
          "text": [
            "Epoch 664\n",
            "\tepoch loss: {epoch_loss:5.477219447493553}\n",
            "\n"
          ],
          "name": "stdout"
        },
        {
          "output_type": "stream",
          "text": [
            " 67%|██████▋   | 667/1001 [2:55:49<1:28:10, 15.84s/it]"
          ],
          "name": "stderr"
        },
        {
          "output_type": "stream",
          "text": [
            "Epoch 666\n",
            "\tepoch loss: {epoch_loss:5.165364548563957}\n",
            "\n"
          ],
          "name": "stdout"
        },
        {
          "output_type": "stream",
          "text": [
            " 67%|██████▋   | 669/1001 [2:56:21<1:27:48, 15.87s/it]"
          ],
          "name": "stderr"
        },
        {
          "output_type": "stream",
          "text": [
            "Epoch 668\n",
            "\tepoch loss: {epoch_loss:5.208688855171204}\n",
            "\n"
          ],
          "name": "stdout"
        },
        {
          "output_type": "stream",
          "text": [
            " 67%|██████▋   | 671/1001 [2:56:53<1:27:06, 15.84s/it]"
          ],
          "name": "stderr"
        },
        {
          "output_type": "stream",
          "text": [
            "Epoch 670\n",
            "\tepoch loss: {epoch_loss:5.2715082466602325}\n",
            "\n"
          ],
          "name": "stdout"
        },
        {
          "output_type": "stream",
          "text": [
            " 67%|██████▋   | 673/1001 [2:57:24<1:26:34, 15.84s/it]"
          ],
          "name": "stderr"
        },
        {
          "output_type": "stream",
          "text": [
            "Epoch 672\n",
            "\tepoch loss: {epoch_loss:5.345525115728378}\n",
            "\n"
          ],
          "name": "stdout"
        },
        {
          "output_type": "stream",
          "text": [
            " 67%|██████▋   | 675/1001 [2:57:56<1:25:58, 15.82s/it]"
          ],
          "name": "stderr"
        },
        {
          "output_type": "stream",
          "text": [
            "Epoch 674\n",
            "\tepoch loss: {epoch_loss:5.175230413675308}\n",
            "\n"
          ],
          "name": "stdout"
        },
        {
          "output_type": "stream",
          "text": [
            " 68%|██████▊   | 677/1001 [2:58:28<1:25:21, 15.81s/it]"
          ],
          "name": "stderr"
        },
        {
          "output_type": "stream",
          "text": [
            "Epoch 676\n",
            "\tepoch loss: {epoch_loss:5.206335857510567}\n",
            "\n"
          ],
          "name": "stdout"
        },
        {
          "output_type": "stream",
          "text": [
            " 68%|██████▊   | 679/1001 [2:58:59<1:24:51, 15.81s/it]"
          ],
          "name": "stderr"
        },
        {
          "output_type": "stream",
          "text": [
            "Epoch 678\n",
            "\tepoch loss: {epoch_loss:4.944730222225189}\n",
            "\n"
          ],
          "name": "stdout"
        },
        {
          "output_type": "stream",
          "text": [
            " 68%|██████▊   | 681/1001 [2:59:31<1:24:19, 15.81s/it]"
          ],
          "name": "stderr"
        },
        {
          "output_type": "stream",
          "text": [
            "Epoch 680\n",
            "\tepoch loss: {epoch_loss:5.10158197581768}\n",
            "\n"
          ],
          "name": "stdout"
        },
        {
          "output_type": "stream",
          "text": [
            " 68%|██████▊   | 683/1001 [3:00:03<1:23:51, 15.82s/it]"
          ],
          "name": "stderr"
        },
        {
          "output_type": "stream",
          "text": [
            "Epoch 682\n",
            "\tepoch loss: {epoch_loss:5.07834093272686}\n",
            "\n"
          ],
          "name": "stdout"
        },
        {
          "output_type": "stream",
          "text": [
            " 68%|██████▊   | 685/1001 [3:00:34<1:23:21, 15.83s/it]"
          ],
          "name": "stderr"
        },
        {
          "output_type": "stream",
          "text": [
            "Epoch 684\n",
            "\tepoch loss: {epoch_loss:5.04442198574543}\n",
            "\n"
          ],
          "name": "stdout"
        },
        {
          "output_type": "stream",
          "text": [
            " 69%|██████▊   | 687/1001 [3:01:06<1:22:52, 15.83s/it]"
          ],
          "name": "stderr"
        },
        {
          "output_type": "stream",
          "text": [
            "Epoch 686\n",
            "\tepoch loss: {epoch_loss:5.05243980884552}\n",
            "\n"
          ],
          "name": "stdout"
        },
        {
          "output_type": "stream",
          "text": [
            " 69%|██████▉   | 689/1001 [3:01:38<1:22:25, 15.85s/it]"
          ],
          "name": "stderr"
        },
        {
          "output_type": "stream",
          "text": [
            "Epoch 688\n",
            "\tepoch loss: {epoch_loss:4.933245494961739}\n",
            "\n"
          ],
          "name": "stdout"
        },
        {
          "output_type": "stream",
          "text": [
            " 69%|██████▉   | 691/1001 [3:02:09<1:21:40, 15.81s/it]"
          ],
          "name": "stderr"
        },
        {
          "output_type": "stream",
          "text": [
            "Epoch 690\n",
            "\tepoch loss: {epoch_loss:4.810033097863197}\n",
            "\n"
          ],
          "name": "stdout"
        },
        {
          "output_type": "stream",
          "text": [
            " 69%|██████▉   | 693/1001 [3:02:41<1:21:00, 15.78s/it]"
          ],
          "name": "stderr"
        },
        {
          "output_type": "stream",
          "text": [
            "Epoch 692\n",
            "\tepoch loss: {epoch_loss:4.837321490049362}\n",
            "\n"
          ],
          "name": "stdout"
        },
        {
          "output_type": "stream",
          "text": [
            " 69%|██████▉   | 695/1001 [3:03:12<1:20:23, 15.76s/it]"
          ],
          "name": "stderr"
        },
        {
          "output_type": "stream",
          "text": [
            "Epoch 694\n",
            "\tepoch loss: {epoch_loss:5.023264870047569}\n",
            "\n"
          ],
          "name": "stdout"
        },
        {
          "output_type": "stream",
          "text": [
            " 70%|██████▉   | 697/1001 [3:03:44<1:19:58, 15.79s/it]"
          ],
          "name": "stderr"
        },
        {
          "output_type": "stream",
          "text": [
            "Epoch 696\n",
            "\tepoch loss: {epoch_loss:5.059108942747116}\n",
            "\n"
          ],
          "name": "stdout"
        },
        {
          "output_type": "stream",
          "text": [
            " 70%|██████▉   | 699/1001 [3:04:15<1:19:24, 15.78s/it]"
          ],
          "name": "stderr"
        },
        {
          "output_type": "stream",
          "text": [
            "Epoch 698\n",
            "\tepoch loss: {epoch_loss:4.897225096821785}\n",
            "\n"
          ],
          "name": "stdout"
        },
        {
          "output_type": "stream",
          "text": [
            " 70%|███████   | 701/1001 [3:04:47<1:18:53, 15.78s/it]"
          ],
          "name": "stderr"
        },
        {
          "output_type": "stream",
          "text": [
            "Epoch 700\n",
            "\tepoch loss: {epoch_loss:4.884637206792831}\n",
            "\n"
          ],
          "name": "stdout"
        },
        {
          "output_type": "stream",
          "text": [
            " 70%|███████   | 703/1001 [3:05:19<1:18:31, 15.81s/it]"
          ],
          "name": "stderr"
        },
        {
          "output_type": "stream",
          "text": [
            "Epoch 702\n",
            "\tepoch loss: {epoch_loss:4.951085209846497}\n",
            "\n"
          ],
          "name": "stdout"
        },
        {
          "output_type": "stream",
          "text": [
            " 70%|███████   | 705/1001 [3:05:50<1:18:02, 15.82s/it]"
          ],
          "name": "stderr"
        },
        {
          "output_type": "stream",
          "text": [
            "Epoch 704\n",
            "\tepoch loss: {epoch_loss:4.721285507082939}\n",
            "\n"
          ],
          "name": "stdout"
        },
        {
          "output_type": "stream",
          "text": [
            " 71%|███████   | 707/1001 [3:06:22<1:17:26, 15.80s/it]"
          ],
          "name": "stderr"
        },
        {
          "output_type": "stream",
          "text": [
            "Epoch 706\n",
            "\tepoch loss: {epoch_loss:4.7638079226017}\n",
            "\n"
          ],
          "name": "stdout"
        },
        {
          "output_type": "stream",
          "text": [
            " 71%|███████   | 709/1001 [3:06:53<1:16:53, 15.80s/it]"
          ],
          "name": "stderr"
        },
        {
          "output_type": "stream",
          "text": [
            "Epoch 708\n",
            "\tepoch loss: {epoch_loss:4.573077313601971}\n",
            "\n"
          ],
          "name": "stdout"
        },
        {
          "output_type": "stream",
          "text": [
            " 71%|███████   | 711/1001 [3:07:25<1:16:18, 15.79s/it]"
          ],
          "name": "stderr"
        },
        {
          "output_type": "stream",
          "text": [
            "Epoch 710\n",
            "\tepoch loss: {epoch_loss:4.617688477039337}\n",
            "\n"
          ],
          "name": "stdout"
        },
        {
          "output_type": "stream",
          "text": [
            " 71%|███████   | 713/1001 [3:07:57<1:15:43, 15.78s/it]"
          ],
          "name": "stderr"
        },
        {
          "output_type": "stream",
          "text": [
            "Epoch 712\n",
            "\tepoch loss: {epoch_loss:4.6774038672447205}\n",
            "\n"
          ],
          "name": "stdout"
        },
        {
          "output_type": "stream",
          "text": [
            " 71%|███████▏  | 715/1001 [3:08:28<1:15:11, 15.77s/it]"
          ],
          "name": "stderr"
        },
        {
          "output_type": "stream",
          "text": [
            "Epoch 714\n",
            "\tepoch loss: {epoch_loss:4.725907862186432}\n",
            "\n"
          ],
          "name": "stdout"
        },
        {
          "output_type": "stream",
          "text": [
            " 72%|███████▏  | 717/1001 [3:09:00<1:14:47, 15.80s/it]"
          ],
          "name": "stderr"
        },
        {
          "output_type": "stream",
          "text": [
            "Epoch 716\n",
            "\tepoch loss: {epoch_loss:4.755629241466522}\n",
            "\n"
          ],
          "name": "stdout"
        },
        {
          "output_type": "stream",
          "text": [
            " 72%|███████▏  | 719/1001 [3:09:31<1:14:11, 15.79s/it]"
          ],
          "name": "stderr"
        },
        {
          "output_type": "stream",
          "text": [
            "Epoch 718\n",
            "\tepoch loss: {epoch_loss:4.487575128674507}\n",
            "\n"
          ],
          "name": "stdout"
        },
        {
          "output_type": "stream",
          "text": [
            " 72%|███████▏  | 721/1001 [3:10:03<1:13:39, 15.78s/it]"
          ],
          "name": "stderr"
        },
        {
          "output_type": "stream",
          "text": [
            "Epoch 720\n",
            "\tepoch loss: {epoch_loss:4.5609181225299835}\n",
            "\n"
          ],
          "name": "stdout"
        },
        {
          "output_type": "stream",
          "text": [
            " 72%|███████▏  | 723/1001 [3:10:34<1:13:13, 15.80s/it]"
          ],
          "name": "stderr"
        },
        {
          "output_type": "stream",
          "text": [
            "Epoch 722\n",
            "\tepoch loss: {epoch_loss:4.299784481525421}\n",
            "\n"
          ],
          "name": "stdout"
        },
        {
          "output_type": "stream",
          "text": [
            " 72%|███████▏  | 725/1001 [3:11:06<1:12:38, 15.79s/it]"
          ],
          "name": "stderr"
        },
        {
          "output_type": "stream",
          "text": [
            "Epoch 724\n",
            "\tepoch loss: {epoch_loss:4.64137926697731}\n",
            "\n"
          ],
          "name": "stdout"
        },
        {
          "output_type": "stream",
          "text": [
            " 73%|███████▎  | 727/1001 [3:11:38<1:12:09, 15.80s/it]"
          ],
          "name": "stderr"
        },
        {
          "output_type": "stream",
          "text": [
            "Epoch 726\n",
            "\tepoch loss: {epoch_loss:4.408794194459915}\n",
            "\n"
          ],
          "name": "stdout"
        },
        {
          "output_type": "stream",
          "text": [
            " 73%|███████▎  | 729/1001 [3:12:09<1:11:46, 15.83s/it]"
          ],
          "name": "stderr"
        },
        {
          "output_type": "stream",
          "text": [
            "Epoch 728\n",
            "\tepoch loss: {epoch_loss:4.641346976161003}\n",
            "\n"
          ],
          "name": "stdout"
        },
        {
          "output_type": "stream",
          "text": [
            " 73%|███████▎  | 731/1001 [3:12:41<1:11:08, 15.81s/it]"
          ],
          "name": "stderr"
        },
        {
          "output_type": "stream",
          "text": [
            "Epoch 730\n",
            "\tepoch loss: {epoch_loss:4.42544624209404}\n",
            "\n"
          ],
          "name": "stdout"
        },
        {
          "output_type": "stream",
          "text": [
            " 73%|███████▎  | 733/1001 [3:13:12<1:10:31, 15.79s/it]"
          ],
          "name": "stderr"
        },
        {
          "output_type": "stream",
          "text": [
            "Epoch 732\n",
            "\tepoch loss: {epoch_loss:4.325616367161274}\n",
            "\n"
          ],
          "name": "stdout"
        },
        {
          "output_type": "stream",
          "text": [
            " 73%|███████▎  | 735/1001 [3:13:44<1:10:01, 15.79s/it]"
          ],
          "name": "stderr"
        },
        {
          "output_type": "stream",
          "text": [
            "Epoch 734\n",
            "\tepoch loss: {epoch_loss:4.291955262422562}\n",
            "\n"
          ],
          "name": "stdout"
        },
        {
          "output_type": "stream",
          "text": [
            " 74%|███████▎  | 737/1001 [3:14:16<1:09:26, 15.78s/it]"
          ],
          "name": "stderr"
        },
        {
          "output_type": "stream",
          "text": [
            "Epoch 736\n",
            "\tepoch loss: {epoch_loss:4.081324905157089}\n",
            "\n"
          ],
          "name": "stdout"
        },
        {
          "output_type": "stream",
          "text": [
            " 74%|███████▍  | 739/1001 [3:14:47<1:08:59, 15.80s/it]"
          ],
          "name": "stderr"
        },
        {
          "output_type": "stream",
          "text": [
            "Epoch 738\n",
            "\tepoch loss: {epoch_loss:4.150552794337273}\n",
            "\n"
          ],
          "name": "stdout"
        },
        {
          "output_type": "stream",
          "text": [
            " 74%|███████▍  | 741/1001 [3:15:19<1:08:27, 15.80s/it]"
          ],
          "name": "stderr"
        },
        {
          "output_type": "stream",
          "text": [
            "Epoch 740\n",
            "\tepoch loss: {epoch_loss:4.296868726611137}\n",
            "\n"
          ],
          "name": "stdout"
        },
        {
          "output_type": "stream",
          "text": [
            " 74%|███████▍  | 743/1001 [3:15:51<1:08:02, 15.83s/it]"
          ],
          "name": "stderr"
        },
        {
          "output_type": "stream",
          "text": [
            "Epoch 742\n",
            "\tepoch loss: {epoch_loss:4.444075100123882}\n",
            "\n"
          ],
          "name": "stdout"
        },
        {
          "output_type": "stream",
          "text": [
            " 74%|███████▍  | 745/1001 [3:16:22<1:07:25, 15.80s/it]"
          ],
          "name": "stderr"
        },
        {
          "output_type": "stream",
          "text": [
            "Epoch 744\n",
            "\tepoch loss: {epoch_loss:4.181925490498543}\n",
            "\n"
          ],
          "name": "stdout"
        },
        {
          "output_type": "stream",
          "text": [
            " 75%|███████▍  | 747/1001 [3:16:54<1:06:55, 15.81s/it]"
          ],
          "name": "stderr"
        },
        {
          "output_type": "stream",
          "text": [
            "Epoch 746\n",
            "\tepoch loss: {epoch_loss:4.0994299948215485}\n",
            "\n"
          ],
          "name": "stdout"
        },
        {
          "output_type": "stream",
          "text": [
            " 75%|███████▍  | 749/1001 [3:17:25<1:06:22, 15.81s/it]"
          ],
          "name": "stderr"
        },
        {
          "output_type": "stream",
          "text": [
            "Epoch 748\n",
            "\tepoch loss: {epoch_loss:4.137491457164288}\n",
            "\n"
          ],
          "name": "stdout"
        },
        {
          "output_type": "stream",
          "text": [
            " 75%|███████▌  | 751/1001 [3:17:57<1:05:45, 15.78s/it]"
          ],
          "name": "stderr"
        },
        {
          "output_type": "stream",
          "text": [
            "Epoch 750\n",
            "\tepoch loss: {epoch_loss:4.22542904317379}\n",
            "\n"
          ],
          "name": "stdout"
        },
        {
          "output_type": "stream",
          "text": [
            " 75%|███████▌  | 753/1001 [3:18:28<1:05:17, 15.80s/it]"
          ],
          "name": "stderr"
        },
        {
          "output_type": "stream",
          "text": [
            "Epoch 752\n",
            "\tepoch loss: {epoch_loss:4.117020860314369}\n",
            "\n"
          ],
          "name": "stdout"
        },
        {
          "output_type": "stream",
          "text": [
            " 75%|███████▌  | 755/1001 [3:19:00<1:04:45, 15.80s/it]"
          ],
          "name": "stderr"
        },
        {
          "output_type": "stream",
          "text": [
            "Epoch 754\n",
            "\tepoch loss: {epoch_loss:4.074912488460541}\n",
            "\n"
          ],
          "name": "stdout"
        },
        {
          "output_type": "stream",
          "text": [
            " 76%|███████▌  | 757/1001 [3:19:32<1:04:16, 15.81s/it]"
          ],
          "name": "stderr"
        },
        {
          "output_type": "stream",
          "text": [
            "Epoch 756\n",
            "\tepoch loss: {epoch_loss:4.0005059987306595}\n",
            "\n"
          ],
          "name": "stdout"
        },
        {
          "output_type": "stream",
          "text": [
            " 76%|███████▌  | 759/1001 [3:20:03<1:03:44, 15.81s/it]"
          ],
          "name": "stderr"
        },
        {
          "output_type": "stream",
          "text": [
            "Epoch 758\n",
            "\tepoch loss: {epoch_loss:3.9464010521769524}\n",
            "\n"
          ],
          "name": "stdout"
        },
        {
          "output_type": "stream",
          "text": [
            " 76%|███████▌  | 761/1001 [3:20:35<1:03:14, 15.81s/it]"
          ],
          "name": "stderr"
        },
        {
          "output_type": "stream",
          "text": [
            "Epoch 760\n",
            "\tepoch loss: {epoch_loss:3.845369055867195}\n",
            "\n"
          ],
          "name": "stdout"
        },
        {
          "output_type": "stream",
          "text": [
            " 76%|███████▌  | 763/1001 [3:21:07<1:02:41, 15.81s/it]"
          ],
          "name": "stderr"
        },
        {
          "output_type": "stream",
          "text": [
            "Epoch 762\n",
            "\tepoch loss: {epoch_loss:3.9504726380109787}\n",
            "\n"
          ],
          "name": "stdout"
        },
        {
          "output_type": "stream",
          "text": [
            " 76%|███████▋  | 765/1001 [3:21:38<1:02:11, 15.81s/it]"
          ],
          "name": "stderr"
        },
        {
          "output_type": "stream",
          "text": [
            "Epoch 764\n",
            "\tepoch loss: {epoch_loss:3.7273064255714417}\n",
            "\n"
          ],
          "name": "stdout"
        },
        {
          "output_type": "stream",
          "text": [
            " 77%|███████▋  | 767/1001 [3:22:10<1:01:39, 15.81s/it]"
          ],
          "name": "stderr"
        },
        {
          "output_type": "stream",
          "text": [
            "Epoch 766\n",
            "\tepoch loss: {epoch_loss:3.7836923375725746}\n",
            "\n"
          ],
          "name": "stdout"
        },
        {
          "output_type": "stream",
          "text": [
            " 77%|███████▋  | 769/1001 [3:22:41<1:01:08, 15.81s/it]"
          ],
          "name": "stderr"
        },
        {
          "output_type": "stream",
          "text": [
            "Epoch 768\n",
            "\tepoch loss: {epoch_loss:3.6856587007641792}\n",
            "\n"
          ],
          "name": "stdout"
        },
        {
          "output_type": "stream",
          "text": [
            " 77%|███████▋  | 771/1001 [3:23:13<1:00:35, 15.81s/it]"
          ],
          "name": "stderr"
        },
        {
          "output_type": "stream",
          "text": [
            "Epoch 770\n",
            "\tepoch loss: {epoch_loss:3.881836622953415}\n",
            "\n"
          ],
          "name": "stdout"
        },
        {
          "output_type": "stream",
          "text": [
            " 77%|███████▋  | 773/1001 [3:23:44<1:00:00, 15.79s/it]"
          ],
          "name": "stderr"
        },
        {
          "output_type": "stream",
          "text": [
            "Epoch 772\n",
            "\tepoch loss: {epoch_loss:3.9151287376880646}\n",
            "\n"
          ],
          "name": "stdout"
        },
        {
          "output_type": "stream",
          "text": [
            " 77%|███████▋  | 775/1001 [3:24:16<59:30, 15.80s/it]"
          ],
          "name": "stderr"
        },
        {
          "output_type": "stream",
          "text": [
            "Epoch 774\n",
            "\tepoch loss: {epoch_loss:3.7339083924889565}\n",
            "\n"
          ],
          "name": "stdout"
        },
        {
          "output_type": "stream",
          "text": [
            " 78%|███████▊  | 777/1001 [3:24:48<58:55, 15.78s/it]"
          ],
          "name": "stderr"
        },
        {
          "output_type": "stream",
          "text": [
            "Epoch 776\n",
            "\tepoch loss: {epoch_loss:3.6947152987122536}\n",
            "\n"
          ],
          "name": "stdout"
        },
        {
          "output_type": "stream",
          "text": [
            " 78%|███████▊  | 779/1001 [3:25:19<58:10, 15.72s/it]"
          ],
          "name": "stderr"
        },
        {
          "output_type": "stream",
          "text": [
            "Epoch 778\n",
            "\tepoch loss: {epoch_loss:3.6235996037721634}\n",
            "\n"
          ],
          "name": "stdout"
        },
        {
          "output_type": "stream",
          "text": [
            " 78%|███████▊  | 781/1001 [3:25:50<57:31, 15.69s/it]"
          ],
          "name": "stderr"
        },
        {
          "output_type": "stream",
          "text": [
            "Epoch 780\n",
            "\tepoch loss: {epoch_loss:3.558237746357918}\n",
            "\n"
          ],
          "name": "stdout"
        },
        {
          "output_type": "stream",
          "text": [
            " 78%|███████▊  | 783/1001 [3:26:22<57:02, 15.70s/it]"
          ],
          "name": "stderr"
        },
        {
          "output_type": "stream",
          "text": [
            "Epoch 782\n",
            "\tepoch loss: {epoch_loss:3.857649877667427}\n",
            "\n"
          ],
          "name": "stdout"
        },
        {
          "output_type": "stream",
          "text": [
            " 78%|███████▊  | 785/1001 [3:26:53<56:33, 15.71s/it]"
          ],
          "name": "stderr"
        },
        {
          "output_type": "stream",
          "text": [
            "Epoch 784\n",
            "\tepoch loss: {epoch_loss:3.5693162828683853}\n",
            "\n"
          ],
          "name": "stdout"
        },
        {
          "output_type": "stream",
          "text": [
            " 79%|███████▊  | 787/1001 [3:27:25<56:00, 15.70s/it]"
          ],
          "name": "stderr"
        },
        {
          "output_type": "stream",
          "text": [
            "Epoch 786\n",
            "\tepoch loss: {epoch_loss:3.585884317755699}\n",
            "\n"
          ],
          "name": "stdout"
        },
        {
          "output_type": "stream",
          "text": [
            " 79%|███████▉  | 789/1001 [3:27:56<55:26, 15.69s/it]"
          ],
          "name": "stderr"
        },
        {
          "output_type": "stream",
          "text": [
            "Epoch 788\n",
            "\tepoch loss: {epoch_loss:3.6732826605439186}\n",
            "\n"
          ],
          "name": "stdout"
        },
        {
          "output_type": "stream",
          "text": [
            " 79%|███████▉  | 791/1001 [3:28:27<54:52, 15.68s/it]"
          ],
          "name": "stderr"
        },
        {
          "output_type": "stream",
          "text": [
            "Epoch 790\n",
            "\tepoch loss: {epoch_loss:3.4773439094424248}\n",
            "\n"
          ],
          "name": "stdout"
        },
        {
          "output_type": "stream",
          "text": [
            " 79%|███████▉  | 793/1001 [3:28:59<54:17, 15.66s/it]"
          ],
          "name": "stderr"
        },
        {
          "output_type": "stream",
          "text": [
            "Epoch 792\n",
            "\tepoch loss: {epoch_loss:3.3967292681336403}\n",
            "\n"
          ],
          "name": "stdout"
        },
        {
          "output_type": "stream",
          "text": [
            " 79%|███████▉  | 795/1001 [3:29:30<53:50, 15.68s/it]"
          ],
          "name": "stderr"
        },
        {
          "output_type": "stream",
          "text": [
            "Epoch 794\n",
            "\tepoch loss: {epoch_loss:3.5635777711868286}\n",
            "\n"
          ],
          "name": "stdout"
        },
        {
          "output_type": "stream",
          "text": [
            " 80%|███████▉  | 797/1001 [3:30:01<53:22, 15.70s/it]"
          ],
          "name": "stderr"
        },
        {
          "output_type": "stream",
          "text": [
            "Epoch 796\n",
            "\tepoch loss: {epoch_loss:3.4737019911408424}\n",
            "\n"
          ],
          "name": "stdout"
        },
        {
          "output_type": "stream",
          "text": [
            " 80%|███████▉  | 799/1001 [3:30:33<52:50, 15.70s/it]"
          ],
          "name": "stderr"
        },
        {
          "output_type": "stream",
          "text": [
            "Epoch 798\n",
            "\tepoch loss: {epoch_loss:3.188883140683174}\n",
            "\n"
          ],
          "name": "stdout"
        },
        {
          "output_type": "stream",
          "text": [
            " 80%|████████  | 801/1001 [3:31:04<52:21, 15.71s/it]"
          ],
          "name": "stderr"
        },
        {
          "output_type": "stream",
          "text": [
            "Epoch 800\n",
            "\tepoch loss: {epoch_loss:3.3673296198248863}\n",
            "\n"
          ],
          "name": "stdout"
        },
        {
          "output_type": "stream",
          "text": [
            " 80%|████████  | 803/1001 [3:31:36<51:47, 15.70s/it]"
          ],
          "name": "stderr"
        },
        {
          "output_type": "stream",
          "text": [
            "Epoch 802\n",
            "\tepoch loss: {epoch_loss:3.4625679031014442}\n",
            "\n"
          ],
          "name": "stdout"
        },
        {
          "output_type": "stream",
          "text": [
            " 80%|████████  | 805/1001 [3:32:07<51:16, 15.70s/it]"
          ],
          "name": "stderr"
        },
        {
          "output_type": "stream",
          "text": [
            "Epoch 804\n",
            "\tepoch loss: {epoch_loss:3.5799456983804703}\n",
            "\n"
          ],
          "name": "stdout"
        },
        {
          "output_type": "stream",
          "text": [
            " 81%|████████  | 807/1001 [3:32:38<50:49, 15.72s/it]"
          ],
          "name": "stderr"
        },
        {
          "output_type": "stream",
          "text": [
            "Epoch 806\n",
            "\tepoch loss: {epoch_loss:3.420809768140316}\n",
            "\n"
          ],
          "name": "stdout"
        },
        {
          "output_type": "stream",
          "text": [
            " 81%|████████  | 809/1001 [3:33:10<50:16, 15.71s/it]"
          ],
          "name": "stderr"
        },
        {
          "output_type": "stream",
          "text": [
            "Epoch 808\n",
            "\tepoch loss: {epoch_loss:3.3149304240942}\n",
            "\n"
          ],
          "name": "stdout"
        },
        {
          "output_type": "stream",
          "text": [
            " 81%|████████  | 811/1001 [3:33:41<49:38, 15.68s/it]"
          ],
          "name": "stderr"
        },
        {
          "output_type": "stream",
          "text": [
            "Epoch 810\n",
            "\tepoch loss: {epoch_loss:3.271769843995571}\n",
            "\n"
          ],
          "name": "stdout"
        },
        {
          "output_type": "stream",
          "text": [
            " 81%|████████  | 813/1001 [3:34:12<49:06, 15.67s/it]"
          ],
          "name": "stderr"
        },
        {
          "output_type": "stream",
          "text": [
            "Epoch 812\n",
            "\tepoch loss: {epoch_loss:3.279457576572895}\n",
            "\n"
          ],
          "name": "stdout"
        },
        {
          "output_type": "stream",
          "text": [
            " 81%|████████▏ | 815/1001 [3:34:44<48:34, 15.67s/it]"
          ],
          "name": "stderr"
        },
        {
          "output_type": "stream",
          "text": [
            "Epoch 814\n",
            "\tepoch loss: {epoch_loss:3.3016063198447227}\n",
            "\n"
          ],
          "name": "stdout"
        },
        {
          "output_type": "stream",
          "text": [
            " 82%|████████▏ | 817/1001 [3:35:15<48:03, 15.67s/it]"
          ],
          "name": "stderr"
        },
        {
          "output_type": "stream",
          "text": [
            "Epoch 816\n",
            "\tepoch loss: {epoch_loss:3.2489368617534637}\n",
            "\n"
          ],
          "name": "stdout"
        },
        {
          "output_type": "stream",
          "text": [
            " 82%|████████▏ | 819/1001 [3:35:46<47:31, 15.67s/it]"
          ],
          "name": "stderr"
        },
        {
          "output_type": "stream",
          "text": [
            "Epoch 818\n",
            "\tepoch loss: {epoch_loss:3.234517492353916}\n",
            "\n"
          ],
          "name": "stdout"
        },
        {
          "output_type": "stream",
          "text": [
            " 82%|████████▏ | 821/1001 [3:36:18<47:01, 15.68s/it]"
          ],
          "name": "stderr"
        },
        {
          "output_type": "stream",
          "text": [
            "Epoch 820\n",
            "\tepoch loss: {epoch_loss:3.1770875304937363}\n",
            "\n"
          ],
          "name": "stdout"
        },
        {
          "output_type": "stream",
          "text": [
            " 82%|████████▏ | 823/1001 [3:36:49<46:31, 15.68s/it]"
          ],
          "name": "stderr"
        },
        {
          "output_type": "stream",
          "text": [
            "Epoch 822\n",
            "\tepoch loss: {epoch_loss:3.0442652255296707}\n",
            "\n"
          ],
          "name": "stdout"
        },
        {
          "output_type": "stream",
          "text": [
            " 82%|████████▏ | 825/1001 [3:37:21<45:59, 15.68s/it]"
          ],
          "name": "stderr"
        },
        {
          "output_type": "stream",
          "text": [
            "Epoch 824\n",
            "\tepoch loss: {epoch_loss:3.043118007481098}\n",
            "\n"
          ],
          "name": "stdout"
        },
        {
          "output_type": "stream",
          "text": [
            " 83%|████████▎ | 827/1001 [3:37:52<45:29, 15.69s/it]"
          ],
          "name": "stderr"
        },
        {
          "output_type": "stream",
          "text": [
            "Epoch 826\n",
            "\tepoch loss: {epoch_loss:3.036771945655346}\n",
            "\n"
          ],
          "name": "stdout"
        },
        {
          "output_type": "stream",
          "text": [
            " 83%|████████▎ | 829/1001 [3:38:23<44:58, 15.69s/it]"
          ],
          "name": "stderr"
        },
        {
          "output_type": "stream",
          "text": [
            "Epoch 828\n",
            "\tepoch loss: {epoch_loss:2.931867279112339}\n",
            "\n"
          ],
          "name": "stdout"
        },
        {
          "output_type": "stream",
          "text": [
            " 83%|████████▎ | 831/1001 [3:38:55<44:26, 15.69s/it]"
          ],
          "name": "stderr"
        },
        {
          "output_type": "stream",
          "text": [
            "Epoch 830\n",
            "\tepoch loss: {epoch_loss:3.235429286956787}\n",
            "\n"
          ],
          "name": "stdout"
        },
        {
          "output_type": "stream",
          "text": [
            " 83%|████████▎ | 833/1001 [3:39:26<43:51, 15.66s/it]"
          ],
          "name": "stderr"
        },
        {
          "output_type": "stream",
          "text": [
            "Epoch 832\n",
            "\tepoch loss: {epoch_loss:2.835998624563217}\n",
            "\n"
          ],
          "name": "stdout"
        },
        {
          "output_type": "stream",
          "text": [
            " 83%|████████▎ | 835/1001 [3:39:57<43:19, 15.66s/it]"
          ],
          "name": "stderr"
        },
        {
          "output_type": "stream",
          "text": [
            "Epoch 834\n",
            "\tepoch loss: {epoch_loss:3.165523275732994}\n",
            "\n"
          ],
          "name": "stdout"
        },
        {
          "output_type": "stream",
          "text": [
            " 84%|████████▎ | 837/1001 [3:40:29<42:54, 15.70s/it]"
          ],
          "name": "stderr"
        },
        {
          "output_type": "stream",
          "text": [
            "Epoch 836\n",
            "\tepoch loss: {epoch_loss:2.941193386912346}\n",
            "\n"
          ],
          "name": "stdout"
        },
        {
          "output_type": "stream",
          "text": [
            " 84%|████████▍ | 839/1001 [3:41:00<42:20, 15.68s/it]"
          ],
          "name": "stderr"
        },
        {
          "output_type": "stream",
          "text": [
            "Epoch 838\n",
            "\tepoch loss: {epoch_loss:3.2535549998283386}\n",
            "\n"
          ],
          "name": "stdout"
        },
        {
          "output_type": "stream",
          "text": [
            " 84%|████████▍ | 841/1001 [3:41:32<41:50, 15.69s/it]"
          ],
          "name": "stderr"
        },
        {
          "output_type": "stream",
          "text": [
            "Epoch 840\n",
            "\tepoch loss: {epoch_loss:2.909463867545128}\n",
            "\n"
          ],
          "name": "stdout"
        },
        {
          "output_type": "stream",
          "text": [
            " 84%|████████▍ | 843/1001 [3:42:03<41:15, 15.67s/it]"
          ],
          "name": "stderr"
        },
        {
          "output_type": "stream",
          "text": [
            "Epoch 842\n",
            "\tepoch loss: {epoch_loss:2.8473251089453697}\n",
            "\n"
          ],
          "name": "stdout"
        },
        {
          "output_type": "stream",
          "text": [
            " 84%|████████▍ | 845/1001 [3:42:34<40:42, 15.66s/it]"
          ],
          "name": "stderr"
        },
        {
          "output_type": "stream",
          "text": [
            "Epoch 844\n",
            "\tepoch loss: {epoch_loss:2.9923343285918236}\n",
            "\n"
          ],
          "name": "stdout"
        },
        {
          "output_type": "stream",
          "text": [
            " 85%|████████▍ | 847/1001 [3:43:05<40:10, 15.65s/it]"
          ],
          "name": "stderr"
        },
        {
          "output_type": "stream",
          "text": [
            "Epoch 846\n",
            "\tepoch loss: {epoch_loss:2.9839109629392624}\n",
            "\n"
          ],
          "name": "stdout"
        },
        {
          "output_type": "stream",
          "text": [
            " 85%|████████▍ | 849/1001 [3:43:37<39:39, 15.65s/it]"
          ],
          "name": "stderr"
        },
        {
          "output_type": "stream",
          "text": [
            "Epoch 848\n",
            "\tepoch loss: {epoch_loss:2.8197038397192955}\n",
            "\n"
          ],
          "name": "stdout"
        },
        {
          "output_type": "stream",
          "text": [
            " 85%|████████▌ | 851/1001 [3:44:08<39:09, 15.66s/it]"
          ],
          "name": "stderr"
        },
        {
          "output_type": "stream",
          "text": [
            "Epoch 850\n",
            "\tepoch loss: {epoch_loss:2.885891653597355}\n",
            "\n"
          ],
          "name": "stdout"
        },
        {
          "output_type": "stream",
          "text": [
            " 85%|████████▌ | 853/1001 [3:44:39<38:40, 15.68s/it]"
          ],
          "name": "stderr"
        },
        {
          "output_type": "stream",
          "text": [
            "Epoch 852\n",
            "\tepoch loss: {epoch_loss:2.96970646828413}\n",
            "\n"
          ],
          "name": "stdout"
        },
        {
          "output_type": "stream",
          "text": [
            " 85%|████████▌ | 855/1001 [3:45:11<38:12, 15.71s/it]"
          ],
          "name": "stderr"
        },
        {
          "output_type": "stream",
          "text": [
            "Epoch 854\n",
            "\tepoch loss: {epoch_loss:2.868257597088814}\n",
            "\n"
          ],
          "name": "stdout"
        },
        {
          "output_type": "stream",
          "text": [
            " 86%|████████▌ | 857/1001 [3:45:42<37:37, 15.68s/it]"
          ],
          "name": "stderr"
        },
        {
          "output_type": "stream",
          "text": [
            "Epoch 856\n",
            "\tepoch loss: {epoch_loss:2.7857475727796555}\n",
            "\n"
          ],
          "name": "stdout"
        },
        {
          "output_type": "stream",
          "text": [
            " 86%|████████▌ | 859/1001 [3:46:14<37:08, 15.70s/it]"
          ],
          "name": "stderr"
        },
        {
          "output_type": "stream",
          "text": [
            "Epoch 858\n",
            "\tepoch loss: {epoch_loss:2.8787538036704063}\n",
            "\n"
          ],
          "name": "stdout"
        },
        {
          "output_type": "stream",
          "text": [
            " 86%|████████▌ | 861/1001 [3:46:45<36:34, 15.68s/it]"
          ],
          "name": "stderr"
        },
        {
          "output_type": "stream",
          "text": [
            "Epoch 860\n",
            "\tepoch loss: {epoch_loss:2.8141708225011826}\n",
            "\n"
          ],
          "name": "stdout"
        },
        {
          "output_type": "stream",
          "text": [
            " 86%|████████▌ | 863/1001 [3:47:16<36:05, 15.69s/it]"
          ],
          "name": "stderr"
        },
        {
          "output_type": "stream",
          "text": [
            "Epoch 862\n",
            "\tepoch loss: {epoch_loss:2.5956755205988884}\n",
            "\n"
          ],
          "name": "stdout"
        },
        {
          "output_type": "stream",
          "text": [
            " 86%|████████▋ | 865/1001 [3:47:48<35:32, 15.68s/it]"
          ],
          "name": "stderr"
        },
        {
          "output_type": "stream",
          "text": [
            "Epoch 864\n",
            "\tepoch loss: {epoch_loss:2.721115931868553}\n",
            "\n"
          ],
          "name": "stdout"
        },
        {
          "output_type": "stream",
          "text": [
            " 87%|████████▋ | 867/1001 [3:48:19<35:04, 15.71s/it]"
          ],
          "name": "stderr"
        },
        {
          "output_type": "stream",
          "text": [
            "Epoch 866\n",
            "\tepoch loss: {epoch_loss:3.0629939287900925}\n",
            "\n"
          ],
          "name": "stdout"
        },
        {
          "output_type": "stream",
          "text": [
            " 87%|████████▋ | 869/1001 [3:48:51<34:32, 15.70s/it]"
          ],
          "name": "stderr"
        },
        {
          "output_type": "stream",
          "text": [
            "Epoch 868\n",
            "\tepoch loss: {epoch_loss:2.745058685541153}\n",
            "\n"
          ],
          "name": "stdout"
        },
        {
          "output_type": "stream",
          "text": [
            " 87%|████████▋ | 871/1001 [3:49:22<34:00, 15.69s/it]"
          ],
          "name": "stderr"
        },
        {
          "output_type": "stream",
          "text": [
            "Epoch 870\n",
            "\tepoch loss: {epoch_loss:2.6745420917868614}\n",
            "\n"
          ],
          "name": "stdout"
        },
        {
          "output_type": "stream",
          "text": [
            " 87%|████████▋ | 873/1001 [3:49:53<33:25, 15.67s/it]"
          ],
          "name": "stderr"
        },
        {
          "output_type": "stream",
          "text": [
            "Epoch 872\n",
            "\tepoch loss: {epoch_loss:2.6997405737638474}\n",
            "\n"
          ],
          "name": "stdout"
        },
        {
          "output_type": "stream",
          "text": [
            " 87%|████████▋ | 875/1001 [3:50:25<32:53, 15.66s/it]"
          ],
          "name": "stderr"
        },
        {
          "output_type": "stream",
          "text": [
            "Epoch 874\n",
            "\tepoch loss: {epoch_loss:2.6024910658597946}\n",
            "\n"
          ],
          "name": "stdout"
        },
        {
          "output_type": "stream",
          "text": [
            " 88%|████████▊ | 877/1001 [3:50:56<32:23, 15.67s/it]"
          ],
          "name": "stderr"
        },
        {
          "output_type": "stream",
          "text": [
            "Epoch 876\n",
            "\tepoch loss: {epoch_loss:2.627423405647278}\n",
            "\n"
          ],
          "name": "stdout"
        },
        {
          "output_type": "stream",
          "text": [
            " 88%|████████▊ | 879/1001 [3:51:27<31:51, 15.67s/it]"
          ],
          "name": "stderr"
        },
        {
          "output_type": "stream",
          "text": [
            "Epoch 878\n",
            "\tepoch loss: {epoch_loss:2.6760927960276604}\n",
            "\n"
          ],
          "name": "stdout"
        },
        {
          "output_type": "stream",
          "text": [
            " 88%|████████▊ | 881/1001 [3:51:59<31:22, 15.68s/it]"
          ],
          "name": "stderr"
        },
        {
          "output_type": "stream",
          "text": [
            "Epoch 880\n",
            "\tepoch loss: {epoch_loss:2.5236501917243004}\n",
            "\n"
          ],
          "name": "stdout"
        },
        {
          "output_type": "stream",
          "text": [
            " 88%|████████▊ | 883/1001 [3:52:30<30:52, 15.70s/it]"
          ],
          "name": "stderr"
        },
        {
          "output_type": "stream",
          "text": [
            "Epoch 882\n",
            "\tepoch loss: {epoch_loss:2.45811714977026}\n",
            "\n"
          ],
          "name": "stdout"
        },
        {
          "output_type": "stream",
          "text": [
            " 88%|████████▊ | 885/1001 [3:53:01<30:18, 15.68s/it]"
          ],
          "name": "stderr"
        },
        {
          "output_type": "stream",
          "text": [
            "Epoch 884\n",
            "\tepoch loss: {epoch_loss:2.596805427223444}\n",
            "\n"
          ],
          "name": "stdout"
        },
        {
          "output_type": "stream",
          "text": [
            " 89%|████████▊ | 887/1001 [3:53:33<29:44, 15.65s/it]"
          ],
          "name": "stderr"
        },
        {
          "output_type": "stream",
          "text": [
            "Epoch 886\n",
            "\tepoch loss: {epoch_loss:2.4940584488213062}\n",
            "\n"
          ],
          "name": "stdout"
        },
        {
          "output_type": "stream",
          "text": [
            " 89%|████████▉ | 889/1001 [3:54:04<29:12, 15.64s/it]"
          ],
          "name": "stderr"
        },
        {
          "output_type": "stream",
          "text": [
            "Epoch 888\n",
            "\tepoch loss: {epoch_loss:2.6557109355926514}\n",
            "\n"
          ],
          "name": "stdout"
        },
        {
          "output_type": "stream",
          "text": [
            " 89%|████████▉ | 891/1001 [3:54:35<28:41, 15.65s/it]"
          ],
          "name": "stderr"
        },
        {
          "output_type": "stream",
          "text": [
            "Epoch 890\n",
            "\tepoch loss: {epoch_loss:2.412997752428055}\n",
            "\n"
          ],
          "name": "stdout"
        },
        {
          "output_type": "stream",
          "text": [
            " 89%|████████▉ | 893/1001 [3:55:07<28:12, 15.67s/it]"
          ],
          "name": "stderr"
        },
        {
          "output_type": "stream",
          "text": [
            "Epoch 892\n",
            "\tepoch loss: {epoch_loss:2.2492803186178207}\n",
            "\n"
          ],
          "name": "stdout"
        },
        {
          "output_type": "stream",
          "text": [
            " 89%|████████▉ | 895/1001 [3:55:38<27:43, 15.70s/it]"
          ],
          "name": "stderr"
        },
        {
          "output_type": "stream",
          "text": [
            "Epoch 894\n",
            "\tepoch loss: {epoch_loss:2.4359910786151886}\n",
            "\n"
          ],
          "name": "stdout"
        },
        {
          "output_type": "stream",
          "text": [
            " 90%|████████▉ | 897/1001 [3:56:09<27:11, 15.68s/it]"
          ],
          "name": "stderr"
        },
        {
          "output_type": "stream",
          "text": [
            "Epoch 896\n",
            "\tepoch loss: {epoch_loss:2.4501724764704704}\n",
            "\n"
          ],
          "name": "stdout"
        },
        {
          "output_type": "stream",
          "text": [
            " 90%|████████▉ | 899/1001 [3:56:41<26:37, 15.66s/it]"
          ],
          "name": "stderr"
        },
        {
          "output_type": "stream",
          "text": [
            "Epoch 898\n",
            "\tepoch loss: {epoch_loss:2.5177402570843697}\n",
            "\n"
          ],
          "name": "stdout"
        },
        {
          "output_type": "stream",
          "text": [
            " 90%|█████████ | 901/1001 [3:57:12<26:05, 15.66s/it]"
          ],
          "name": "stderr"
        },
        {
          "output_type": "stream",
          "text": [
            "Epoch 900\n",
            "\tepoch loss: {epoch_loss:2.413236603140831}\n",
            "\n"
          ],
          "name": "stdout"
        },
        {
          "output_type": "stream",
          "text": [
            " 90%|█████████ | 903/1001 [3:57:43<25:35, 15.67s/it]"
          ],
          "name": "stderr"
        },
        {
          "output_type": "stream",
          "text": [
            "Epoch 902\n",
            "\tepoch loss: {epoch_loss:2.2857511788606644}\n",
            "\n"
          ],
          "name": "stdout"
        },
        {
          "output_type": "stream",
          "text": [
            " 90%|█████████ | 905/1001 [3:58:15<25:04, 15.68s/it]"
          ],
          "name": "stderr"
        },
        {
          "output_type": "stream",
          "text": [
            "Epoch 904\n",
            "\tepoch loss: {epoch_loss:2.3521543219685555}\n",
            "\n"
          ],
          "name": "stdout"
        },
        {
          "output_type": "stream",
          "text": [
            " 91%|█████████ | 907/1001 [3:58:46<24:30, 15.65s/it]"
          ],
          "name": "stderr"
        },
        {
          "output_type": "stream",
          "text": [
            "Epoch 906\n",
            "\tepoch loss: {epoch_loss:2.7338955625891685}\n",
            "\n"
          ],
          "name": "stdout"
        },
        {
          "output_type": "stream",
          "text": [
            " 91%|█████████ | 909/1001 [3:59:17<24:00, 15.66s/it]"
          ],
          "name": "stderr"
        },
        {
          "output_type": "stream",
          "text": [
            "Epoch 908\n",
            "\tepoch loss: {epoch_loss:2.390021998435259}\n",
            "\n"
          ],
          "name": "stdout"
        },
        {
          "output_type": "stream",
          "text": [
            " 91%|█████████ | 911/1001 [3:59:49<23:30, 15.68s/it]"
          ],
          "name": "stderr"
        },
        {
          "output_type": "stream",
          "text": [
            "Epoch 910\n",
            "\tepoch loss: {epoch_loss:2.2432904466986656}\n",
            "\n"
          ],
          "name": "stdout"
        },
        {
          "output_type": "stream",
          "text": [
            " 91%|█████████ | 913/1001 [4:00:20<22:58, 15.67s/it]"
          ],
          "name": "stderr"
        },
        {
          "output_type": "stream",
          "text": [
            "Epoch 912\n",
            "\tepoch loss: {epoch_loss:2.4656105637550354}\n",
            "\n"
          ],
          "name": "stdout"
        },
        {
          "output_type": "stream",
          "text": [
            " 91%|█████████▏| 915/1001 [4:00:51<22:27, 15.67s/it]"
          ],
          "name": "stderr"
        },
        {
          "output_type": "stream",
          "text": [
            "Epoch 914\n",
            "\tepoch loss: {epoch_loss:2.4845894277095795}\n",
            "\n"
          ],
          "name": "stdout"
        },
        {
          "output_type": "stream",
          "text": [
            " 92%|█████████▏| 917/1001 [4:01:23<21:55, 15.66s/it]"
          ],
          "name": "stderr"
        },
        {
          "output_type": "stream",
          "text": [
            "Epoch 916\n",
            "\tepoch loss: {epoch_loss:2.2475279048085213}\n",
            "\n"
          ],
          "name": "stdout"
        },
        {
          "output_type": "stream",
          "text": [
            " 92%|█████████▏| 919/1001 [4:01:54<21:25, 15.68s/it]"
          ],
          "name": "stderr"
        },
        {
          "output_type": "stream",
          "text": [
            "Epoch 918\n",
            "\tepoch loss: {epoch_loss:2.178289830684662}\n",
            "\n"
          ],
          "name": "stdout"
        },
        {
          "output_type": "stream",
          "text": [
            " 92%|█████████▏| 921/1001 [4:02:25<20:54, 15.68s/it]"
          ],
          "name": "stderr"
        },
        {
          "output_type": "stream",
          "text": [
            "Epoch 920\n",
            "\tepoch loss: {epoch_loss:2.142301507294178}\n",
            "\n"
          ],
          "name": "stdout"
        },
        {
          "output_type": "stream",
          "text": [
            " 92%|█████████▏| 923/1001 [4:02:57<20:22, 15.67s/it]"
          ],
          "name": "stderr"
        },
        {
          "output_type": "stream",
          "text": [
            "Epoch 922\n",
            "\tepoch loss: {epoch_loss:2.1068488620221615}\n",
            "\n"
          ],
          "name": "stdout"
        },
        {
          "output_type": "stream",
          "text": [
            " 92%|█████████▏| 925/1001 [4:03:28<19:50, 15.67s/it]"
          ],
          "name": "stderr"
        },
        {
          "output_type": "stream",
          "text": [
            "Epoch 924\n",
            "\tepoch loss: {epoch_loss:2.1744040846824646}\n",
            "\n"
          ],
          "name": "stdout"
        },
        {
          "output_type": "stream",
          "text": [
            " 93%|█████████▎| 927/1001 [4:03:59<19:18, 15.66s/it]"
          ],
          "name": "stderr"
        },
        {
          "output_type": "stream",
          "text": [
            "Epoch 926\n",
            "\tepoch loss: {epoch_loss:2.140900731086731}\n",
            "\n"
          ],
          "name": "stdout"
        },
        {
          "output_type": "stream",
          "text": [
            " 93%|█████████▎| 929/1001 [4:04:31<18:48, 15.67s/it]"
          ],
          "name": "stderr"
        },
        {
          "output_type": "stream",
          "text": [
            "Epoch 928\n",
            "\tepoch loss: {epoch_loss:2.237819716334343}\n",
            "\n"
          ],
          "name": "stdout"
        },
        {
          "output_type": "stream",
          "text": [
            " 93%|█████████▎| 931/1001 [4:05:02<18:16, 15.66s/it]"
          ],
          "name": "stderr"
        },
        {
          "output_type": "stream",
          "text": [
            "Epoch 930\n",
            "\tepoch loss: {epoch_loss:2.175455704331398}\n",
            "\n"
          ],
          "name": "stdout"
        },
        {
          "output_type": "stream",
          "text": [
            " 93%|█████████▎| 933/1001 [4:05:34<17:46, 15.68s/it]"
          ],
          "name": "stderr"
        },
        {
          "output_type": "stream",
          "text": [
            "Epoch 932\n",
            "\tepoch loss: {epoch_loss:2.2065138295292854}\n",
            "\n"
          ],
          "name": "stdout"
        },
        {
          "output_type": "stream",
          "text": [
            " 93%|█████████▎| 935/1001 [4:06:05<17:17, 15.73s/it]"
          ],
          "name": "stderr"
        },
        {
          "output_type": "stream",
          "text": [
            "Epoch 934\n",
            "\tepoch loss: {epoch_loss:2.0558952428400517}\n",
            "\n"
          ],
          "name": "stdout"
        },
        {
          "output_type": "stream",
          "text": [
            " 94%|█████████▎| 937/1001 [4:06:36<16:44, 15.70s/it]"
          ],
          "name": "stderr"
        },
        {
          "output_type": "stream",
          "text": [
            "Epoch 936\n",
            "\tepoch loss: {epoch_loss:2.1702096834778786}\n",
            "\n"
          ],
          "name": "stdout"
        },
        {
          "output_type": "stream",
          "text": [
            " 94%|█████████▍| 939/1001 [4:07:08<16:11, 15.67s/it]"
          ],
          "name": "stderr"
        },
        {
          "output_type": "stream",
          "text": [
            "Epoch 938\n",
            "\tepoch loss: {epoch_loss:2.0692166052758694}\n",
            "\n"
          ],
          "name": "stdout"
        },
        {
          "output_type": "stream",
          "text": [
            " 94%|█████████▍| 941/1001 [4:07:39<15:39, 15.66s/it]"
          ],
          "name": "stderr"
        },
        {
          "output_type": "stream",
          "text": [
            "Epoch 940\n",
            "\tepoch loss: {epoch_loss:2.0389858037233353}\n",
            "\n"
          ],
          "name": "stdout"
        },
        {
          "output_type": "stream",
          "text": [
            " 94%|█████████▍| 943/1001 [4:08:10<15:08, 15.66s/it]"
          ],
          "name": "stderr"
        },
        {
          "output_type": "stream",
          "text": [
            "Epoch 942\n",
            "\tepoch loss: {epoch_loss:2.084925051778555}\n",
            "\n"
          ],
          "name": "stdout"
        },
        {
          "output_type": "stream",
          "text": [
            " 94%|█████████▍| 945/1001 [4:08:42<14:37, 15.67s/it]"
          ],
          "name": "stderr"
        },
        {
          "output_type": "stream",
          "text": [
            "Epoch 944\n",
            "\tepoch loss: {epoch_loss:2.201239299029112}\n",
            "\n"
          ],
          "name": "stdout"
        },
        {
          "output_type": "stream",
          "text": [
            " 95%|█████████▍| 947/1001 [4:09:13<14:05, 15.67s/it]"
          ],
          "name": "stderr"
        },
        {
          "output_type": "stream",
          "text": [
            "Epoch 946\n",
            "\tepoch loss: {epoch_loss:2.2547464966773987}\n",
            "\n"
          ],
          "name": "stdout"
        },
        {
          "output_type": "stream",
          "text": [
            " 95%|█████████▍| 949/1001 [4:09:44<13:35, 15.67s/it]"
          ],
          "name": "stderr"
        },
        {
          "output_type": "stream",
          "text": [
            "Epoch 948\n",
            "\tepoch loss: {epoch_loss:2.0860560052096844}\n",
            "\n"
          ],
          "name": "stdout"
        },
        {
          "output_type": "stream",
          "text": [
            " 95%|█████████▌| 951/1001 [4:10:16<13:03, 15.67s/it]"
          ],
          "name": "stderr"
        },
        {
          "output_type": "stream",
          "text": [
            "Epoch 950\n",
            "\tepoch loss: {epoch_loss:2.047040667384863}\n",
            "\n"
          ],
          "name": "stdout"
        },
        {
          "output_type": "stream",
          "text": [
            " 95%|█████████▌| 953/1001 [4:10:47<12:32, 15.68s/it]"
          ],
          "name": "stderr"
        },
        {
          "output_type": "stream",
          "text": [
            "Epoch 952\n",
            "\tepoch loss: {epoch_loss:2.0452356301248074}\n",
            "\n"
          ],
          "name": "stdout"
        },
        {
          "output_type": "stream",
          "text": [
            " 95%|█████████▌| 955/1001 [4:11:18<12:00, 15.66s/it]"
          ],
          "name": "stderr"
        },
        {
          "output_type": "stream",
          "text": [
            "Epoch 954\n",
            "\tepoch loss: {epoch_loss:1.8748391643166542}\n",
            "\n"
          ],
          "name": "stdout"
        },
        {
          "output_type": "stream",
          "text": [
            " 96%|█████████▌| 957/1001 [4:11:50<11:29, 15.67s/it]"
          ],
          "name": "stderr"
        },
        {
          "output_type": "stream",
          "text": [
            "Epoch 956\n",
            "\tepoch loss: {epoch_loss:1.9049765355885029}\n",
            "\n"
          ],
          "name": "stdout"
        },
        {
          "output_type": "stream",
          "text": [
            " 96%|█████████▌| 959/1001 [4:12:21<10:58, 15.68s/it]"
          ],
          "name": "stderr"
        },
        {
          "output_type": "stream",
          "text": [
            "Epoch 958\n",
            "\tepoch loss: {epoch_loss:1.8383725956082344}\n",
            "\n"
          ],
          "name": "stdout"
        },
        {
          "output_type": "stream",
          "text": [
            " 96%|█████████▌| 961/1001 [4:12:52<10:26, 15.66s/it]"
          ],
          "name": "stderr"
        },
        {
          "output_type": "stream",
          "text": [
            "Epoch 960\n",
            "\tepoch loss: {epoch_loss:1.81352349370718}\n",
            "\n"
          ],
          "name": "stdout"
        },
        {
          "output_type": "stream",
          "text": [
            " 96%|█████████▌| 963/1001 [4:13:24<09:55, 15.67s/it]"
          ],
          "name": "stderr"
        },
        {
          "output_type": "stream",
          "text": [
            "Epoch 962\n",
            "\tepoch loss: {epoch_loss:1.9140292406082153}\n",
            "\n"
          ],
          "name": "stdout"
        },
        {
          "output_type": "stream",
          "text": [
            " 96%|█████████▋| 965/1001 [4:13:55<09:24, 15.68s/it]"
          ],
          "name": "stderr"
        },
        {
          "output_type": "stream",
          "text": [
            "Epoch 964\n",
            "\tepoch loss: {epoch_loss:1.9244623519480228}\n",
            "\n"
          ],
          "name": "stdout"
        },
        {
          "output_type": "stream",
          "text": [
            " 97%|█████████▋| 967/1001 [4:14:27<08:53, 15.69s/it]"
          ],
          "name": "stderr"
        },
        {
          "output_type": "stream",
          "text": [
            "Epoch 966\n",
            "\tepoch loss: {epoch_loss:1.8288872241973877}\n",
            "\n"
          ],
          "name": "stdout"
        },
        {
          "output_type": "stream",
          "text": [
            " 97%|█████████▋| 969/1001 [4:14:58<08:21, 15.67s/it]"
          ],
          "name": "stderr"
        },
        {
          "output_type": "stream",
          "text": [
            "Epoch 968\n",
            "\tepoch loss: {epoch_loss:2.0279200561344624}\n",
            "\n"
          ],
          "name": "stdout"
        },
        {
          "output_type": "stream",
          "text": [
            " 97%|█████████▋| 971/1001 [4:15:29<07:49, 15.65s/it]"
          ],
          "name": "stderr"
        },
        {
          "output_type": "stream",
          "text": [
            "Epoch 970\n",
            "\tepoch loss: {epoch_loss:1.9697321094572544}\n",
            "\n"
          ],
          "name": "stdout"
        },
        {
          "output_type": "stream",
          "text": [
            " 97%|█████████▋| 973/1001 [4:16:00<07:18, 15.66s/it]"
          ],
          "name": "stderr"
        },
        {
          "output_type": "stream",
          "text": [
            "Epoch 972\n",
            "\tepoch loss: {epoch_loss:1.8778408765792847}\n",
            "\n"
          ],
          "name": "stdout"
        },
        {
          "output_type": "stream",
          "text": [
            " 97%|█████████▋| 975/1001 [4:16:32<06:47, 15.67s/it]"
          ],
          "name": "stderr"
        },
        {
          "output_type": "stream",
          "text": [
            "Epoch 974\n",
            "\tepoch loss: {epoch_loss:1.748900767415762}\n",
            "\n"
          ],
          "name": "stdout"
        },
        {
          "output_type": "stream",
          "text": [
            " 98%|█████████▊| 977/1001 [4:17:03<06:15, 15.67s/it]"
          ],
          "name": "stderr"
        },
        {
          "output_type": "stream",
          "text": [
            "Epoch 976\n",
            "\tepoch loss: {epoch_loss:1.7566752284765244}\n",
            "\n"
          ],
          "name": "stdout"
        },
        {
          "output_type": "stream",
          "text": [
            " 98%|█████████▊| 979/1001 [4:17:34<05:44, 15.67s/it]"
          ],
          "name": "stderr"
        },
        {
          "output_type": "stream",
          "text": [
            "Epoch 978\n",
            "\tepoch loss: {epoch_loss:1.8396118097007275}\n",
            "\n"
          ],
          "name": "stdout"
        },
        {
          "output_type": "stream",
          "text": [
            " 98%|█████████▊| 981/1001 [4:18:06<05:13, 15.69s/it]"
          ],
          "name": "stderr"
        },
        {
          "output_type": "stream",
          "text": [
            "Epoch 980\n",
            "\tepoch loss: {epoch_loss:1.7393654137849808}\n",
            "\n"
          ],
          "name": "stdout"
        },
        {
          "output_type": "stream",
          "text": [
            " 98%|█████████▊| 983/1001 [4:18:37<04:42, 15.67s/it]"
          ],
          "name": "stderr"
        },
        {
          "output_type": "stream",
          "text": [
            "Epoch 982\n",
            "\tepoch loss: {epoch_loss:1.830556981265545}\n",
            "\n"
          ],
          "name": "stdout"
        },
        {
          "output_type": "stream",
          "text": [
            " 98%|█████████▊| 985/1001 [4:19:08<04:10, 15.66s/it]"
          ],
          "name": "stderr"
        },
        {
          "output_type": "stream",
          "text": [
            "Epoch 984\n",
            "\tepoch loss: {epoch_loss:1.853816207498312}\n",
            "\n"
          ],
          "name": "stdout"
        },
        {
          "output_type": "stream",
          "text": [
            " 99%|█████████▊| 987/1001 [4:19:40<03:39, 15.67s/it]"
          ],
          "name": "stderr"
        },
        {
          "output_type": "stream",
          "text": [
            "Epoch 986\n",
            "\tepoch loss: {epoch_loss:1.852422147989273}\n",
            "\n"
          ],
          "name": "stdout"
        },
        {
          "output_type": "stream",
          "text": [
            " 99%|█████████▉| 989/1001 [4:20:11<03:08, 15.67s/it]"
          ],
          "name": "stderr"
        },
        {
          "output_type": "stream",
          "text": [
            "Epoch 988\n",
            "\tepoch loss: {epoch_loss:1.743404645472765}\n",
            "\n"
          ],
          "name": "stdout"
        },
        {
          "output_type": "stream",
          "text": [
            " 99%|█████████▉| 991/1001 [4:20:43<02:36, 15.67s/it]"
          ],
          "name": "stderr"
        },
        {
          "output_type": "stream",
          "text": [
            "Epoch 990\n",
            "\tepoch loss: {epoch_loss:1.8834936954081059}\n",
            "\n"
          ],
          "name": "stdout"
        },
        {
          "output_type": "stream",
          "text": [
            " 99%|█████████▉| 993/1001 [4:21:14<02:05, 15.68s/it]"
          ],
          "name": "stderr"
        },
        {
          "output_type": "stream",
          "text": [
            "Epoch 992\n",
            "\tepoch loss: {epoch_loss:1.6511583551764488}\n",
            "\n"
          ],
          "name": "stdout"
        },
        {
          "output_type": "stream",
          "text": [
            " 99%|█████████▉| 995/1001 [4:21:45<01:34, 15.68s/it]"
          ],
          "name": "stderr"
        },
        {
          "output_type": "stream",
          "text": [
            "Epoch 994\n",
            "\tepoch loss: {epoch_loss:1.7107196673750877}\n",
            "\n"
          ],
          "name": "stdout"
        },
        {
          "output_type": "stream",
          "text": [
            "100%|█████████▉| 997/1001 [4:22:17<01:02, 15.66s/it]"
          ],
          "name": "stderr"
        },
        {
          "output_type": "stream",
          "text": [
            "Epoch 996\n",
            "\tepoch loss: {epoch_loss:1.814487874507904}\n",
            "\n"
          ],
          "name": "stdout"
        },
        {
          "output_type": "stream",
          "text": [
            "100%|█████████▉| 999/1001 [4:22:48<00:31, 15.66s/it]"
          ],
          "name": "stderr"
        },
        {
          "output_type": "stream",
          "text": [
            "Epoch 998\n",
            "\tepoch loss: {epoch_loss:1.7581388428807259}\n",
            "\n"
          ],
          "name": "stdout"
        },
        {
          "output_type": "stream",
          "text": [
            "100%|██████████| 1001/1001 [4:23:19<00:00, 15.67s/it]"
          ],
          "name": "stderr"
        },
        {
          "output_type": "stream",
          "text": [
            "Epoch 1000\n",
            "\tepoch loss: {epoch_loss:1.7533504962921143}\n",
            "\n",
            "Saving model at {save_path}\n"
          ],
          "name": "stdout"
        },
        {
          "output_type": "stream",
          "text": [
            "\n"
          ],
          "name": "stderr"
        }
      ]
    },
    {
      "cell_type": "code",
      "metadata": {
        "id": "jMP_mZle-13U",
        "colab_type": "code",
        "outputId": "5bf75e3b-01cf-4bb9-d761-7e7811e4af4f",
        "colab": {
          "base_uri": "https://localhost:8080/",
          "height": 102
        }
      },
      "source": [
        "raw=np.zeros([2,10])\n",
        "text_in=input(\"say something in lower case \\n\")\n",
        "o=0\n",
        "for chars in text_in.split():\n",
        "  raw[0,o]=word2vec_inputs[chars]\n",
        "  raw[1,o]=word2vec_inputs[chars]\n",
        "  o+=1\n",
        "config = DemoConfig()  \n",
        "tf.reset_default_graph()\n",
        "with tf.Session() as sess:\n",
        "    model = Seq2SeqModel(config, mode='inference')\n",
        "    model.build()\n",
        "    for input_batch, target_batch in zip(raw, [[111 ,2333]]):\n",
        "        data = (input_batch, target_batch)\n",
        "        model.inference(sess, data, load_ckpt=model.ckpt_dir+f'epoch_{model.n_epoch}_attention')"
      ],
      "execution_count": 0,
      "outputs": [
        {
          "output_type": "stream",
          "text": [
            "say something in lower case \n",
            "what do you like\n",
            "INFO:tensorflow:Restoring parameters from ./ckpt_dir/epoch_1001_attention\n",
            "Restore Finished!\n",
            "it's me <pad>\n"
          ],
          "name": "stdout"
        }
      ]
    },
    {
      "cell_type": "code",
      "metadata": {
        "id": "uUlgxX0nqfU4",
        "colab_type": "code",
        "colab": {}
      },
      "source": [
        "!mv 'ckpt_dir' 'drive/My Drive/' "
      ],
      "execution_count": 0,
      "outputs": []
    },
    {
      "cell_type": "code",
      "metadata": {
        "id": "A7W3bglbqfYI",
        "colab_type": "code",
        "colab": {}
      },
      "source": [
        "!cp -r 'drive/My Drive/ckpt_dir/' ckpt_dir/\n",
        "ls ckpt_dir/"
      ],
      "execution_count": 0,
      "outputs": []
    },
    {
      "cell_type": "code",
      "metadata": {
        "id": "PsiFDi1SkyA8",
        "colab_type": "code",
        "outputId": "bc221ee6-d81a-49a6-dcce-4d33532c610c",
        "colab": {
          "base_uri": "https://localhost:8080/",
          "height": 52
        }
      },
      "source": [
        "ls ckpt_dir/"
      ],
      "execution_count": 0,
      "outputs": [
        {
          "output_type": "stream",
          "text": [
            "checkpoint                                epoch_1001_attention.index\n",
            "epoch_1001_attention.data-00000-of-00001\n"
          ],
          "name": "stdout"
        }
      ]
    },
    {
      "cell_type": "code",
      "metadata": {
        "id": "SEdRjbhmqfhF",
        "colab_type": "code",
        "colab": {}
      },
      "source": [
        "!mv 'drive/My Drive/ckpt_dir/' ckpt_dir"
      ],
      "execution_count": 0,
      "outputs": []
    },
    {
      "cell_type": "code",
      "metadata": {
        "id": "6AunOJjJuLn_",
        "colab_type": "code",
        "colab": {}
      },
      "source": [
        ""
      ],
      "execution_count": 0,
      "outputs": []
    }
  ]
}